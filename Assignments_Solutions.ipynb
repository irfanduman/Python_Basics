{
 "cells": [
  {
   "cell_type": "markdown",
   "id": "0340e974",
   "metadata": {},
   "source": [
    "# Assignment-1\n",
    "\n",
    "If you had deposited a coin on the cryptocurrency exchange that brought 7% fixed profit daily for a week, \n",
    "how much would your $ 1000 reach at the end of the 7th day?"
   ]
  },
  {
   "cell_type": "code",
   "execution_count": 2,
   "id": "ff58d7bd",
   "metadata": {},
   "outputs": [
    {
     "name": "stdout",
     "output_type": "stream",
     "text": [
      "1605.7814764784307\n"
     ]
    }
   ],
   "source": [
    "+44 7308 444707amount = 1000\n",
    "with_profit = 1.07\n",
    "no_of_days = 7\n",
    "print(amount * with_profit ** no_of_days)"
   ]
  },
  {
   "cell_type": "code",
   "execution_count": null,
   "id": "a30b1b81",
   "metadata": {},
   "outputs": [],
   "source": []
  },
  {
   "cell_type": "code",
   "execution_count": null,
   "id": "28c2b897",
   "metadata": {},
   "outputs": [],
   "source": []
  },
  {
   "cell_type": "markdown",
   "id": "4421b387",
   "metadata": {},
   "source": [
    "# Assignment-2 (Python - Covid-19 Risk)\n",
    "Task : Estimating the risk of death from coronavirus.\n",
    "\n",
    "Consider the following questions in terms of True/False regarding someone else.\n",
    "\n",
    "Are you a cigarette addict older than 75 years old? Variable → age\n",
    "\n",
    "Do you have a severe chronic disease? Variable → chronic\n",
    "\n",
    "Is your immune system too weak? Variable → immune\n",
    "\n",
    "Set a logical algorithm using boolean logic operators (and/or) and the given variables in order to give us True (there is a risk of death) or False (there is not a risk of death) as a result."
   ]
  },
  {
   "cell_type": "code",
   "execution_count": 1,
   "id": "ea709e87",
   "metadata": {},
   "outputs": [
    {
     "name": "stdout",
     "output_type": "stream",
     "text": [
      "Are you a cigarette addict older than 75 years old? Answer Yes or No. yes\n",
      "Do you have a severe chronic disease? Answer Yes or No. yes\n",
      "Is your immune system too weak? Answer Yes or No. yes\n",
      "There is NO risk of death\n"
     ]
    }
   ],
   "source": [
    "age = input(\"Are you a cigarette addict older than 75 years old? Answer Yes or No. \")\n",
    "chronic = input(\"Do you have a severe chronic disease? Answer Yes or No. \")\n",
    "immune = input(\"Is your immune system too weak? Answer Yes or No. \")\n",
    "\n",
    "if age == \"Yes\":\n",
    "  age = True \n",
    "else:\n",
    "    age = False\n",
    "\n",
    "if chronic == \"Yes\":\n",
    "  chronic = True\n",
    "else:\n",
    "    chronic = False\n",
    "\n",
    "if immune == \"Yes\":\n",
    "  immune = True\n",
    "else:\n",
    "    immune = False\n",
    "\n",
    "if (age and chronic or age and immune or chronic and immune) == True:\n",
    "  print(\"There is a risk of death\")  # High risk of death if at least two \"Yes\"es\n",
    "else:\n",
    "  print(\"There is NO risk of death\")"
   ]
  },
  {
   "cell_type": "code",
   "execution_count": 4,
   "id": "ad48e779",
   "metadata": {},
   "outputs": [
    {
     "name": "stdout",
     "output_type": "stream",
     "text": [
      "Are you a cigarette addict older than 75 years old? Answer Yes or No. Yes\n",
      "Do you have a severe chronic disease? Answer Yes or No. No\n",
      "Is your immune system too weak? Answer Yes or No. No\n",
      "There is NO risk of death\n"
     ]
    }
   ],
   "source": [
    "age = input(\"Are you a cigarette addict older than 75 years old? Answer Yes or No. \")\n",
    "chronic = input(\"Do you have a severe chronic disease? Answer Yes or No. \")\n",
    "immune = input(\"Is your immune system too weak? Answer Yes or No. \")\n",
    "if age == \"Yes\":\n",
    "  age = True\n",
    "elif age == \"No\":\n",
    "  age = False\n",
    "else:\n",
    "    print(\"Error: Input must be 'Yes' or 'No'\")\n",
    "\n",
    "if chronic == \"Yes\":\n",
    "  chronic = True\n",
    "elif chronic == \"No\":\n",
    "  chronic = False\n",
    "else:\n",
    "    print(\"Error: Input must be 'Yes' or 'No'\")\n",
    "\n",
    "if immune == \"Yes\":\n",
    "  immune = True\n",
    "elif immune == \"No\":\n",
    "  immune = False\n",
    "else:\n",
    "    print(\"Error: Input must be 'Yes' or 'No'\")\n",
    "\n",
    "\n",
    "if (age and chronic or age and immune or chronic and immune) == True:\n",
    "    print(\"There is a risk of death\")\n",
    "else:\n",
    "    print(\"There is NO risk of death\")"
   ]
  },
  {
   "cell_type": "code",
   "execution_count": null,
   "id": "a0c22ca7",
   "metadata": {},
   "outputs": [],
   "source": []
  },
  {
   "cell_type": "markdown",
   "id": "2cc1a562",
   "metadata": {},
   "source": [
    "# Assignment-3 (Python - Temperature and Length Conversion)\n",
    "\n",
    "**Task-1:**\n",
    "Write a short Python program that asks the user to enter Celsius temperature (it can be a decimal number), converts the entered temperature into Fahrenheit degree and prints the result.\n",
    "\n",
    "**Task-2:**\n",
    "Write a short Python program that asks the user to enter a distance (it can be a decimal number) in kilometers, converts the entered distance into miles and prints the result."
   ]
  },
  {
   "cell_type": "code",
   "execution_count": 5,
   "id": "14c24bbf",
   "metadata": {},
   "outputs": [
    {
     "name": "stdout",
     "output_type": "stream",
     "text": [
      "Enter the temperature in Celsius: 34\n",
      "The temperature is 93.2 Fahrenheit.\n"
     ]
    }
   ],
   "source": [
    "celsius = float(input(\"Enter the temperature in Celsius: \"))\n",
    "fahrenheit = celsius * 1.8 + 32\n",
    "print(\"The temperature is {} Fahrenheit.\".format(fahrenheit))"
   ]
  },
  {
   "cell_type": "code",
   "execution_count": 6,
   "id": "331e1540",
   "metadata": {},
   "outputs": [
    {
     "name": "stdout",
     "output_type": "stream",
     "text": [
      "Enter the distance in km: 45\n",
      "45.0 km is equivalent to 27.96 miles.\n"
     ]
    }
   ],
   "source": [
    "distance = float(input(\"Enter the distance in km: \"))\n",
    "miles = round((distance * 0.6214), 2)\n",
    "print(\"{} km is equivalent to {} miles.\".format(distance, miles))"
   ]
  },
  {
   "cell_type": "code",
   "execution_count": null,
   "id": "b8380e7a",
   "metadata": {},
   "outputs": [],
   "source": []
  },
  {
   "cell_type": "markdown",
   "id": "f0ea056d",
   "metadata": {},
   "source": [
    "# Assignment-4 - (Python - Boolean Truthy)\n",
    "\n",
    "Using the all following items once each, set a correct boolean expression that returns write me. Use the print() function to display the result. \n",
    "\n",
    "0\n",
    "\n",
    "and\n",
    "\n",
    "not\n",
    "\n",
    "\"write me\""
   ]
  },
  {
   "cell_type": "code",
   "execution_count": 7,
   "id": "63edabc9",
   "metadata": {},
   "outputs": [
    {
     "name": "stdout",
     "output_type": "stream",
     "text": [
      "write me\n"
     ]
    }
   ],
   "source": [
    "print(not 0 and \"write me\")"
   ]
  },
  {
   "cell_type": "code",
   "execution_count": null,
   "id": "233cc39c",
   "metadata": {},
   "outputs": [],
   "source": []
  },
  {
   "cell_type": "markdown",
   "id": "de29cd83",
   "metadata": {},
   "source": [
    "# Assignment-5 (Python - Leap Year)\n",
    "\n",
    "**Task: Find out if a given year is a \"leap\" year.**\n",
    "\n",
    "*In the Gregorian calendar, three criteria must be taken into account to identify leap years:\n",
    "\n",
    "1) The year must be evenly divisible by 4;\n",
    "\n",
    "2) If the year can also be evenly divided by 100, it is not a leap year; unless...\n",
    "\n",
    "3) The year is also evenly divisible by 400. Then it is a leap year.\n",
    "\n",
    "According to these rules, the years 2000 and 2400 are leap years, while 1800, 1900, 2100, 2200, 2300, and 2500 are not the leap years.\n",
    "\n",
    "Write a Python program that;\n",
    "\n",
    "Takes a 4-digit year from the user,\n",
    "\n",
    "Prints True if the given year by the user is a leap year, prints False otherwise.\n",
    "\n",
    "Note that; this question is famous on the web, so that do it yourself to get more benefits from it."
   ]
  },
  {
   "cell_type": "code",
   "execution_count": 6,
   "id": "df0a764c",
   "metadata": {},
   "outputs": [
    {
     "name": "stdout",
     "output_type": "stream",
     "text": [
      "Write a four digit year to find out if it is a 'leap' year: 3200\n",
      "True\n"
     ]
    }
   ],
   "source": [
    "x = int(input(\"Write a four digit year to find out if it is a 'leap' year: \"))\n",
    "\n",
    "case_1 = bool(x % 4 == 0 and x % 100 != 0)\n",
    "case_2 = bool(x % 100 == 0 and x % 400 == 0)\n",
    "\n",
    "print(case_1 or case_2)"
   ]
  },
  {
   "cell_type": "code",
   "execution_count": 8,
   "id": "efe5114f",
   "metadata": {},
   "outputs": [
    {
     "name": "stdout",
     "output_type": "stream",
     "text": [
      "Write a four digit year to find out if it is a 'leap' year: 100\n",
      "False\n"
     ]
    }
   ],
   "source": [
    "x = int(input(\"Write a four digit year to find out if it is a 'leap' year: \"))\n",
    "\n",
    "leap = bool(x % 4 == 0 and x % 100 != 0 or x % 400 == 0)\n",
    "\n",
    "print(leap)"
   ]
  },
  {
   "cell_type": "code",
   "execution_count": null,
   "id": "e79b1ebc",
   "metadata": {},
   "outputs": [],
   "source": []
  },
  {
   "cell_type": "code",
   "execution_count": null,
   "id": "89b44863",
   "metadata": {},
   "outputs": [],
   "source": []
  },
  {
   "cell_type": "markdown",
   "id": "4a41686a",
   "metadata": {},
   "source": [
    "# Assignment-6 (Python - The Most Frequent Element)\n",
    "\n",
    "Task : Find out the most frequent number and its frequency.\n",
    "\n",
    "Write a program that;\n",
    "\n",
    "Finds out the most frequent number in the given list.\n",
    "\n",
    "Calculates its frequency.\n",
    "\n",
    "Prints out the result such as :\n",
    "\n",
    "\n",
    "numbers = [1, 3, 7, 4, 3, 0, 3, 6, 3]\n",
    "\n",
    "the most frequent number is 3 and it was 4 times repeated"
   ]
  },
  {
   "cell_type": "code",
   "execution_count": 1,
   "id": "26d717ad",
   "metadata": {},
   "outputs": [
    {
     "name": "stdout",
     "output_type": "stream",
     "text": [
      "The most frequent number is 3 and it was 4 times repeated\n"
     ]
    }
   ],
   "source": [
    "numbers = [1, 3, 7, 4, 3, 0, 3, 6, 3]\n",
    "\n",
    "frequency_list = [[numbers.count(0), 0], [numbers.count(1), 1], [numbers.count(2), 2], [numbers.count(3), 3], \\\n",
    "             [numbers.count(4), 4], [numbers.count(5), 5], [numbers.count(6), 6], [numbers.count(7), 7]]\n",
    "\n",
    "most_frequent = max(frequency_list)\n",
    "\n",
    "print(\"The most frequent number is {} and it was {} times repeated\".format(most_frequent[1], most_frequent[0]))"
   ]
  },
  {
   "cell_type": "code",
   "execution_count": 5,
   "id": "3df36ed1",
   "metadata": {},
   "outputs": [
    {
     "data": {
      "text/plain": [
       "{'m': 1, 'i': 4, 's': 4, 'p': 2}"
      ]
     },
     "execution_count": 5,
     "metadata": {},
     "output_type": "execute_result"
    }
   ],
   "source": [
    "word = \"mississippi\"\n",
    "counter = {}\n",
    "\n",
    "for letter in word:\n",
    "    if letter not in counter:\n",
    "        counter[letter] = 0\n",
    "    counter[letter] += 1\n",
    "\n",
    "\n",
    "counter"
   ]
  },
  {
   "cell_type": "code",
   "execution_count": 12,
   "id": "5cc1874f",
   "metadata": {},
   "outputs": [
    {
     "data": {
      "text/plain": [
       "{1: 1, 3: 4, 7: 1, 4: 1, 0: 1, 6: 1}"
      ]
     },
     "execution_count": 12,
     "metadata": {},
     "output_type": "execute_result"
    }
   ],
   "source": [
    "numbers2 = [1, 3, 7, 4, 3, 0, 3, 6, 3]\n",
    "counter = {}\n",
    "\n",
    "for number in numbers2:\n",
    "    if number not in counter:\n",
    "        counter[number] = 0\n",
    "    counter[number] += 1\n",
    "    \n",
    "counter"
   ]
  },
  {
   "cell_type": "code",
   "execution_count": null,
   "id": "4e540f78",
   "metadata": {},
   "outputs": [],
   "source": []
  },
  {
   "attachments": {
    "image-2.png": {
     "image/png": "[encoded data removed]"
    },
    "image.png": {
     "image/png": "[encoded data removed]"
    }
   },
   "cell_type": "markdown",
   "id": "c7bd2ca1",
   "metadata": {},
   "source": [
    "# Assignment-7 (Python - Profit Calculation)\n",
    "\n",
    "![image.png](attachment:image.png)\n",
    "\n",
    "![image-2.png](attachment:image-2.png)"
   ]
  },
  {
   "cell_type": "code",
   "execution_count": 46,
   "id": "57c29f61",
   "metadata": {},
   "outputs": [
    {
     "data": {
      "text/plain": [
       "'23.670'"
      ]
     },
     "execution_count": 46,
     "metadata": {},
     "output_type": "execute_result"
    }
   ],
   "source": [
    "float(format(23.67, \".3f\")"
   ]
  },
  {
   "cell_type": "code",
   "execution_count": 13,
   "id": "a363819e",
   "metadata": {},
   "outputs": [
    {
     "name": "stdout",
     "output_type": "stream",
     "text": [
      "The profit will be: $13130.\n"
     ]
    }
   ],
   "source": [
    "# TASK1\n",
    "\n",
    "sales = {\n",
    "  \"cost_value\": 31.87,\n",
    "  \"sell_value\": 45.00,\n",
    "  \"inventory\": 1000\n",
    "}  \n",
    "\n",
    "total_profit = round(sales[\"inventory\"] * (sales[\"sell_value\"] - sales[\"cost_value\"]))\n",
    "\n",
    "print(f\"The profit will be: ${total_profit}.\")"
   ]
  },
  {
   "cell_type": "code",
   "execution_count": 87,
   "id": "1076315f",
   "metadata": {},
   "outputs": [
    {
     "name": "stdout",
     "output_type": "stream",
     "text": [
      "{'Ali': '$3.00', 'Deli': '$29.99', 'Veli': '$4.10'}\n"
     ]
    }
   ],
   "source": [
    "# TASK2\n",
    "\n",
    "# Salaries\n",
    "Ali = 3\n",
    "Deli = 29.99\n",
    "Veli = 4.1\n",
    "\n",
    "payrol = {\"Ali\": \"$\"+format(Ali, \".2f\"), \"Deli\": \"$\"+format(Deli, \".2f\"), \"Veli\": \"$\"+format(Veli, \".2f\")}\n",
    "\n",
    "print(payrol)"
   ]
  },
  {
   "cell_type": "code",
   "execution_count": null,
   "id": "5719862a",
   "metadata": {},
   "outputs": [],
   "source": []
  },
  {
   "cell_type": "markdown",
   "id": "025f57e7",
   "metadata": {},
   "source": [
    "# Assignment-8 (Python - Comfortable Words)\n",
    "**Task : Find out if the given word is \"comfortable words\" in relation to the ten-finger keyboard use.**\n",
    "\n",
    "* A comfortable word is a word which you can type always alternating the hand you type with (assuming you type using a Q-keyboard and use of the ten-fingers standard).\n",
    "* The word will always be a string consisting of only letters from a to z.\n",
    "* Write a program which returns True if it's a comfortable word or False otherwise."
   ]
  },
  {
   "cell_type": "code",
   "execution_count": null,
   "id": "1b120502",
   "metadata": {},
   "outputs": [],
   "source": []
  },
  {
   "cell_type": "code",
   "execution_count": 13,
   "id": "740be2fd",
   "metadata": {},
   "outputs": [
    {
     "name": "stdout",
     "output_type": "stream",
     "text": [
      "Enter a word to see if it is a 'comfortable word': escape\n",
      "True\n",
      "True\n",
      "True\n"
     ]
    }
   ],
   "source": [
    "word_set = set(input(\"Enter a word to see if it is a 'comfortable word': \").lower())\n",
    "\n",
    "left = {'q', 'w', 'e', 'r', 't', 'a', 's', 'd', 'f', 'g', 'z', 'x', 'c', 'v', 'b'}\n",
    "right = {'y', 'u', 'i', 'o', 'p', 'h', 'j', 'k', 'l', 'n', 'm'}\n",
    "\n",
    "\n",
    "print(word_set & left != set() and word_set & right != set())\n",
    "\n",
    "#or\n",
    "\n",
    "print(word_set - left != set() and word_set - right != set())\n",
    "\n",
    "#or\n",
    "\n",
    "print(bool(word_set.difference(right)) and bool(word_set.difference(left)))\n",
    "\n"
   ]
  },
  {
   "cell_type": "code",
   "execution_count": 17,
   "id": "474dbbc4",
   "metadata": {},
   "outputs": [
    {
     "name": "stdout",
     "output_type": "stream",
     "text": [
      "Enter a word to see if it is a 'comfortable word': test\n",
      "False\n",
      "NOT comfortable word\n"
     ]
    }
   ],
   "source": [
    "# \n",
    "\n",
    "word_set = set(input(\"Enter a word to see if it is a 'comfortable word': \").lower())\n",
    "\n",
    "left = {'q', 'w', 'e', 'r', 't', 'a', 's', 'd', 'f', 'g', 'z', 'x', 'c', 'v', 'b'}\n",
    "right = {'y', 'u', 'i', 'o', 'p', 'h', 'j', 'k', 'l', 'n', 'm'}\n",
    "\n",
    "result = word_set & left != set() and word_set & right != set()\n",
    "print(result)\n",
    "\n",
    "print((\"Comfortable word\" * bool(result)) or \"NOT comfortable word\")"
   ]
  },
  {
   "cell_type": "markdown",
   "id": "16dcf215",
   "metadata": {},
   "source": [
    "# Assignment-9 (Python - Password Reminder)\n",
    "\n",
    "**Task : Let's say; you left a message in the past that prints a password you need. To see the password you wrote, you need to enter your name and the program should recognize you.**\n",
    "\n",
    "### Write a program that \n",
    "\n",
    "* Takes the first name from the user and compares it to yours,\n",
    "* Then if the name the user entered is the same as yours, print out such as : \"Hello, Joseph! The password is : W@12\",\n",
    "* If the name the user entered is not the same as yours, print out such as : \"Hello, Amina! See you later.\""
   ]
  },
  {
   "cell_type": "code",
   "execution_count": 3,
   "id": "4c166e3d",
   "metadata": {},
   "outputs": [
    {
     "name": "stdout",
     "output_type": "stream",
     "text": [
      "Enter your name to see the password.irfan\n",
      "Hello Irfan! The password is W@12\n"
     ]
    }
   ],
   "source": [
    "name1 = \"Irfan\"\n",
    "name2 = input(\"Enter your name to see the password.\").title()\n",
    "\n",
    "if name1 == name2:\n",
    "    print(f\"Hello {name2}! The password is W@12\")\n",
    "else:\n",
    "    print(f\"Hello {name2}! See you later.\")"
   ]
  },
  {
   "cell_type": "code",
   "execution_count": null,
   "id": "02200ba8",
   "metadata": {},
   "outputs": [],
   "source": []
  },
  {
   "cell_type": "code",
   "execution_count": null,
   "id": "1e15819e",
   "metadata": {},
   "outputs": [],
   "source": []
  },
  {
   "cell_type": "code",
   "execution_count": null,
   "id": "60e65d88",
   "metadata": {},
   "outputs": [],
   "source": []
  },
  {
   "cell_type": "markdown",
   "id": "af443095",
   "metadata": {},
   "source": [
    "# Assignment-10 (Python - Covid-19 Risk with if Statements)\n",
    "\n",
    "### Problem :\n",
    "\n",
    "* **Task** : Estimating the risk of death from coronavirus. Write a program that;\n",
    "\n",
    "* Takes \"Yes\" or \"No\" from the user as an answer to the following questions :\n",
    "\n",
    "    * Are you a cigarette addict older than 75 years old? Variable → age\n",
    "\n",
    "    * Do you have a severe chronic disease? Variable → chronic\n",
    "\n",
    "    * Is your immune system too weak? Variable → immune\n",
    "\n",
    "\n",
    "Set a logical algorithm using boolean logic operators (and/or) and use if-statements with the given variables in order to print out us a message : \"You are in risky group\"(if True ) or \"You are not in risky group\" (if False)."
   ]
  },
  {
   "cell_type": "code",
   "execution_count": 1,
   "id": "147fd39e",
   "metadata": {},
   "outputs": [
    {
     "name": "stdout",
     "output_type": "stream",
     "text": [
      "Are you a cigarette addict older than 75 years old? Answer Yes or No: yes\n",
      "Do you have a severe chronic disease? Answer Yes or No: yes\n",
      "Is your immune system too weak? Answer Yes or No: no\n",
      "There is a risk of death\n"
     ]
    }
   ],
   "source": [
    "age = input(\"Are you a cigarette addict older than 75 years old? Answer Yes or No: \").title()\n",
    "chronic = input(\"Do you have a severe chronic disease? Answer Yes or No: \").title()\n",
    "immune = input(\"Is your immune system too weak? Answer Yes or No: \").title()\n",
    "if age == \"Yes\":\n",
    "    age = True\n",
    "elif age == \"No\":\n",
    "    age = False\n",
    "else:\n",
    "    print(\"Error: Input must be 'Yes' or 'No'\")\n",
    "\n",
    "if chronic == \"Yes\":\n",
    "    chronic = True\n",
    "elif chronic == \"No\":\n",
    "    chronic = False\n",
    "else:\n",
    "    print(\"Error: Input must be 'Yes' or 'No'\")\n",
    "\n",
    "if immune == \"Yes\":\n",
    "    immune = True\n",
    "elif immune == \"No\":\n",
    "    immune = False\n",
    "else:\n",
    "    print(\"Error: Input must be 'Yes' or 'No'\")\n",
    "\n",
    "\n",
    "if (age and chronic or age and immune or chronic and immune) == True:\n",
    "    print(\"There is a risk of death\")\n",
    "else:\n",
    "    print(\"There is NO risk of death\")"
   ]
  },
  {
   "cell_type": "code",
   "execution_count": 8,
   "id": "a9596a29",
   "metadata": {},
   "outputs": [
    {
     "name": "stdout",
     "output_type": "stream",
     "text": [
      "Are you a cigarette addict older than 75 years old? Answer Yes or No: no\n",
      "Do you have a severe chronic disease? Answer Yes or No: noo\n",
      "Is your immune system too weak? Answer Yes or No: yess\n",
      "ERROR: Make sure all your answers are either 'Yes' or 'No'!\n"
     ]
    }
   ],
   "source": [
    "age = input(\"Are you a cigarette addict older than 75 years old? Answer Yes or No: \").title().strip\n",
    "chronic = input(\"Do you have a severe chronic disease? Answer Yes or No: \").title().strip\n",
    "immune = input(\"Is your immune system too weak? Answer Yes or No: \").title().strip\n",
    "\n",
    "if age == \"Yes\" or chronic == \"Yes\" or immune == \"Yes\":\n",
    "    print(\"You are in risky group\")\n",
    "\n",
    "elif age == \"No\" and chronic == \"No\" and immune == \"No\":\n",
    "    print(\"You are NOT in risky group\")\n",
    "\n",
    "else:\n",
    "    print(\"ERROR: Make sure all your answers are either 'Yes' or 'No'!\")"
   ]
  },
  {
   "cell_type": "code",
   "execution_count": 12,
   "id": "6007ee20",
   "metadata": {},
   "outputs": [
    {
     "name": "stdout",
     "output_type": "stream",
     "text": [
      "Are you a cigarette addict older than 75 years old? Answer Yes or No: yes\n",
      "Do you have a severe chronic disease? Answer Yes or No: yess\n",
      "Is your immune system too weak? Answer Yes or No: yess\n",
      "You are in risky group\n"
     ]
    }
   ],
   "source": [
    "age = input(\"Are you a cigarette addict older than 75 years old? Answer Yes or No: \").title().strip\n",
    "chronic = input(\"Do you have a severe chronic disease? Answer Yes or No: \").title().strip\n",
    "immune = input(\"Is your immune system too weak? Answer Yes or No: \").title().strip\n",
    "\n",
    "if (age == \"Yes\" and chronic == \"Yes\") or (age == \"Yes\" and immune == \"Yes\") or (chronic == \"Yes\" and immune == \"Yes\"):\n",
    "    print(\"You are in HIGH RISK group\")\n",
    "\n",
    "elif age == \"Yes\" or chronic == \"Yes\" or immune == \"Yes\":\n",
    "    print(\"You are in risky group\")\n",
    "\n",
    "elif age == \"No\" and chronic == \"No\" and immune == \"No\":\n",
    "    print(\"You are NOT in risky group\")\n",
    "\n",
    "else:\n",
    "    print(\"ERROR: Make sure all your answers are either 'Yes' or 'No'!\")"
   ]
  },
  {
   "cell_type": "code",
   "execution_count": 5,
   "id": "a4677a63",
   "metadata": {},
   "outputs": [
    {
     "name": "stdout",
     "output_type": "stream",
     "text": [
      "Are you a cigarette addict older than 75 years old? Answer Yes or No: yes\n",
      "Do you have a severe chronic disease? Answer Yes or No: no\n",
      "Is your immune system too weak? Answer Yes or No: no\n"
     ]
    },
    {
     "data": {
      "text/plain": [
       "'You are NOT in risky group'"
      ]
     },
     "execution_count": 5,
     "metadata": {},
     "output_type": "execute_result"
    }
   ],
   "source": [
    "# SHORT SOLUTION\n",
    "\n",
    "age = input(\"Are you a cigarette addict older than 75 years old? Answer Yes or No: \").title().strip\n",
    "chronic = input(\"Do you have a severe chronic disease? Answer Yes or No: \").title().strip\n",
    "immune = input(\"Is your immune system too weak? Answer Yes or No: \").title().strip\n",
    "\n",
    "\"You are in risky group\" if age == \"Yes\" or chronic == \"Yes\" or immune == \"Yes\" else \"You are NOT in risky group\""
   ]
  },
  {
   "cell_type": "code",
   "execution_count": 6,
   "id": "f228e462",
   "metadata": {},
   "outputs": [
    {
     "name": "stdout",
     "output_type": "stream",
     "text": [
      "Are you a cigarette addict older than 75 years old? Answer Yes or No: no\n",
      "Do you have a severe chronic disease? Answer Yes or No: no\n",
      "Is your immune system too weak? Answer Yes or No: noooo\n"
     ]
    },
    {
     "data": {
      "text/plain": [
       "'You are NOT in risky group'"
      ]
     },
     "execution_count": 6,
     "metadata": {},
     "output_type": "execute_result"
    }
   ],
   "source": [
    "# SHORTER SOLUTION\n",
    "\n",
    "age = input(\"Are you a cigarette addict older than 75 years old? Answer Yes or No: \").title().strip == \"Yes\"\n",
    "chronic = input(\"Do you have a severe chronic disease? Answer Yes or No: \").title().strip == \"Yes\"\n",
    "immune = input(\"Is your immune system too weak? Answer Yes or No: \").title().strip == \"Yes\"\n",
    "\n",
    "\"You are in risky group\" if age or chronic or immune else \"You are NOT in risky group\""
   ]
  },
  {
   "cell_type": "markdown",
   "id": "c4705fbb",
   "metadata": {},
   "source": [
    "# Assignment-11 (Python - Leap Years)\n",
    "\n",
    "**Task: Find out if a given year is a \"leap\" year.**\n",
    "\n",
    "*In the Gregorian calendar, three criteria must be taken into account to identify leap years:\n",
    "\n",
    "1) The year must be evenly divisible by 4;\n",
    "\n",
    "2) If the year can also be evenly divided by 100, it is not a leap year; unless...\n",
    "\n",
    "3) The year is also evenly divisible by 400. Then it is a leap year.\n",
    "\n",
    "According to these rules, the years 2000 and 2400 are leap years, while 1800, 1900, 2100, 2200, 2300, and 2500 are not the leap years.\n",
    "\n",
    "* Write a Python program that prints such as **\"2020 is a leap year\"** if the given year by the user is a **leap** year, prints such as **\"2019 is not a leap year\"** otherwise."
   ]
  },
  {
   "cell_type": "code",
   "execution_count": 22,
   "id": "edc8c76f",
   "metadata": {},
   "outputs": [
    {
     "name": "stdout",
     "output_type": "stream",
     "text": [
      "Write a four digit year to find out if it is a 'leap' year: 4100\n",
      "4100 is NOT a leap year\n"
     ]
    }
   ],
   "source": [
    "x = int(input(\"Write a four digit year to find out if it is a 'leap' year: \"))\n",
    "\n",
    "if x % 4 == 0:\n",
    "    if x % 100 == 0:\n",
    "        if x % 400 == 0:\n",
    "            print(f\"{x} is a leap year\")\n",
    "        else:\n",
    "            print(f\"{x} is NOT a leap year\")\n",
    "    else:\n",
    "        print(f\"{x} is a leap year\")\n",
    "\n",
    "else:\n",
    "    print(f\"{x} is NOT a leap year\")"
   ]
  },
  {
   "cell_type": "code",
   "execution_count": 10,
   "id": "52b027e0",
   "metadata": {},
   "outputs": [
    {
     "name": "stdout",
     "output_type": "stream",
     "text": [
      "Write a four digit year to find out if it is a 'leap' year: 1200\n",
      "1200 is a leap year\n"
     ]
    }
   ],
   "source": [
    "x = int(input(\"Write a four digit year to find out if it is a 'leap' year: \"))\n",
    "\n",
    "if x % 4 == 0 and x % 100 != 0:\n",
    "    print(f\"{x} is a leap year\")\n",
    "\n",
    "elif x % 100 == 0 and x % 400 == 0:\n",
    "            print(f\"{x} is a leap year\")\n",
    "\n",
    "else:\n",
    "    print(f\"{x} is NOT a leap year\")"
   ]
  },
  {
   "cell_type": "code",
   "execution_count": 15,
   "id": "ad46d16a",
   "metadata": {},
   "outputs": [
    {
     "name": "stdout",
     "output_type": "stream",
     "text": [
      "Write a four digit year to find out if it is a 'leap' year: 12\n",
      "12 is a leap year\n"
     ]
    }
   ],
   "source": [
    "x = int(input(\"Write a four digit year to find out if it is a 'leap' year: \"))\n",
    "\n",
    "if x % 400 == 0:\n",
    "    print(f\"{x} is a leap year\")\n",
    "\n",
    "elif x % 100 == 0:\n",
    "            print(f\"{x} is NOT a leap year\")\n",
    "\n",
    "elif x % 4 == 0:\n",
    "    print(f\"{x} is a leap year\")\n",
    "\n",
    "else:\n",
    "    print(f\"{x} is NOT a leap year\")"
   ]
  },
  {
   "cell_type": "markdown",
   "id": "905390c3",
   "metadata": {},
   "source": [
    "# Assignment-12 (Python - Is It an Armstrong Number?)\n",
    "\n",
    "**Task: Find out if a given number is an \"Armstrong Number\".**\n",
    "\n",
    "* An n-digit number that is the sum of the nth powers of its digits is called an n-Armstrong number. Examples :\n",
    "    1. 371 = 3^3 + 7^3 + 1^3;\n",
    "    2. 9474 = 9^4 + 4^4 + 7^4 + 4^4;\n",
    "    3. 93084 = 9^5 + 3^5 + 0^5 + 8^5 + 4^5.\n",
    "\n",
    "\n",
    "\n",
    "* Write a Python program that;\n",
    "    1. takes a positive integer number from the user,\n",
    "    2. checks the entered number if it is Armstrong,\n",
    "    3. consider the negative, float and any entries other than numeric values then display a warning message to the user."
   ]
  },
  {
   "cell_type": "code",
   "execution_count": 18,
   "id": "ce4d0454",
   "metadata": {},
   "outputs": [
    {
     "name": "stdout",
     "output_type": "stream",
     "text": [
      "Enter a positive integer: -12\n",
      "ERROR! You made an incorrect entry.\n",
      "Enter a positive integer: das\n",
      "ERROR! You made an incorrect entry.\n",
      "Enter a positive integer: 0\n",
      "0 is an Armstrong number.\n"
     ]
    }
   ],
   "source": [
    "n = input(\"Enter a positive integer: \")\n",
    "\n",
    "while not n.isdigit():\n",
    "    print(\"ERROR! You made an incorrect entry.\")\n",
    "    n = input(\"Enter a positive integer: \")\n",
    "\n",
    "digits = []\n",
    "\n",
    "for i in n:\n",
    "    digits.append(int(i)**len(n))\n",
    "\n",
    "digit_sum = sum(digits)\n",
    "\n",
    "if digit_sum == int(n):\n",
    "    print(f\"{n} is an Armstrong number.\")\n",
    "\n",
    "else:\n",
    "    print(f\"{n} is NOT an Armstrong number.\")"
   ]
  },
  {
   "cell_type": "markdown",
   "id": "6a957b16",
   "metadata": {},
   "source": [
    "# Assignment-13 (Python - Is it a Prime Number?)\n",
    "\n",
    "* Task : Write a program that takes a number from the user and prints the result to check if it is a prime number.\n",
    "\n",
    "    The examples of the desired output are as follows :\n",
    "\n",
    "    * input →  19 ⇉ output : 19 is a prime number\n",
    "    * input →  10 ⇉ output : 10 is not a prime number\n",
    "    \n",
    "    \n",
    "* Note that ⚠ : This question is famous on the web, so to get more benefit from this assignment, try to complete this task on your own. "
   ]
  },
  {
   "cell_type": "code",
   "execution_count": null,
   "id": "6f0161e3",
   "metadata": {},
   "outputs": [],
   "source": [
    "n = int(input('Enter a number to check if it is a prime number : '))\n",
    "\n",
    "no_of_factors = 0\n",
    "\n",
    "for i in range(1, n+1):\n",
    "    if n % i == 0:\n",
    "        no_of_factors += 1\n",
    "\n",
    "if no_of_factors == 2:\n",
    "    print(f\"{n} is a prime number\")\n",
    "\n",
    "else:\n",
    "    print(f\"{n} is NOT a prime number\")"
   ]
  },
  {
   "cell_type": "code",
   "execution_count": null,
   "id": "f4fb1348",
   "metadata": {},
   "outputs": [],
   "source": []
  },
  {
   "cell_type": "markdown",
   "id": "2214857f",
   "metadata": {},
   "source": [
    "# Assignment-14 (Python - Fibonacci Numbers)\n",
    "\n",
    "**Task :** Create a list consisting of Fibonacci numbers from 1 to 55 using control flow statements and range() function.\n",
    "\n",
    "    The desired output is like this:\n",
    "\n",
    "    fibonacci →  [1, 1, 2, 3, 5, 8, 13, 21, 34, 55]"
   ]
  },
  {
   "cell_type": "code",
   "execution_count": 5,
   "id": "1ad915bd",
   "metadata": {},
   "outputs": [
    {
     "name": "stdout",
     "output_type": "stream",
     "text": [
      "[1, 1, 2, 3, 5, 8, 13, 21, 34, 55]\n"
     ]
    }
   ],
   "source": [
    "fibonacci = [1, 1]\n",
    "a = 1\n",
    "b = 1\n",
    "\n",
    "for n in range(56):\n",
    "    if n == a + b:\n",
    "        fibonacci.append(n)\n",
    "        a = b\n",
    "        b = n\n",
    "    \n",
    "print(fibonacci)"
   ]
  },
  {
   "cell_type": "code",
   "execution_count": 6,
   "id": "bf152396",
   "metadata": {},
   "outputs": [
    {
     "name": "stdout",
     "output_type": "stream",
     "text": [
      "[1, 1, 2, 3, 5, 8, 13, 21, 34, 55]\n"
     ]
    }
   ],
   "source": [
    "fibonacci = [1]\n",
    "a = 0\n",
    "b = 1\n",
    "\n",
    "for n in range(56):\n",
    "    if n == a + b:\n",
    "        fibonacci.append(n)\n",
    "        a = b\n",
    "        b = n\n",
    "    \n",
    "print(fibonacci)"
   ]
  },
  {
   "cell_type": "code",
   "execution_count": 25,
   "id": "b9138a2d",
   "metadata": {},
   "outputs": [
    {
     "name": "stdout",
     "output_type": "stream",
     "text": [
      "[1, 1, 2, 3, 5, 8, 13, 21, 34, 55]\n"
     ]
    }
   ],
   "source": [
    "fibo = [1, 1]\n",
    "for i in range(8):\n",
    "    fibo.append(fibo[i] + fibo[i+1])\n",
    "    \n",
    "print(fibo)"
   ]
  },
  {
   "cell_type": "code",
   "execution_count": 24,
   "id": "c63f4ef9",
   "metadata": {},
   "outputs": [
    {
     "ename": "SyntaxError",
     "evalue": "invalid syntax (3066163622.py, line 2)",
     "output_type": "error",
     "traceback": [
      "\u001b[0;36m  Cell \u001b[0;32mIn [24], line 2\u001b[0;36m\u001b[0m\n\u001b[0;31m    for (i+i+1) < 56:\u001b[0m\n\u001b[0m                ^\u001b[0m\n\u001b[0;31mSyntaxError\u001b[0m\u001b[0;31m:\u001b[0m invalid syntax\n"
     ]
    }
   ],
   "source": [
    "fibo = [1, 1]\n",
    "for (i+i+1) < 56:\n",
    "    fibo.append(fibo[i] + fibo[i+1])\n",
    "    \n",
    "print(fibo)"
   ]
  },
  {
   "cell_type": "markdown",
   "id": "c6172cf5",
   "metadata": {},
   "source": [
    "# Assignment-15 (Python - Prime Numbers)\n",
    "\n",
    "**Task :** Print the prime numbers which are between 1 to entered limit number (n).\n",
    "\n",
    "    * You can use a nested for loop.\n",
    "    * Collect all these numbers into a list\n",
    "    \n",
    "* The desired output for n=100 :\n",
    "\n",
    "[2, 3, 5, 7, 11, 13, 17, 19, 23, 29, 31, 37, 41, 43, 47, 53, 59, 61, 67, 71, 73, 79, 83, 89, 97]\n",
    "\n",
    "\n",
    "**Note that :** This question is famous on the web, so to get more benefit from this assignment, try to complete this task on your own."
   ]
  },
  {
   "cell_type": "code",
   "execution_count": 21,
   "id": "1c91b929",
   "metadata": {},
   "outputs": [
    {
     "name": "stdout",
     "output_type": "stream",
     "text": [
      "Enter a number to see list of all primes up to that number: 12\n",
      "The list of prime numers between 1 and 12: \n",
      " [2, 3, 5, 7, 11]\n"
     ]
    }
   ],
   "source": [
    "limit = int(input(\"Enter a number to see list of all primes up to that number: \"))\n",
    "\n",
    "primes = []\n",
    "\n",
    "for n in range (2, limit):\n",
    "    no_of_factors = 0\n",
    "    for i in range(1,n+1):\n",
    "        if n % i == 0:  \n",
    "            no_of_factors += 1\n",
    "    if no_of_factors == 2:  # check if it has exactly two factors\n",
    "        primes.append(n)  # append to primes if it has exactly two primes\n",
    "        \n",
    "print(f\"The list of prime numers between 1 and {limit}:\", \"\\n\", primes)"
   ]
  },
  {
   "cell_type": "code",
   "execution_count": 22,
   "id": "d26bfe01",
   "metadata": {},
   "outputs": [
    {
     "name": "stdout",
     "output_type": "stream",
     "text": [
      "Enter a number to see list of all primes up to that number: 30\n",
      "[2, 3, 5, 7, 11, 13, 17, 19, 23, 29]\n"
     ]
    }
   ],
   "source": [
    "# SOLUTION BY EDWIN INSTRUCTOR\n",
    "\n",
    "number = int(input(\"Enter a number to see list of all primes up to that number: \"))\n",
    "\n",
    "prime_list = []\n",
    "\n",
    "for i in range (2, number) :\n",
    "    for j in range(2, i) :\n",
    "        if i % j == 0 :\n",
    "            break\n",
    "    else :\n",
    "        prime_list.append(i)\n",
    "\n",
    "print(prime_list)"
   ]
  },
  {
   "cell_type": "code",
   "execution_count": 23,
   "id": "8290ef09",
   "metadata": {},
   "outputs": [
    {
     "name": "stdout",
     "output_type": "stream",
     "text": [
      "Enter a number to see list of all primes up to that number: 30\n",
      "The list of prime numers between 1 and 30: \n",
      " [2, 3, 5, 7, 11, 13, 17, 19, 23, 29]\n"
     ]
    }
   ],
   "source": [
    "limit = int(input(\"Enter a number to see list of all primes up to that number: \"))\n",
    "\n",
    "primes = []\n",
    "\n",
    "for n in range (2, limit):\n",
    "    no_of_factors = 0\n",
    "    for i in range(2,n):\n",
    "        if n % i == 0:  \n",
    "            no_of_factors += 1\n",
    "    if no_of_factors == 0:  # check if it has exactly two factors\n",
    "        primes.append(n)  # append to primes if it has exactly two primes\n",
    "        \n",
    "print(f\"The list of prime numers between 1 and {limit}:\", \"\\n\", primes)"
   ]
  },
  {
   "cell_type": "markdown",
   "id": "74da12e7",
   "metadata": {},
   "source": [
    "# Assignment-16 (Python - Fizz - Buzz Numbers)\n",
    "\n",
    "* **Task :** Print the **Fizz Buzz** numbers.\n",
    "\n",
    "* **Fizz Buzz** is a famous code challenge used in interviews to test basic programming skills. It's time to write your own implementation.\n",
    "* Print numbers from 1 to 100 inclusively following these instructions:\n",
    "    1. if a number is multiple of 3, print \"Fizz\" instead of this number,\n",
    "    2. if a number is multiple of 5, print \"Buzz\" instead of this number,\n",
    "    3. for numbers that are multiples of both 3 and 5, print \"FizzBuzz\",\n",
    "    4. print the rest of the numbers unchanged.\n",
    "\n",
    "\n",
    "* Output each value on a separate line.\n",
    "* **Note that :** This question is famous on the web, so to get more benefit from this assignment, try to complete this task on your own.\n",
    "\n",
    "\n",
    "        * Easy level: Just solve it\n",
    "        * Hard level : Don't use '=='"
   ]
  },
  {
   "cell_type": "code",
   "execution_count": 25,
   "id": "0cf605dd",
   "metadata": {},
   "outputs": [
    {
     "name": "stdout",
     "output_type": "stream",
     "text": [
      "1 2 Fizz 4 Buzz Fizz 7 8 Fizz Buzz 11 Fizz 13 14 FizzBuzz 16 17 Fizz 19 Buzz Fizz 22 23 Fizz Buzz 26 Fizz 28 29 FizzBuzz 31 32 Fizz 34 Buzz Fizz 37 38 Fizz Buzz 41 Fizz 43 44 FizzBuzz 46 47 Fizz 49 Buzz Fizz 52 53 Fizz Buzz 56 Fizz 58 59 FizzBuzz 61 62 Fizz 64 Buzz Fizz 67 68 Fizz Buzz 71 Fizz 73 74 FizzBuzz 76 77 Fizz 79 Buzz Fizz 82 83 Fizz Buzz 86 Fizz 88 89 FizzBuzz 91 92 Fizz 94 Buzz Fizz 97 98 Fizz Buzz "
     ]
    }
   ],
   "source": [
    "for i in range(1, 101):\n",
    "    if i % 15 == 0:\n",
    "        print(\"FizzBuzz\", end=\" \")\n",
    "    elif i % 3 == 0:\n",
    "        print(\"Fizz\", end=\" \")\n",
    "    elif i % 5 == 0:\n",
    "        print(\"Buzz\", end=\" \")\n",
    "    else:\n",
    "        print(i, end=\" \")"
   ]
  },
  {
   "cell_type": "code",
   "execution_count": null,
   "id": "530612fa",
   "metadata": {},
   "outputs": [],
   "source": [
    "for i in range(1, 101):\n",
    "    if not i % 15 :\n",
    "        print(\"FizzBuzz\")\n",
    "    elif not i % 3 :\n",
    "        print(\"Fizz\")\n",
    "    elif not i % 5 :\n",
    "        print(\"Buzz\")\n",
    "    else:\n",
    "        print(i)"
   ]
  },
  {
   "cell_type": "code",
   "execution_count": 5,
   "id": "37f932bb",
   "metadata": {},
   "outputs": [
    {
     "name": "stdout",
     "output_type": "stream",
     "text": [
      "1\n",
      "2\n",
      "Fizz\n",
      "4\n",
      "Buzz\n",
      "Fizz\n",
      "7\n",
      "8\n",
      "Fizz\n",
      "Buzz\n"
     ]
    }
   ],
   "source": [
    "for i in range(1, 11):\n",
    "    print(\"FizzBuzz\" if not i % 15 else \"Fizz\" if not i % 3 else \"Buzz\" if not i % 5 else i)"
   ]
  },
  {
   "cell_type": "code",
   "execution_count": 38,
   "id": "96f44c89",
   "metadata": {},
   "outputs": [],
   "source": [
    "import math"
   ]
  },
  {
   "cell_type": "code",
   "execution_count": 39,
   "id": "b6c1272e",
   "metadata": {},
   "outputs": [
    {
     "ename": "ModuleNotFoundError",
     "evalue": "No module named 'numpy'",
     "output_type": "error",
     "traceback": [
      "\u001b[0;31m---------------------------------------------------------------------------\u001b[0m",
      "\u001b[0;31mModuleNotFoundError\u001b[0m                       Traceback (most recent call last)",
      "Cell \u001b[0;32mIn [39], line 1\u001b[0m\n\u001b[0;32m----> 1\u001b[0m \u001b[38;5;28;01mimport\u001b[39;00m \u001b[38;5;21;01mnumpy\u001b[39;00m \u001b[38;5;28;01mas\u001b[39;00m \u001b[38;5;21;01mnp\u001b[39;00m\n",
      "\u001b[0;31mModuleNotFoundError\u001b[0m: No module named 'numpy'"
     ]
    }
   ],
   "source": [
    "import numpy as np"
   ]
  },
  {
   "cell_type": "code",
   "execution_count": 27,
   "id": "79266d07",
   "metadata": {},
   "outputs": [
    {
     "data": {
      "text/plain": [
       "'Greater than 1'"
      ]
     },
     "execution_count": 27,
     "metadata": {},
     "output_type": "execute_result"
    }
   ],
   "source": [
    "a = np.random\n",
    "\"Less than zero\" if a < 0 else \"Between 0 and 1\" if 0 <= a <= 1 else \"Greater than 1\""
   ]
  },
  {
   "cell_type": "markdown",
   "id": "891949dc",
   "metadata": {},
   "source": [
    "# Assignment-17 (Python - Letters Count)\n",
    "\n",
    "**Task:**\n",
    "\n",
    "Count the number of each letter in a sentence.\n",
    "* The department you work for undertook a project construction that makes word / text analysis. You are asked to calculate the number of letters or any chars in the sentences entered under this project.\n",
    "* Write a Python program that;\n",
    "    1. takes a sentence from the user,\n",
    "    2. counts the number of each letter/chars of the sentence,\n",
    "    3. collects the letters/chars as a key and the counted numbers as a value in a **dictionary**.\n"
   ]
  },
  {
   "cell_type": "code",
   "execution_count": null,
   "id": "0b25ce1b",
   "metadata": {},
   "outputs": [],
   "source": []
  },
  {
   "cell_type": "code",
   "execution_count": null,
   "id": "864b2307",
   "metadata": {},
   "outputs": [],
   "source": []
  },
  {
   "cell_type": "code",
   "execution_count": null,
   "id": "6a60f722",
   "metadata": {},
   "outputs": [],
   "source": []
  }
 ],
 "metadata": {
  "kernelspec": {
   "display_name": "Python 3 (ipykernel)",
   "language": "python",
   "name": "python3"
  },
  "language_info": {
   "codemirror_mode": {
    "name": "ipython",
    "version": 3
   },
   "file_extension": ".py",
   "mimetype": "text/x-python",
   "name": "python",
   "nbconvert_exporter": "python",
   "pygments_lexer": "ipython3",
   "version": "3.9.13"
  }
 },
 "nbformat": 4,
 "nbformat_minor": 5
}
