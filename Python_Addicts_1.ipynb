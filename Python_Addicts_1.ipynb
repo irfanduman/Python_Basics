{
 "cells": [
  {
   "cell_type": "markdown",
   "id": "1e31aae1",
   "metadata": {},
   "source": [
    "# Odd/Even % Divisibility by 3 - bool()"
   ]
  },
  {
   "cell_type": "code",
   "execution_count": 34,
   "id": "742b5bda",
   "metadata": {},
   "outputs": [
    {
     "name": "stdout",
     "output_type": "stream",
     "text": [
      "Write an integer number: 56\n",
      "56 is an even number and it can NOT be divided into 3.\n"
     ]
    }
   ],
   "source": [
    "x = int(float(input(\"Write an integer number: \")))\n",
    "\n",
    "even_odd = bool(x % 2 == 0) and \"even\" or bool(x % 2 != 0) and \"odd\"\n",
    "div_by_3 = bool(x % 3 == 0) and \"can\" or bool(x % 3 != 0) and \"can NOT\"\n",
    "\n",
    "print(f\"{x} is an {even_odd} number and it {div_by_3} be divided into 3.\")"
   ]
  },
  {
   "cell_type": "code",
   "execution_count": null,
   "id": "e1880f37",
   "metadata": {},
   "outputs": [],
   "source": []
  },
  {
   "cell_type": "markdown",
   "id": "4e8cd0a5",
   "metadata": {},
   "source": [
    "# Forming a Trinagle - Boolean"
   ]
  },
  {
   "cell_type": "code",
   "execution_count": 35,
   "id": "58d53938",
   "metadata": {},
   "outputs": [
    {
     "name": "stdout",
     "output_type": "stream",
     "text": [
      "Enter the first angle: 50\n",
      "Enter the second angle: 80\n",
      "Enter the third angle: 50\n",
      "True\n"
     ]
    }
   ],
   "source": [
    "angle1 = int(input(\"Enter the first angle: \"))\n",
    "angle2 = int(input(\"Enter the second angle: \"))\n",
    "angle3 = int(input(\"Enter the third angle: \"))\n",
    "print((angle1+angle2+angle3 == 180) and (angle1 != 0 and angle2 != 0 and angle3 != 0) and \\\n",
    "      (angle1+angle2 >= angle3 and angle1+angle3 >= angle2 and angle2+angle3 >= angle1))"
   ]
  },
  {
   "cell_type": "code",
   "execution_count": null,
   "id": "5293f0eb",
   "metadata": {},
   "outputs": [],
   "source": []
  },
  {
   "cell_type": "code",
   "execution_count": null,
   "id": "69969c1d",
   "metadata": {},
   "outputs": [],
   "source": []
  },
  {
   "cell_type": "code",
   "execution_count": null,
   "id": "29316dd5",
   "metadata": {},
   "outputs": [],
   "source": []
  },
  {
   "cell_type": "code",
   "execution_count": null,
   "id": "0b3cb622",
   "metadata": {},
   "outputs": [],
   "source": []
  },
  {
   "cell_type": "markdown",
   "id": "e864e4c1",
   "metadata": {},
   "source": [
    "# Task: (20 Oct 2020)\n",
    "\n",
    "\"Her gün, her hafta, bilgime yeni bilgiler katıyorum, bu beni çok motive ediyor.\" textinde her virgülden sonra \"#\" karakteri, her boşluktan sonra da \"_\" karakteri gelsin istiyoruz.\n",
    "\n",
    "Bu soruda farklı çözümler bekliyorum.\n",
    "split() ve join() metodlarını kullanabilirsiniz. \n",
    "\n",
    "E madem öğrendiniz, belirtilen karakterler yerine chr() fonksiyonunu kullanmayı da düşünürsünüz di mi?"
   ]
  },
  {
   "cell_type": "code",
   "execution_count": null,
   "id": "96966887",
   "metadata": {},
   "outputs": [],
   "source": [
    "text = \"Her gün, her hafta, bilgime yeni bilgiler katıyorum, bu beni çok motive ediyor.\"\n",
    "print(text.replace(\",\", \",#\").replace(\" \", \" _\"))"
   ]
  },
  {
   "cell_type": "code",
   "execution_count": null,
   "id": "73121a1f",
   "metadata": {},
   "outputs": [],
   "source": [
    "ord(\"#\")"
   ]
  },
  {
   "cell_type": "code",
   "execution_count": null,
   "id": "271f3cdb",
   "metadata": {},
   "outputs": [],
   "source": [
    "chr(35)"
   ]
  },
  {
   "cell_type": "code",
   "execution_count": null,
   "id": "eae452f4",
   "metadata": {},
   "outputs": [],
   "source": [
    "text = \"Her gün, her hafta, bilgime yeni bilgiler katıyorum, bu beni çok motive ediyor.\"\n",
    "print(text.replace(\",\", \",\"+chr(35)).replace(\" \", \" \"+chr(95)))"
   ]
  },
  {
   "cell_type": "code",
   "execution_count": null,
   "id": "b21b6556",
   "metadata": {},
   "outputs": [],
   "source": [
    "a = 50  # angle 1\n",
    "b = 60  # angle 2\n",
    "c = 70  # angle 3\n",
    "possible = (a != 0 and b != 0 and c != 0 and ((a + b + c) == 180))\\\n",
    "           and ((a + b) >= c or (b + c) >= a or (a + c) >= b)\n",
    "possible "
   ]
  },
  {
   "cell_type": "markdown",
   "id": "cf485477",
   "metadata": {},
   "source": [
    "# Task : .split()  and .join()\n",
    "\n",
    "\"Her gün, her hafta, bilgime yeni bilgiler katıyorum, bu beni çok motive ediyor.\" textinde her virgülden sonra \"#\" karakteri, her boşluktan sonra da \"_\" karakteri gelsin istiyoruz.\n",
    "\n",
    "Bu soruda farklı çözümler bekliyorum.\n",
    "\n",
    "split() ve join() metodlarını kullanabilirsiniz. E madem öğrendiniz, belirtilen karakterler yerine chr() fonksiyonunu kullanmayı da düşünürsünüz di mi. "
   ]
  },
  {
   "cell_type": "code",
   "execution_count": null,
   "id": "9c33256b",
   "metadata": {},
   "outputs": [],
   "source": [
    "text = \"Her gün, her hafta, bilgime yeni bilgiler katıyorum, bu beni çok motive ediyor.\"\n",
    "splitted_text1 = text.split(\",\")\n",
    "joined_text1 = \",#\".join(splitted_text1)\n",
    "splitted_text2 = joined_text1.split()\n",
    "Final_Text = \" _\".join(splitted_text2)\n",
    "\n",
    "print(Final_Text)"
   ]
  },
  {
   "cell_type": "code",
   "execution_count": null,
   "id": "f5bc6800",
   "metadata": {},
   "outputs": [],
   "source": []
  },
  {
   "cell_type": "code",
   "execution_count": null,
   "id": "180f8291",
   "metadata": {},
   "outputs": [],
   "source": []
  },
  {
   "cell_type": "markdown",
   "id": "a6429fd8",
   "metadata": {},
   "source": [
    "# Task (20 Oct 2020) - List Indexing\n",
    "#Bir cicekcide içiçe 3 büyük sepet vardır. En içteki en küçük sepette karanfil, papatya ve gül vardır.\n",
    "\n",
    "#En küçük sepetin içinde olduğu orta boylu sepette bir de lale vardır.\n",
    "\n",
    "#tüm bunların içinde olduğu en büyük sepette ise bunlara ilaveten menekşe, nergis ve sümbül vardır.\n",
    "\n",
    "#Çiçeklerden bir liste oluşturarak, string format metoduyla çiçekçiden 2 adet gül ve 3 adet lale istediğinizi belirten bir kod yazınız."
   ]
  },
  {
   "cell_type": "code",
   "execution_count": null,
   "id": "6030862c",
   "metadata": {},
   "outputs": [],
   "source": [
    "cicekler = [[[\"karanfil\", \"papatya\", \"gul\"], \"lale\"], \"menekse\", \"nergis\", \"sumbul\"]\n",
    "text = \"2 adet {} ve 3 adet {} alabilir miyim?\"\n",
    "\n",
    "print(text.format(cicekler[0][0][2], cicekler[0][1]))"
   ]
  },
  {
   "cell_type": "code",
   "execution_count": null,
   "id": "9b6c73aa",
   "metadata": {},
   "outputs": [],
   "source": []
  },
  {
   "cell_type": "code",
   "execution_count": null,
   "id": "0283356c",
   "metadata": {},
   "outputs": [],
   "source": []
  },
  {
   "cell_type": "code",
   "execution_count": null,
   "id": "68096596",
   "metadata": {},
   "outputs": [],
   "source": []
  },
  {
   "cell_type": "code",
   "execution_count": null,
   "id": "3f3b8d7e",
   "metadata": {},
   "outputs": [],
   "source": []
  },
  {
   "cell_type": "markdown",
   "id": "c2414eb0",
   "metadata": {},
   "source": [
    "Write a program to add item 7000 after 6000 in the following Python List\n",
    "\n",
    "list = [10, 20, [300, 400, [5000, 6000], 500], 30, 40]\n",
    "\n",
    "Expected output:\n",
    "[10, 20, [300, 400, [5000, 6000, 7000], 500], 30, 40]"
   ]
  },
  {
   "cell_type": "code",
   "execution_count": null,
   "id": "d73370f5",
   "metadata": {},
   "outputs": [],
   "source": [
    "list = [10, 20, [300, 400, [5000, 6000], 500], 30, 40]\n",
    "\n",
    "list[2][2].append(7000)\n",
    "\n",
    "print(list)"
   ]
  },
  {
   "cell_type": "markdown",
   "id": "edca8923",
   "metadata": {},
   "source": [
    "# Task\n",
    "\n",
    "Merhaba arkadaslar, okullarda :school: ders notlari  nasil hesaplanir? Bu soruya Python ile cevap vermek isterseniz haydi eller klavyeye! :keyboard:\n",
    "Herbir kategorinin yüzdelik dagilimi söyle:\n",
    "* participation (derse katilim) = %10\n",
    "* homework %15\n",
    "* classwork %20\n",
    "* first_exam %25\n",
    "* second_exam %30\n",
    "\n",
    "* Not_1: Ögrenciye herbir kategoriden yalnizca bir kez not verildigini farzedelim bu soruda, aksi takdirde soru daha karmasik hale gelirdi.\n",
    "\n",
    "* Not_2: Herbir kategori 100 üzerinden degerlendiriliyor. Örnek: Lebron Quiz'den 85, Participation'dan 90 aldi, vb.\n",
    "\n",
    "\n",
    "Not araligi ve karsilik gelen degerler:\n",
    "\n",
    "* [0, 70) You have failed.\n",
    "* [70, 80) C  # 70 dahil, 80 haric\n",
    "* [80, 90) B\n",
    "* [90, 100] A\n",
    "\n",
    "\n",
    "* Sample outputs:\n",
    "Lebron's Math score is 68. Unfortunately that is a failure in Math. Summer school is to be attended.\n",
    "\n",
    "Lebron's Math score is 79.3. You've a C in Math. Keep it up!\n",
    "\n",
    "Lebron's Math score is 80. You've a B in Math. Good job!\n",
    "\n",
    "Lebron's Math score is 97.8. You've an A in Math. Congratulations!\n",
    "\n",
    "Daha sade output da makbul:\n",
    "\n",
    "Lebron, Math, 68, Failed!\n",
    "\n",
    "Lebron, Math, 97, A"
   ]
  },
  {
   "cell_type": "code",
   "execution_count": 4,
   "id": "4e5af145",
   "metadata": {},
   "outputs": [
    {
     "name": "stdout",
     "output_type": "stream",
     "text": [
      "Lebron's Math score is 73.5. You've a C in Math. Keep it up!\n",
      "Ali's Math score is 77.5. You've a C in Math. Keep it up!\n",
      "Veli's Math score is 92.5. You've a A in Math. Congratulations!\n",
      "Deli's Math score is 82.0. You've a B in Math. Good job!\n"
     ]
    }
   ],
   "source": [
    "# DEFINITIONS\n",
    "# p : \"Participation\"\n",
    "# h : \"Homework\"\n",
    "# c : \"Classwork\"\n",
    "# f : \"First_Exam\"\n",
    "# s : \"Secomd Exam\"\n",
    "\n",
    "text1 = 'F in Math. You have failed'\n",
    "text2 = 'C in Math. Keep it up!'\n",
    "text3 = 'B in Math. Good job!'\n",
    "text4 = 'A in Math. Congratulations!'\n",
    "\n",
    "\n",
    "# Student's Scores (Enter manually)\n",
    "Lebron = dict(p = 50, h = 60, c = 90, f = 70, s = 80)\n",
    "Ali = dict(p = 55, h = 65, c = 90, f = 75, s = 85)\n",
    "Veli = dict(p = 100, h = 91, c = 94, f = 96, s = 87)\n",
    "Deli = dict(p = 80, h = 80, c = 90, f = 80, s = 80)\n",
    "\n",
    "\n",
    "# Student's FINAL Scores\n",
    "Lebron_score = float(format((Lebron['p'] * 0.10 + Lebron['h'] * 0.15 + Lebron['c'] * 0.20 + Lebron['f'] * 0.25 + Lebron['s'] * 0.30), \"2.1f\"))\n",
    "Ali_score = float(format((Ali['p'] * 0.10 + Ali['h'] * 0.15 + Ali['c'] * 0.20 + Ali['f'] * 0.25 + Ali['s'] * 0.30), \"2.1f\"))\n",
    "Deli_score = float(format((Deli['p'] * 0.10 + Deli['h'] * 0.15 + Deli['c'] * 0.20 + Deli['f'] * 0.25 + Deli['s'] * 0.30), \"2.1f\"))\n",
    "Veli_score = float(format((Veli['p'] * 0.10 + Veli['h'] * 0.15 + Veli['c'] * 0.20 + Veli['f'] * 0.25 + Veli['s'] * 0.30), \"2.1f\"))\n",
    "\n",
    "\n",
    "# FINAL STATEMENTS\n",
    "Lebron_FINAL = (Lebron_score < 70) * text1 + \\\n",
    "(Lebron_score >= 70 and Lebron_score < 80) * text2 + \\\n",
    "(Lebron_score >= 80 and Lebron_score < 90) * text3 + \\\n",
    "(Lebron_score > 90) * text4\n",
    "\n",
    "Ali_FINAL = (Ali_score < 70) * text1 + \\\n",
    "(Ali_score >= 70 and Ali_score < 80) * text2 + \\\n",
    "(Ali_score >= 80 and Ali_score < 90) * text3 + \\\n",
    "(Ali_score > 90) * text4\n",
    "\n",
    "Veli_FINAL = (Veli_score < 70) * text1 + \\\n",
    "(Veli_score >= 70 and Veli_score < 80) * text2 + \\\n",
    "(Veli_score >= 80 and Veli_score < 90) * text3 + \\\n",
    "(Veli_score > 90) * text4\n",
    "\n",
    "Deli_FINAL = (Deli_score < 70) * text1 + \\\n",
    "(Deli_score >= 70 and Deli_score < 80) * text2 + \\\n",
    "(Deli_score >= 80 and Deli_score < 90) * text3 + \\\n",
    "(Deli_score > 90) * text4\n",
    "\n",
    "\n",
    "print(f\"Lebron's Math score is {Lebron_score}. You've a {Lebron_FINAL}\")\n",
    "print(f\"Ali's Math score is {Ali_score}. You've a {Ali_FINAL}\")\n",
    "print(f\"Veli's Math score is {Veli_score}. You've a {Veli_FINAL}\")\n",
    "print(f\"Deli's Math score is {Deli_score}. You've a {Deli_FINAL}\")"
   ]
  },
  {
   "cell_type": "markdown",
   "id": "578bb9f4",
   "metadata": {},
   "source": [
    "# Task: Reverse string\n",
    "Aşağıdaki stringin kelimelerini reverse edin. (Reverse the words in string.)\n",
    "\n",
    "* string = \"yarın.akşam.python.dersi.var\"\n",
    "\n",
    "* Output :  var dersi python akşam yarın"
   ]
  },
  {
   "cell_type": "code",
   "execution_count": 93,
   "id": "ff6f1309",
   "metadata": {},
   "outputs": [
    {
     "name": "stdout",
     "output_type": "stream",
     "text": [
      "var dersi python aksam yarin\n"
     ]
    }
   ],
   "source": [
    "string = \"yarin.aksam.python.dersi.var\"\n",
    "reverse_string = string.split(\".\")[::-1]\n",
    "\n",
    "print(\" \".join(reverse_string))"
   ]
  },
  {
   "cell_type": "markdown",
   "id": "802cb113",
   "metadata": {},
   "source": [
    "# Task\n",
    "Given a list, right rotate the list by n position.\n",
    "\n",
    "liste = [1, 2, 3, 4, 5, 6]\n",
    "\n",
    "Verilen listenin elemanlarını; girilen n sayısı kadar sağa kaydıran bir program yazmanızı istiyorum.\n",
    "\n",
    "Örnek: n = 2 girilmiş ise; Output = [5, 6, 1, 2, 3, 4] olacak."
   ]
  },
  {
   "cell_type": "code",
   "execution_count": 1,
   "id": "6b715603",
   "metadata": {},
   "outputs": [],
   "source": [
    "liste = [1, 2, 3, 4, 5, 6]"
   ]
  },
  {
   "cell_type": "code",
   "execution_count": 7,
   "id": "5a3b0d95",
   "metadata": {},
   "outputs": [
    {
     "name": "stdout",
     "output_type": "stream",
     "text": [
      "[5, 6, 1, 2, 3, 4]\n"
     ]
    }
   ],
   "source": [
    "liste1 = liste[:-2]\n",
    "liste2 = liste[-2:]\n",
    "\n",
    "son_liste = liste2 + liste1\n",
    "\n",
    "print(son_liste)"
   ]
  },
  {
   "cell_type": "code",
   "execution_count": 17,
   "id": "a4b03371",
   "metadata": {},
   "outputs": [
    {
     "name": "stdout",
     "output_type": "stream",
     "text": [
      "Pick an integer to right rotate the given list :10\n",
      "[1, 2, 3, 4, 5, 6]\n"
     ]
    }
   ],
   "source": [
    "liste = [1, 2, 3, 4, 5, 6]\n",
    "\n",
    "n = int(input(\"Pick an integer to right rotate the given list :\"))\n",
    "\n",
    "list1 = liste[:-n]\n",
    "list2 = liste[-n:]\n",
    "\n",
    "rotated_list = list2 + list1\n",
    "\n",
    "print(rotated_list)"
   ]
  },
  {
   "cell_type": "code",
   "execution_count": 18,
   "id": "c1698f22",
   "metadata": {},
   "outputs": [
    {
     "name": "stdout",
     "output_type": "stream",
     "text": [
      "Pick an integer to right rotate the given list :2\n",
      "[5, 6, 1, 2, 3, 4]\n"
     ]
    }
   ],
   "source": [
    "liste = [1, 2, 3, 4, 5, 6]\n",
    "\n",
    "n = int(input(\"Pick an integer to right rotate the given list :\"))\n",
    "\n",
    "list1 = liste[:-n]\n",
    "list2 = liste[-n:]\n",
    "\n",
    "print(list2 + list1)\n",
    "\n"
   ]
  },
  {
   "cell_type": "code",
   "execution_count": null,
   "id": "32729bd0",
   "metadata": {},
   "outputs": [],
   "source": []
  },
  {
   "cell_type": "code",
   "execution_count": null,
   "id": "2573a225",
   "metadata": {},
   "outputs": [],
   "source": []
  },
  {
   "cell_type": "code",
   "execution_count": 19,
   "id": "95ce46c7",
   "metadata": {},
   "outputs": [
    {
     "name": "stdout",
     "output_type": "stream",
     "text": [
      "ben değiştim : ['d', 'ç', 'c', 'b', 'a']\n",
      "ben aynı kaldım : ['a', 'b', 'c', 'ç', 'd']\n"
     ]
    }
   ],
   "source": [
    "listem = [\"a\", \"b\", \"c\", \"ç\", \"d\"]\n",
    "yeni_listem = listem[:]\n",
    "yeni_listem.reverse()\n",
    "print(\"ben değiştim :\", yeni_listem)\n",
    "print(\"ben aynı kaldım :\", listem)"
   ]
  },
  {
   "cell_type": "code",
   "execution_count": 31,
   "id": "0ebc4838",
   "metadata": {},
   "outputs": [],
   "source": [
    "aaa = [\"a\", \"b\", \"c\", \"ç\", \"d\"]\n",
    "bbb = aaa[:]\n",
    "\n",
    "bbb.reverse()"
   ]
  },
  {
   "cell_type": "code",
   "execution_count": 33,
   "id": "023d2332",
   "metadata": {},
   "outputs": [
    {
     "data": {
      "text/plain": [
       "['d', 'ç', 'c', 'b', 'a']"
      ]
     },
     "execution_count": 33,
     "metadata": {},
     "output_type": "execute_result"
    }
   ],
   "source": [
    "bbb"
   ]
  },
  {
   "cell_type": "code",
   "execution_count": null,
   "id": "7abb9a61",
   "metadata": {},
   "outputs": [],
   "source": [
    "listem = list(range(1, 6, 1))\n",
    "print(listem)\n",
    "print(sum(x ** 2 for x in listem))"
   ]
  },
  {
   "cell_type": "code",
   "execution_count": 18,
   "id": "eaffbd30",
   "metadata": {},
   "outputs": [],
   "source": [
    "a = 1, 2, 3, 4"
   ]
  },
  {
   "cell_type": "code",
   "execution_count": 27,
   "id": "ecb5c658",
   "metadata": {},
   "outputs": [],
   "source": [
    "b = tuple(x * 2 for x in a)"
   ]
  },
  {
   "cell_type": "code",
   "execution_count": 28,
   "id": "97b203ff",
   "metadata": {},
   "outputs": [
    {
     "data": {
      "text/plain": [
       "(2, 4, 6, 8)"
      ]
     },
     "execution_count": 28,
     "metadata": {},
     "output_type": "execute_result"
    }
   ],
   "source": [
    "b"
   ]
  },
  {
   "cell_type": "markdown",
   "id": "ad713594",
   "metadata": {},
   "source": [
    "# Task (31 Oct 2022)\n",
    "\n",
    "Ask the user to  enter four of their  favourite foods  and store them in  a dictionary so  that they are  indexed with  numbers starting  from 1. \n",
    "\n",
    "Display  the dictionary in  full, showing the  index number  and the item. Ask  them which they  want to get rid of  and remove it  from the list. Sort  the remaining  data and display  the dictionary."
   ]
  },
  {
   "cell_type": "code",
   "execution_count": 3,
   "id": "d6f7a02e",
   "metadata": {},
   "outputs": [
    {
     "name": "stdout",
     "output_type": "stream",
     "text": [
      "Enter your first favorite food: elma\n",
      "Enter your second favorite food: armut\n",
      "Enter your third favorite food: domates\n",
      "Enter your fourth favorite food: sogan\n",
      "{1: 'elma', 2: 'armut', 3: 'domates', 4: 'sogan'}\n",
      "Which item would you like to remove from this list? Write a number: 2\n",
      "{1: 'elma', 3: 'domates', 4: 'sogan'}\n"
     ]
    }
   ],
   "source": [
    "a = input(\"Enter your first favorite food: \")\n",
    "b = input(\"Enter your second favorite food: \")\n",
    "c = input(\"Enter your third favorite food: \")\n",
    "d = input(\"Enter your fourth favorite food: \")\n",
    "\n",
    "my_dict = {1:a, 2:b, 3:c, 4:d}\n",
    "\n",
    "print(my_dict)\n",
    "\n",
    "remove = int(input(\"Which item would you like to remove from this list? Write a number: \"))\n",
    "\n",
    "del my_dict[remove]\n",
    "\n",
    "print(my_dict)"
   ]
  },
  {
   "cell_type": "markdown",
   "id": "d5921e39",
   "metadata": {},
   "source": [
    "# Task (1 Nov 2022)\n",
    "\n",
    "    Set the total to 0 to start with. While the total is 50 or less, ask the user to input a number.\n",
    "    Add that number to the total and print the message “The total is… [total]”. \n",
    "    Stop the loop when the total is over 50."
   ]
  },
  {
   "cell_type": "code",
   "execution_count": 6,
   "id": "0873d8b4",
   "metadata": {},
   "outputs": [
    {
     "name": "stdout",
     "output_type": "stream",
     "text": [
      "Enter a number to the total to reach fifty: 32\n",
      "The total is 32\n",
      "Enter a number to the total to reach fifty: 11\n",
      "The total is 43\n",
      "Enter a number to the total to reach fifty: 7\n",
      "The total is 50\n",
      "Enter a number to the total to reach fifty: 3\n",
      "The total is 53\n"
     ]
    }
   ],
   "source": [
    "total = 0\n",
    "\n",
    "while total <= 50:\n",
    "    n = int(input(\"Enter a number to the total to reach fifty: \"))\n",
    "    total += n\n",
    "    print(f\"The total is {total}\")"
   ]
  },
  {
   "cell_type": "code",
   "execution_count": 3,
   "id": "25e6a495",
   "metadata": {},
   "outputs": [
    {
     "name": "stdout",
     "output_type": "stream",
     "text": [
      "Enter a number to the total to reach fifty: 10\n",
      "The total is 10\n",
      "Enter a number to the total to reach fifty: 5\n",
      "The total is 15\n",
      "Enter a number to the total to reach fifty: 15\n",
      "The total is 30\n"
     ]
    }
   ],
   "source": [
    "total = 0\n",
    "\n",
    "n = int(input(\"Enter a number to the total to reach fifty: \"))\n",
    "total += n\n",
    "print(f\"The total is {total}\")\n",
    "\n",
    "n = int(input(\"Enter a number to the total to reach fifty: \"))\n",
    "total += n\n",
    "print(f\"The total is {total}\")\n",
    "\n",
    "n = int(input(\"Enter a number to the total to reach fifty: \"))\n",
    "total += n\n",
    "print(f\"The total is {total}\")"
   ]
  },
  {
   "cell_type": "code",
   "execution_count": 1,
   "id": "12d08b3f",
   "metadata": {},
   "outputs": [
    {
     "data": {
      "text/plain": [
       "5"
      ]
     },
     "execution_count": 1,
     "metadata": {},
     "output_type": "execute_result"
    }
   ],
   "source": [
    "a = 5\n",
    "a"
   ]
  },
  {
   "cell_type": "markdown",
   "id": "1e017891",
   "metadata": {},
   "source": [
    "# Task: Largest Prime factor (05 Nov 2022)\n",
    "\n",
    "\n",
    "* The prime factors of 13195 are 5, 7, 13 and 29.\n",
    "    * What is the largest prime factor of the number 600851475143?"
   ]
  },
  {
   "cell_type": "code",
   "execution_count": 41,
   "id": "4e487295",
   "metadata": {},
   "outputs": [
    {
     "name": "stdout",
     "output_type": "stream",
     "text": [
      "All factors are:  [1, 5, 7, 13, 29, 35, 65, 91, 145, 203, 377, 455, 1015, 1885, 2639, 13195]\n",
      "Prime factors are:  [5, 7, 13, 29]\n",
      "Largest prime factor is:  29\n"
     ]
    }
   ],
   "source": [
    "# MY Solution (Takes sooo long to compute)\n",
    "\n",
    "n = 13195\n",
    "\n",
    "factors = []\n",
    "prime_factors = []\n",
    "\n",
    "no_of_factors = 0\n",
    "\n",
    "for i in range(1, n+1):\n",
    "    if n % i == 0:\n",
    "        factors.append(i)\n",
    "\n",
    "print(\"All factors are: \", factors)\n",
    "\n",
    "for j in range(len(factors)) :  # 0, 1, 2, ..., 9\n",
    "    \n",
    "    no_of_factors = 0\n",
    "    for k in range(1, factors[j]+1):\n",
    "        if factors[j] % k == 0:\n",
    "            no_of_factors += 1\n",
    "\n",
    "    if no_of_factors == 2:\n",
    "        prime_factors.append(factors[j])\n",
    "\n",
    "print(\"Prime factors are: \", prime_factors)\n",
    "print(\"Largest prime factor is: \", max(prime_factors))"
   ]
  },
  {
   "cell_type": "code",
   "execution_count": null,
   "id": "1fb4c735",
   "metadata": {},
   "outputs": [],
   "source": [
    "# USING “Sieve of Eratosthenes” Algorithm\n",
    "\n",
    "n = 600851475143\n",
    "largest_prime_factor = 0\n",
    "\n",
    "while n % 2 == 0 :\n",
    "    largest_prime_factor = 2\n",
    "    n = n/2\n",
    "\n",
    "for i in range(3, int(n**0.5)+1, 2) :\n",
    "    if n % i == 0 :\n",
    "        largest_prime_factor = i  # !!! BURAYI TAM ANLAYAMADIM !!!\n",
    "        n = n/i\n",
    "\n",
    "if n > 2:\n",
    "    largest_prime_factor = n\n",
    "    \n",
    "print(largest_prime_factor)"
   ]
  },
  {
   "cell_type": "code",
   "execution_count": null,
   "id": "d745a4b8",
   "metadata": {},
   "outputs": [],
   "source": []
  },
  {
   "cell_type": "code",
   "execution_count": null,
   "id": "7e583b16",
   "metadata": {},
   "outputs": [],
   "source": []
  },
  {
   "cell_type": "code",
   "execution_count": null,
   "id": "72d2ce89",
   "metadata": {},
   "outputs": [],
   "source": []
  },
  {
   "cell_type": "code",
   "execution_count": null,
   "id": "906d6acf",
   "metadata": {},
   "outputs": [],
   "source": []
  },
  {
   "cell_type": "code",
   "execution_count": null,
   "id": "593d67da",
   "metadata": {},
   "outputs": [],
   "source": []
  }
 ],
 "metadata": {
  "kernelspec": {
   "display_name": "Python 3 (ipykernel)",
   "language": "python",
   "name": "python3"
  },
  "language_info": {
   "codemirror_mode": {
    "name": "ipython",
    "version": 3
   },
   "file_extension": ".py",
   "mimetype": "text/x-python",
   "name": "python",
   "nbconvert_exporter": "python",
   "pygments_lexer": "ipython3",
   "version": "3.10.8"
  }
 },
 "nbformat": 4,
 "nbformat_minor": 5
}
