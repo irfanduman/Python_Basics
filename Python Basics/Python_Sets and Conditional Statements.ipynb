{
 "cells": [
  {
   "cell_type": "markdown",
   "id": "29d60b78",
   "metadata": {},
   "source": [
    "<img src=\"https://docs.google.com/uc?id=14xeXxFrVRjvOoUYWn_GuyE-v84wVzrqr\" class=\"img-fluid\" alt=\"CLRWY\" width=\"400\" height=\"200\">"
   ]
  },
  {
   "cell_type": "markdown",
   "id": "d87aeae5",
   "metadata": {},
   "source": [
    "<h1><p style=\"text-align: center; color:darkblue\">Python Session-11 <br> 26 Oct 2022</p>"
   ]
  },
  {
   "cell_type": "markdown",
   "id": "2a056995",
   "metadata": {},
   "source": [
    "## <p style=\"background-color:#FDFEFE; font-family:newtimeroman; color:#4d77cf; font-size:150%; text-align:center; border-radius:10px 10px;\"><br><br>Definition&Creating a Set<br><br>Main Operations with Sets<br><br>Conditional Statemenst - IF Statements</p>"
   ]
  },
  {
   "cell_type": "markdown",
   "id": "ab0f9c4f",
   "metadata": {},
   "source": [
    "<a id=\"toc\"></a>\n",
    "\n",
    "## <p style=\"background-color:#9d4f8c; font-family:newtimeroman; color:#FFF9ED; font-size:175%; text-align:center; border-radius:10px 10px;\">Definition&Creating a Set</p>\n",
    "\n",
    "* No repetition\n",
    "* Math operations (union, intersection, difference)\n",
    "* Unordered elements\n",
    "\n",
    "### To create a set\n",
    "    * {} or\n",
    "    * set()\n",
    "    \n",
    "**Look for the meaning: mutable - immutable - hashable - iterable**"
   ]
  },
  {
   "cell_type": "code",
   "execution_count": null,
   "id": "224093e3",
   "metadata": {},
   "outputs": [],
   "source": [
    "colors = \"red\", \"blue\", \"pink\", \"red\", \"white\", \"blue\", \"purple\"\n",
    "set(colors)"
   ]
  },
  {
   "cell_type": "code",
   "execution_count": null,
   "id": "00585f55",
   "metadata": {},
   "outputs": [],
   "source": [
    "empty_set1 = {}  # Bos kume olusturmaz. Dict olusturur\n",
    "print(type(empty_set1))\n",
    "\n",
    "empty_set2 = set()\n",
    "print(type(empty_set2))"
   ]
  },
  {
   "cell_type": "code",
   "execution_count": null,
   "id": "3bd77dbb",
   "metadata": {},
   "outputs": [],
   "source": [
    "flower_list = ['rose', 'orchid', 'violet', 'rose', 'orchid', 'rose']\n",
    "flowerset = set(flower_list)\n",
    "flowerlist = list(flowerset)\n",
    "\n",
    "print(flowerset)\n",
    "print(flowerlist)"
   ]
  },
  {
   "cell_type": "code",
   "execution_count": null,
   "id": "bfc22d78",
   "metadata": {},
   "outputs": [],
   "source": [
    "ilk_kumem = {1, 1, 2, 0, 1}\n",
    "ilk_kumem"
   ]
  },
  {
   "cell_type": "code",
   "execution_count": null,
   "id": "fed3f1b8",
   "metadata": {},
   "outputs": [],
   "source": [
    "len([1, 1, 2, 0, 1])"
   ]
  },
  {
   "cell_type": "code",
   "execution_count": null,
   "id": "e63c4f7f",
   "metadata": {},
   "outputs": [],
   "source": [
    "len({1, 1, 2, 0, 1})"
   ]
  },
  {
   "cell_type": "code",
   "execution_count": null,
   "id": "e610457e",
   "metadata": {},
   "outputs": [],
   "source": [
    "letters = \"a b c d e f g h i j k l m n o p q r s t u v w y z\".split()"
   ]
  },
  {
   "cell_type": "code",
   "execution_count": null,
   "id": "2cec7a0e",
   "metadata": {},
   "outputs": [],
   "source": [
    "letters"
   ]
  },
  {
   "cell_type": "code",
   "execution_count": null,
   "id": "c5e68446",
   "metadata": {},
   "outputs": [],
   "source": [
    "print(set(letters))"
   ]
  },
  {
   "cell_type": "code",
   "execution_count": null,
   "id": "7b129b8c",
   "metadata": {},
   "outputs": [],
   "source": [
    "soyle_birsey = {1, \"1\", 1.0}  # 1 ve 1.0 ayni eleman olarak gorulur.\n",
    "len(soyle_birsey)"
   ]
  },
  {
   "cell_type": "code",
   "execution_count": null,
   "id": "394e4ae1",
   "metadata": {},
   "outputs": [],
   "source": [
    "set1 = {[1,2], 5, 8}  # set'ler icerisine unhashable eleman alamaz."
   ]
  },
  {
   "cell_type": "code",
   "execution_count": null,
   "id": "4be980bd",
   "metadata": {},
   "outputs": [],
   "source": [
    "set1 = {(1,[1, 2, 3]), 5, 8}"
   ]
  },
  {
   "cell_type": "code",
   "execution_count": null,
   "id": "156ec293",
   "metadata": {},
   "outputs": [],
   "source": [
    "a = \"ali\"\n",
    "set1 = {a, 5, 8}\n",
    "print(set1)\n",
    "\n",
    "a = \"veli\"\n",
    "print(set1)"
   ]
  },
  {
   "cell_type": "code",
   "execution_count": null,
   "id": "ac4d9071",
   "metadata": {},
   "outputs": [],
   "source": [
    "a = \"veli\"\n",
    "print(set1)"
   ]
  },
  {
   "cell_type": "code",
   "execution_count": null,
   "id": "3a0c611f",
   "metadata": {},
   "outputs": [],
   "source": [
    "my_tuple = (1, 2, 3, 4, 5)\n",
    "\n",
    "kumemiz = {my_tuple}\n",
    "len(kumemiz)"
   ]
  },
  {
   "cell_type": "code",
   "execution_count": null,
   "id": "1e6bdd9d",
   "metadata": {},
   "outputs": [],
   "source": [
    "set((1, 2, 3, 4, 5))"
   ]
  },
  {
   "cell_type": "code",
   "execution_count": null,
   "id": "db34ee41",
   "metadata": {},
   "outputs": [],
   "source": [
    "kume_mi = {1, 2, {'ali', 'veli'}}"
   ]
  },
  {
   "cell_type": "code",
   "execution_count": null,
   "id": "76ea1d37",
   "metadata": {},
   "outputs": [],
   "source": []
  },
  {
   "cell_type": "code",
   "execution_count": null,
   "id": "22dd139c",
   "metadata": {},
   "outputs": [],
   "source": []
  },
  {
   "cell_type": "code",
   "execution_count": null,
   "id": "5bf4f52f",
   "metadata": {},
   "outputs": [],
   "source": []
  },
  {
   "cell_type": "code",
   "execution_count": null,
   "id": "21f06bf5",
   "metadata": {},
   "outputs": [],
   "source": []
  },
  {
   "cell_type": "markdown",
   "id": "eb7afbbe",
   "metadata": {},
   "source": [
    "<a id=\"toc\"></a>\n",
    "\n",
    "## <p style=\"background-color:#9d4f8c; font-family:newtimeroman; color:#FFF9ED; font-size:175%; text-align:center; border-radius:10px 10px;\">Main Operations with Sets</p>"
   ]
  },
  {
   "cell_type": "code",
   "execution_count": null,
   "id": "5077b69d",
   "metadata": {},
   "outputs": [],
   "source": [
    "a = {'carnation', 'orchid', 'rose', 'violet'}\n",
    "\n",
    "b = {'rose', 'orchid', 'rose', 'violet', 'carnation'}"
   ]
  },
  {
   "cell_type": "code",
   "execution_count": null,
   "id": "25046979",
   "metadata": {},
   "outputs": [],
   "source": [
    "a.add('lily')\n",
    "\n",
    "a"
   ]
  },
  {
   "cell_type": "code",
   "execution_count": null,
   "id": "521f95f6",
   "metadata": {},
   "outputs": [],
   "source": [
    "a.remove('rose')\n",
    "\n",
    "a"
   ]
  },
  {
   "cell_type": "code",
   "execution_count": null,
   "id": "2f63a19a",
   "metadata": {},
   "outputs": [],
   "source": [
    "print(a - b)\n",
    "print(a.difference(b))"
   ]
  },
  {
   "cell_type": "code",
   "execution_count": null,
   "id": "e71fd2bf",
   "metadata": {},
   "outputs": [],
   "source": [
    "print(a | b)  # UNION\n",
    "print(a.union(b))"
   ]
  },
  {
   "cell_type": "code",
   "execution_count": null,
   "id": "501fc9cd",
   "metadata": {},
   "outputs": [],
   "source": [
    "print(a & b)  # INTERSECTION\n",
    "print(a.intersection(b))"
   ]
  },
  {
   "cell_type": "code",
   "execution_count": null,
   "id": "30f794ab",
   "metadata": {},
   "outputs": [],
   "source": [
    "date1 = set('10/26/2022')\n",
    "date2 = {'10/26/2022'}\n",
    "\n",
    "print(date1)\n",
    "print(date2)"
   ]
  },
  {
   "cell_type": "code",
   "execution_count": null,
   "id": "245c07df",
   "metadata": {},
   "outputs": [],
   "source": [
    "# TASK\n",
    "given_list = {1, 2, 3, 3, 3, 3, 4, 4, 5, 5}\n",
    "\n",
    "my_list = list(set(given_list))\n",
    "my_list"
   ]
  },
  {
   "cell_type": "code",
   "execution_count": null,
   "id": "55ba35bd",
   "metadata": {},
   "outputs": [],
   "source": [
    "# TASK\n",
    "usa_capt = set('Washington')\n",
    "nz_capt = set('Wellington')\n",
    "\n",
    "print(usa_capt - nz_capt)\n",
    "print(nz_capt - usa_capt)\n",
    "print(usa_capt | nz_capt)\n",
    "print(usa_capt & nz_capt, \"\\n\")\n",
    "\n",
    "print(usa_capt.difference(nz_capt))\n",
    "print(nz_capt.difference(usa_capt))\n",
    "print(usa_capt.union(nz_capt))\n",
    "print(usa_capt.intersection(nz_capt))"
   ]
  },
  {
   "cell_type": "code",
   "execution_count": null,
   "id": "23176875",
   "metadata": {},
   "outputs": [],
   "source": [
    "k1 = set([1, 2, 3])\n",
    "\n",
    "k2 = set([1, 3, 5])\n",
    "\n",
    "k1.difference_update(k2)\n",
    "\n",
    "print(k1)\n",
    "print(k2)"
   ]
  },
  {
   "cell_type": "code",
   "execution_count": null,
   "id": "5e57f5fd",
   "metadata": {},
   "outputs": [],
   "source": [
    "hayvanlar = set(['kedi', 'kopek', 'kus', 'inek', 'deve'])\n",
    "\n",
    "hayvanlar.discard('kedi')  # eleman siler. ancak o eleman yoksa da HATA VERMEZ.\n",
    "print(hayvanlar)\n",
    "\n",
    "hayvanlar.discard('at')\n",
    "print(hayvanlar)"
   ]
  },
  {
   "cell_type": "code",
   "execution_count": null,
   "id": "55525ce8",
   "metadata": {},
   "outputs": [],
   "source": [
    "hayvanlar.remove('kopek')  # eleman siler. ancak o eleman yoksa da HATA VERIR.\n",
    "print(hayvanlar)\n",
    "\n",
    "hayvanlar.remove('at')\n",
    "print(hayvanlar)"
   ]
  },
  {
   "cell_type": "code",
   "execution_count": null,
   "id": "ca081ad4",
   "metadata": {},
   "outputs": [],
   "source": []
  },
  {
   "cell_type": "markdown",
   "id": "2f9092fa",
   "metadata": {},
   "source": [
    "<a id=\"toc\"></a>\n",
    "\n",
    "## <p style=\"background-color:#9d4f8c; font-family:newtimeroman; color:#FFF9ED; font-size:175%; text-align:center; border-radius:10px 10px;\">Conditional Statements - IF Statements</p>"
   ]
  },
  {
   "cell_type": "code",
   "execution_count": null,
   "id": "7182cb3b",
   "metadata": {},
   "outputs": [],
   "source": [
    "a = 10\n",
    "b = 8\n",
    "\n",
    "if a > b:\n",
    "    print(f\"{a} is greater than {b}.\")"
   ]
  },
  {
   "cell_type": "code",
   "execution_count": null,
   "id": "fbf94644",
   "metadata": {},
   "outputs": [],
   "source": [
    "sayilar = [1, 2, 3, 4, 5]\n",
    "\n",
    "print(sayilar[0])\n",
    "print(sayilar[1])\n",
    "print(sayilar[2])\n",
    "print(sayilar[3])\n",
    "print(sayilar[4])"
   ]
  },
  {
   "cell_type": "code",
   "execution_count": null,
   "id": "883a6fca",
   "metadata": {},
   "outputs": [],
   "source": [
    "a = 3\n",
    "b = 0"
   ]
  },
  {
   "cell_type": "code",
   "execution_count": null,
   "id": "309fb57c",
   "metadata": {},
   "outputs": [],
   "source": [
    "if b > a:\n",
    "    print('Hello!')\n",
    "    \n",
    "print('ali')"
   ]
  },
  {
   "cell_type": "markdown",
   "id": "14429723",
   "metadata": {},
   "source": [
    "python\n",
    "if condition:\n",
    "    body1\n",
    "    body2\n",
    "    body3\n",
    "outbody"
   ]
  },
  {
   "cell_type": "code",
   "execution_count": null,
   "id": "7e6716ea",
   "metadata": {},
   "outputs": [],
   "source": [
    "if \"0\":\n",
    "    print('hello world')\n",
    "    \n",
    "print('print me in all cases')"
   ]
  },
  {
   "cell_type": "code",
   "execution_count": null,
   "id": "2caefd9f",
   "metadata": {},
   "outputs": [],
   "source": [
    "if \"0\" and \"\":\n",
    "    print(\"hello world\")"
   ]
  },
  {
   "cell_type": "code",
   "execution_count": null,
   "id": "b8bd0fe2",
   "metadata": {},
   "outputs": [],
   "source": [
    "if 0 or \"False\" and None:\n",
    "    print(\"hello universe\")"
   ]
  },
  {
   "cell_type": "code",
   "execution_count": null,
   "id": "aace06ed",
   "metadata": {},
   "outputs": [],
   "source": [
    "if [\"\"]:\n",
    "    print(\"hello\")"
   ]
  },
  {
   "cell_type": "code",
   "execution_count": null,
   "id": "691da652",
   "metadata": {},
   "outputs": [],
   "source": [
    "len([\"\"])"
   ]
  },
  {
   "cell_type": "code",
   "execution_count": null,
   "id": "9948daed",
   "metadata": {},
   "outputs": [],
   "source": [
    "minced = True\n",
    "bread = True\n",
    "\n",
    "# green\n",
    "lettuce = True\n",
    "onion = False\n",
    "\n",
    "grocer = True"
   ]
  },
  {
   "cell_type": "code",
   "execution_count": null,
   "id": "d0319a83",
   "metadata": {},
   "outputs": [],
   "source": [
    "hamburger = minced and bread and (lettuce or onion) and grocer\n",
    "hamburger"
   ]
  },
  {
   "cell_type": "code",
   "execution_count": null,
   "id": "d167637d",
   "metadata": {},
   "outputs": [],
   "source": [
    "if hamburger:\n",
    "    print(\"Bon Apetit!\")"
   ]
  },
  {
   "cell_type": "markdown",
   "id": "0f8d7b27",
   "metadata": {},
   "source": [
    "## Comparison Operators"
   ]
  },
  {
   "cell_type": "code",
   "execution_count": null,
   "id": "de8b3c9a",
   "metadata": {},
   "outputs": [],
   "source": [
    "if \"ali\" != \"deli\":\n",
    "    print(\"veli\")"
   ]
  },
  {
   "cell_type": "code",
   "execution_count": null,
   "id": "ab9932c7",
   "metadata": {},
   "outputs": [],
   "source": [
    "set_A = set(\"TWELVE PLUS ONE\")\n",
    "set_B = set(\"ELEVEN PLUS TWO\")\n",
    "\n",
    "if set_A == set_B:\n",
    "    print(\"We are the same\")\n",
    "    \n",
    "print(set_A)\n",
    "print(set_B)"
   ]
  },
  {
   "cell_type": "code",
   "execution_count": null,
   "id": "5d04d31d",
   "metadata": {},
   "outputs": [],
   "source": [
    "convert = input(\"Enter a word (Yes or No): \").title().strip() == \"Yes\"\n",
    "\n",
    "if convert:\n",
    "    print(\"You entered True\")"
   ]
  },
  {
   "cell_type": "markdown",
   "id": "ec2768b7",
   "metadata": {},
   "source": [
    "## if - else Statements"
   ]
  },
  {
   "cell_type": "code",
   "execution_count": null,
   "id": "1aec4bc5",
   "metadata": {},
   "outputs": [],
   "source": [
    "x = list(range(1, 10))\n",
    "x"
   ]
  },
  {
   "cell_type": "code",
   "execution_count": null,
   "id": "0f564cb5",
   "metadata": {},
   "outputs": [],
   "source": [
    "a = 7\n",
    "\n",
    "if a in x:\n",
    "    print(f\"{a} is an element of the list\")\n",
    "else:\n",
    "    print(f\"{a} is NOT an element of the list\")"
   ]
  },
  {
   "cell_type": "code",
   "execution_count": null,
   "id": "3bcc5573",
   "metadata": {},
   "outputs": [],
   "source": [
    "number = int(input(\"Enter an integere: \"))\n",
    "\n",
    "if number % 2 == 0:\n",
    "    print(f\"{number} is an EVEN number\")\n",
    "    \n",
    "else:\n",
    "    print(f\"{number} is an ODD number\")\n"
   ]
  },
  {
   "cell_type": "code",
   "execution_count": null,
   "id": "25978d10",
   "metadata": {},
   "outputs": [],
   "source": [
    "number2 = float(input(\"Enter an integere other than zero: \"))\n",
    "\n",
    "if number2 > 0:\n",
    "    print(f\"{number} is a POSITIVE number\")\n",
    "    \n",
    "else:\n",
    "    print(f\"{number2} is a NEGATIVE number\")"
   ]
  },
  {
   "cell_type": "code",
   "execution_count": null,
   "id": "d54157c3",
   "metadata": {},
   "outputs": [],
   "source": [
    "num1 = float(input(\"Enter a number: \"))\n",
    "num2 = float(input(\"Enter a different number: \"))"
   ]
  },
  {
   "cell_type": "code",
   "execution_count": 1,
   "id": "b5854435",
   "metadata": {},
   "outputs": [
    {
     "name": "stdout",
     "output_type": "stream",
     "text": [
      "Enter a number: 4\n",
      "Enter a different number: 6\n",
      "6.0 is greater than 4.0\n"
     ]
    }
   ],
   "source": [
    "num1 = float(input(\"Enter a number: \"))\n",
    "num2 = float(input(\"Enter a different number: \"))\n",
    "\n",
    "if num1 > num2:\n",
    "    print(f\"{num1} is greater than {num2}\")\n",
    "else:\n",
    "    print(f\"{num2} is greater than {num1}\")"
   ]
  },
  {
   "cell_type": "code",
   "execution_count": 2,
   "id": "1a877a1b",
   "metadata": {},
   "outputs": [
    {
     "name": "stdout",
     "output_type": "stream",
     "text": [
      "Enter a number: 5\n",
      "Enter a different number: 8\n",
      "the larger number is:  8.0\n"
     ]
    }
   ],
   "source": [
    "num1 = float(input(\"Enter a number: \"))\n",
    "num2 = float(input(\"Enter a different number: \"))\n",
    "\n",
    "if num1 > num2:\n",
    "    larger = num1\n",
    "else:\n",
    "    larger = num2\n",
    "    \n",
    "print(\"the larger number is: \", larger)"
   ]
  },
  {
   "cell_type": "code",
   "execution_count": 4,
   "id": "62bf66ac",
   "metadata": {},
   "outputs": [
    {
     "name": "stdout",
     "output_type": "stream",
     "text": [
      "Yes\n"
     ]
    }
   ],
   "source": [
    "if True:\n",
    "    print(\"Yes\")\n",
    "else:\n",
    "    print(\"No\")"
   ]
  },
  {
   "cell_type": "code",
   "execution_count": 5,
   "id": "4ccc99f3",
   "metadata": {},
   "outputs": [
    {
     "name": "stdout",
     "output_type": "stream",
     "text": [
      "No\n"
     ]
    }
   ],
   "source": [
    "bool_value = False\n",
    "if bool_value:\n",
    "    print(\"Yes\")\n",
    "    \n",
    "else:\n",
    "    print(\"No\")"
   ]
  },
  {
   "cell_type": "code",
   "execution_count": 12,
   "id": "c3fcf244",
   "metadata": {},
   "outputs": [
    {
     "name": "stdout",
     "output_type": "stream",
     "text": [
      "Enter a number: 4\n",
      "Enter a different number: 3\n",
      "Enter a different number: 4\n",
      "the largest number is:  4.0\n"
     ]
    }
   ],
   "source": [
    "num1 = float(input(\"Enter a number: \"))\n",
    "num2 = float(input(\"Enter a different number: \"))\n",
    "num3 = float(input(\"Enter a different number: \"))\n",
    "\n",
    "if num1 >= num2 and num1 >= num3:\n",
    "    largest = num1\n",
    "elif num2 >= num3:\n",
    "    largest = num2\n",
    "else:\n",
    "    lartgest = num3\n",
    "\n",
    "print(\"the largest number is: \", largest)"
   ]
  },
  {
   "cell_type": "code",
   "execution_count": 16,
   "id": "65ee33a4",
   "metadata": {},
   "outputs": [
    {
     "name": "stdout",
     "output_type": "stream",
     "text": [
      "Enter a number: -10\n",
      "-10.0 is a NEGATIVE number\n"
     ]
    }
   ],
   "source": [
    "number = float(input(\"Enter a number: \"))\n",
    "\n",
    "if number > 0:\n",
    "    print(f\"{number} is a POSITIVE number\")\n",
    "\n",
    "elif number < 0:\n",
    "    print(f\"{number} is a NEGATIVE number\")\n",
    "else:\n",
    "    print(f\"{number} is ZERO\")"
   ]
  },
  {
   "cell_type": "code",
   "execution_count": 19,
   "id": "75d59d62",
   "metadata": {},
   "outputs": [
    {
     "name": "stdout",
     "output_type": "stream",
     "text": [
      "Write your score: 78\n",
      "Your letter grade is below B\n"
     ]
    }
   ],
   "source": [
    "score = float(input(\"Write your score: \"))\n",
    "\n",
    "if score >= 95:\n",
    "    print(\"Your letter grade is A+\" )\n",
    "elif score >= 90:\n",
    "    print(\"Your letter grade is A\" )\n",
    "elif score >= 85:\n",
    "    print(\"Your letter grade is B+\" )\n",
    "elif score >= 80:\n",
    "    print(\"Your letter grade is B\" )\n",
    "else:\n",
    "    print(\"Your letter grade is below B\" )"
   ]
  },
  {
   "cell_type": "code",
   "execution_count": 1,
   "id": "bf8c3baf",
   "metadata": {},
   "outputs": [
    {
     "name": "stdout",
     "output_type": "stream",
     "text": [
      "Write your score: 83\n",
      "Your letter grade is B\n"
     ]
    }
   ],
   "source": [
    "# NESTED\n",
    "\n",
    "score = float(input(\"Write your score: \"))\n",
    "\n",
    "if score >= 90:\n",
    "    if score >= 95:\n",
    "        print(\"Your letter grade is A+\")\n",
    "    else:\n",
    "        print(\"Your letter grade is A\")\n",
    "        \n",
    "elif score >= 80:\n",
    "    if score >= 85:\n",
    "        print(\"Your letter grade is B+\")\n",
    "    else:\n",
    "        print(\"Your letter grade is B\")\n",
    "else:\n",
    "    print(\"Your letter grade is below B\")"
   ]
  },
  {
   "cell_type": "code",
   "execution_count": 3,
   "id": "26a85544",
   "metadata": {},
   "outputs": [
    {
     "name": "stdout",
     "output_type": "stream",
     "text": [
      "The number is less than 10\n"
     ]
    }
   ],
   "source": [
    "number = -5\n",
    "if number >= 10:\n",
    "    print(\"The number is equal or greater than 10\")\n",
    "else:\n",
    "    print(\"The number is less than 10\")"
   ]
  },
  {
   "cell_type": "code",
   "execution_count": null,
   "id": "f4b65efd",
   "metadata": {},
   "outputs": [],
   "source": []
  },
  {
   "cell_type": "code",
   "execution_count": null,
   "id": "9740cfb5",
   "metadata": {},
   "outputs": [],
   "source": []
  },
  {
   "cell_type": "code",
   "execution_count": null,
   "id": "922ce7e4",
   "metadata": {},
   "outputs": [],
   "source": []
  },
  {
   "cell_type": "code",
   "execution_count": null,
   "id": "5ae468a6",
   "metadata": {},
   "outputs": [],
   "source": []
  },
  {
   "cell_type": "code",
   "execution_count": null,
   "id": "1fd1c68d",
   "metadata": {},
   "outputs": [],
   "source": []
  },
  {
   "cell_type": "code",
   "execution_count": null,
   "id": "ce4ae19e",
   "metadata": {},
   "outputs": [],
   "source": []
  },
  {
   "cell_type": "code",
   "execution_count": null,
   "id": "547dae36",
   "metadata": {},
   "outputs": [],
   "source": []
  },
  {
   "cell_type": "markdown",
   "id": "937c7c82",
   "metadata": {},
   "source": [
    "<img src=\"https://docs.google.com/uc?id=14xeXxFrVRjvOoUYWn_GuyE-v84wVzrqr\" class=\"img-fluid\" alt=\"CLRWY\" width=\"400\" height=\"200\">"
   ]
  },
  {
   "cell_type": "code",
   "execution_count": null,
   "id": "9677244c",
   "metadata": {},
   "outputs": [],
   "source": []
  }
 ],
 "metadata": {
  "kernelspec": {
   "display_name": "Python 3 (ipykernel)",
   "language": "python",
   "name": "python3"
  },
  "language_info": {
   "codemirror_mode": {
    "name": "ipython",
    "version": 3
   },
   "file_extension": ".py",
   "mimetype": "text/x-python",
   "name": "python",
   "nbconvert_exporter": "python",
   "pygments_lexer": "ipython3",
   "version": "3.10.8"
  }
 },
 "nbformat": 4,
 "nbformat_minor": 5
}
