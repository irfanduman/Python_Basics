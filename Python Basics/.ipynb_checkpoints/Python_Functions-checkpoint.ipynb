{
 "cells": [
  {
   "cell_type": "markdown",
   "id": "6357c12f",
   "metadata": {},
   "source": [
    "# Tuple Unpacking"
   ]
  },
  {
   "cell_type": "code",
   "execution_count": null,
   "id": "8b7c4d2d",
   "metadata": {},
   "outputs": [],
   "source": []
  },
  {
   "cell_type": "code",
   "execution_count": 8,
   "id": "9a205096",
   "metadata": {},
   "outputs": [],
   "source": [
    "my_iter = iter(\"Edwin\")"
   ]
  },
  {
   "cell_type": "code",
   "execution_count": 9,
   "id": "791444d9",
   "metadata": {},
   "outputs": [
    {
     "data": {
      "text/plain": [
       "'E'"
      ]
     },
     "execution_count": 9,
     "metadata": {},
     "output_type": "execute_result"
    }
   ],
   "source": [
    "next(my_iter)"
   ]
  },
  {
   "cell_type": "code",
   "execution_count": 10,
   "id": "9cbe4d01",
   "metadata": {},
   "outputs": [
    {
     "data": {
      "text/plain": [
       "'d'"
      ]
     },
     "execution_count": 10,
     "metadata": {},
     "output_type": "execute_result"
    }
   ],
   "source": [
    "next(my_iter)"
   ]
  },
  {
   "cell_type": "code",
   "execution_count": 11,
   "id": "645ed749",
   "metadata": {},
   "outputs": [
    {
     "data": {
      "text/plain": [
       "'w'"
      ]
     },
     "execution_count": 11,
     "metadata": {},
     "output_type": "execute_result"
    }
   ],
   "source": [
    "next(my_iter)"
   ]
  },
  {
   "cell_type": "code",
   "execution_count": 12,
   "id": "c6074e64",
   "metadata": {},
   "outputs": [
    {
     "data": {
      "text/plain": [
       "'i'"
      ]
     },
     "execution_count": 12,
     "metadata": {},
     "output_type": "execute_result"
    }
   ],
   "source": [
    "next(my_iter)"
   ]
  },
  {
   "cell_type": "code",
   "execution_count": 13,
   "id": "77338816",
   "metadata": {},
   "outputs": [
    {
     "data": {
      "text/plain": [
       "'n'"
      ]
     },
     "execution_count": 13,
     "metadata": {},
     "output_type": "execute_result"
    }
   ],
   "source": [
    "next(my_iter)"
   ]
  },
  {
   "cell_type": "code",
   "execution_count": 15,
   "id": "533e08cf",
   "metadata": {},
   "outputs": [
    {
     "ename": "StopIteration",
     "evalue": "",
     "output_type": "error",
     "traceback": [
      "\u001b[0;31m---------------------------------------------------------------------------\u001b[0m",
      "\u001b[0;31mStopIteration\u001b[0m                             Traceback (most recent call last)",
      "Cell \u001b[0;32mIn [15], line 1\u001b[0m\n\u001b[0;32m----> 1\u001b[0m \u001b[38;5;28;43mnext\u001b[39;49m\u001b[43m(\u001b[49m\u001b[43mmy_iter\u001b[49m\u001b[43m)\u001b[49m\n",
      "\u001b[0;31mStopIteration\u001b[0m: "
     ]
    }
   ],
   "source": [
    "next(my_iter)  # Liste tamamen bosalmis oldugu icin artik hata verir."
   ]
  },
  {
   "cell_type": "code",
   "execution_count": null,
   "id": "e76c2987",
   "metadata": {},
   "outputs": [],
   "source": []
  },
  {
   "cell_type": "markdown",
   "id": "77b8ad52",
   "metadata": {},
   "source": [
    "# LIST COMPREHENSION"
   ]
  },
  {
   "cell_type": "markdown",
   "id": "d78cb5d7",
   "metadata": {},
   "source": [
    "```python\n",
    "for variable in iterable:\n",
    "    expression\n",
    "```"
   ]
  },
  {
   "cell_type": "markdown",
   "id": "c81485b0",
   "metadata": {},
   "source": [
    "```python\n",
    "[expression for item in iterable]\n",
    "```"
   ]
  },
  {
   "cell_type": "code",
   "execution_count": 21,
   "id": "f6180593",
   "metadata": {},
   "outputs": [
    {
     "name": "stdout",
     "output_type": "stream",
     "text": [
      "[0, 1, 2, 3, 4]\n"
     ]
    }
   ],
   "source": [
    "# for loop kullanilarak\n",
    "\n",
    "sayilar = []\n",
    "\n",
    "for n in range(5):\n",
    "    sayilar.append(n)\n",
    "\n",
    "print(sayilar)"
   ]
  },
  {
   "cell_type": "code",
   "execution_count": 25,
   "id": "40a0f2f8",
   "metadata": {},
   "outputs": [
    {
     "name": "stdout",
     "output_type": "stream",
     "text": [
      "[0]\n",
      "[0, 1]\n",
      "[0, 1, 2]\n",
      "[0, 1, 2, 3]\n",
      "[0, 1, 2, 3, 4]\n",
      "---------------------\n",
      "[0, 1, 2, 3, 4]\n"
     ]
    }
   ],
   "source": [
    "# for loop kullanilarak (her bir adimda ne oldugunu gorerek)\n",
    "\n",
    "sayilar = []\n",
    "\n",
    "for n in range(5):\n",
    "    sayilar.append(n)\n",
    "    print(sayilar)\n",
    "\n",
    "print(\"---------------------\")\n",
    "print(sayilar)"
   ]
  },
  {
   "cell_type": "code",
   "execution_count": 23,
   "id": "db4ca09f",
   "metadata": {},
   "outputs": [
    {
     "data": {
      "text/plain": [
       "[0, 1, 2, 3, 4]"
      ]
     },
     "execution_count": 23,
     "metadata": {},
     "output_type": "execute_result"
    }
   ],
   "source": [
    "[i for i in range(5)]  # List Comprehension kullanilarak"
   ]
  },
  {
   "cell_type": "code",
   "execution_count": 24,
   "id": "dd1fe54b",
   "metadata": {},
   "outputs": [
    {
     "data": {
      "text/plain": [
       "[0, 1, 4, 9, 16]"
      ]
     },
     "execution_count": 24,
     "metadata": {},
     "output_type": "execute_result"
    }
   ],
   "source": [
    "[i**2 for i in range(5)]"
   ]
  },
  {
   "cell_type": "code",
   "execution_count": 30,
   "id": "125e74c8",
   "metadata": {},
   "outputs": [
    {
     "name": "stdout",
     "output_type": "stream",
     "text": [
      "['Jane Austin', 'George Orwell', 'James Clear', 'Cal Newport']\n"
     ]
    }
   ],
   "source": [
    "yazarlar = ['jane austin', 'george orwell', 'james clear', 'cal newport']\n",
    "yazarlar_listesi = [i.title() for i in yazarlar]\n",
    "\n",
    "print(yazarlar_listesi)"
   ]
  },
  {
   "cell_type": "code",
   "execution_count": 43,
   "id": "27407bd1",
   "metadata": {},
   "outputs": [],
   "source": [
    "a = [4, 5, 6, 7]  # short sides of rectangles\n",
    "b = [8, 9, 10, 11]  # long sides of rectangles"
   ]
  },
  {
   "cell_type": "code",
   "execution_count": 44,
   "id": "0af05ab3",
   "metadata": {},
   "outputs": [
    {
     "data": {
      "text/plain": [
       "[(4, 8), (5, 9), (6, 10), (7, 11)]"
      ]
     },
     "execution_count": 44,
     "metadata": {},
     "output_type": "execute_result"
    }
   ],
   "source": [
    "zip(a, b)\n",
    "list(zip(a, b))"
   ]
  },
  {
   "cell_type": "code",
   "execution_count": 40,
   "id": "878aec8d",
   "metadata": {},
   "outputs": [
    {
     "name": "stdout",
     "output_type": "stream",
     "text": [
      "[32, 45, 60, 77]\n"
     ]
    }
   ],
   "source": [
    "liste = list(zip(a, b))\n",
    "alan = []\n",
    "\n",
    "for i in range(len(liste)):\n",
    "    j, k = liste[i]\n",
    "    alan.append(j*k)\n",
    "    \n",
    "print(alan)"
   ]
  },
  {
   "cell_type": "code",
   "execution_count": 42,
   "id": "a1391f83",
   "metadata": {},
   "outputs": [
    {
     "name": "stdout",
     "output_type": "stream",
     "text": [
      "[32, 45, 60, 77]\n"
     ]
    }
   ],
   "source": [
    "liste = list(zip(a, b))\n",
    "alan = []\n",
    "\n",
    "for i, j in liste:\n",
    "    alan.append(i*j)\n",
    "\n",
    "print(alan)"
   ]
  },
  {
   "cell_type": "code",
   "execution_count": 41,
   "id": "de9553c3",
   "metadata": {},
   "outputs": [
    {
     "name": "stdout",
     "output_type": "stream",
     "text": [
      "[32, 45, 60, 77]\n"
     ]
    }
   ],
   "source": [
    "area = [j*k for (j, k) in zip(a, b)]\n",
    "print(area)"
   ]
  },
  {
   "cell_type": "markdown",
   "id": "f8c703e1",
   "metadata": {},
   "source": [
    "# Ternary Boolean Operators"
   ]
  },
  {
   "cell_type": "markdown",
   "id": "32bfd9cd",
   "metadata": {},
   "source": [
    "```python\n",
    "if condition :\n",
    "    execute_body1\n",
    "else:\n",
    "    execute_body2\n",
    "    \n",
    "# Bunun yerine---\n",
    "\n",
    "execute_body1 if condition else execute_body2\n",
    "```"
   ]
  },
  {
   "cell_type": "code",
   "execution_count": 45,
   "id": "8b325974",
   "metadata": {},
   "outputs": [
    {
     "name": "stdout",
     "output_type": "stream",
     "text": [
      "b is greater than a\n"
     ]
    }
   ],
   "source": [
    "a = 2\n",
    "b = 3\n",
    "\n",
    "\n",
    "print(\"a is greater than b\") if a > b else print(\"b is greater than a\")"
   ]
  },
  {
   "cell_type": "code",
   "execution_count": 46,
   "id": "24350c9d",
   "metadata": {},
   "outputs": [
    {
     "data": {
      "text/plain": [
       "3"
      ]
     },
     "execution_count": 46,
     "metadata": {},
     "output_type": "execute_result"
    }
   ],
   "source": [
    "buyuk = a if a > b else b\n",
    "buyuk"
   ]
  },
  {
   "cell_type": "code",
   "execution_count": 47,
   "id": "dcca7be4",
   "metadata": {},
   "outputs": [
    {
     "data": {
      "text/plain": [
       "8"
      ]
     },
     "execution_count": 47,
     "metadata": {},
     "output_type": "execute_result"
    }
   ],
   "source": [
    "z = a ** 2 if a > b else a ** 3\n",
    "z"
   ]
  },
  {
   "cell_type": "code",
   "execution_count": 50,
   "id": "c81c6335",
   "metadata": {},
   "outputs": [
    {
     "data": {
      "text/plain": [
       "6"
      ]
     },
     "execution_count": 50,
     "metadata": {},
     "output_type": "execute_result"
    }
   ],
   "source": [
    "a = 2\n",
    "b = 3\n",
    "\n",
    "y = 3 + (a if a > b else b)  # her ne gelirse 3 fazlasi y olsun\n",
    "y"
   ]
  },
  {
   "cell_type": "code",
   "execution_count": 51,
   "id": "85947fd2",
   "metadata": {},
   "outputs": [
    {
     "name": "stdout",
     "output_type": "stream",
     "text": [
      "[1, 9, 25]\n"
     ]
    }
   ],
   "source": [
    "# for loop ile\n",
    "# Tek satilarin karesini ayri bir listede toplayalim\n",
    "\n",
    "mylist = [1, 2, 3, 4, 5, 6]\n",
    "\n",
    "new_list = []\n",
    "\n",
    "for i in mylist :\n",
    "    if i % 2 == 1:\n",
    "        new_list.append(i ** 2)\n",
    "    \n",
    "print(new_list)"
   ]
  },
  {
   "cell_type": "code",
   "execution_count": 52,
   "id": "ff01efc5",
   "metadata": {},
   "outputs": [
    {
     "name": "stdout",
     "output_type": "stream",
     "text": [
      "[1, 9, 25]\n"
     ]
    }
   ],
   "source": [
    "# for loop ile\n",
    "# Tek satilarin karesini ayri bir listede toplayalim\n",
    "\n",
    "mylist = [1, 2, 3, 4, 5, 6]\n",
    "\n",
    "new_list = []\n",
    "\n",
    "for i in mylist :\n",
    "    if i % 2:                     # (i % 2 == 1) is the same as  (i%2 -either 1: True or 0:True)\n",
    "        new_list.append(i ** 2)\n",
    "    \n",
    "print(new_list)"
   ]
  },
  {
   "cell_type": "code",
   "execution_count": 55,
   "id": "64dc8816",
   "metadata": {},
   "outputs": [
    {
     "data": {
      "text/plain": [
       "[1, 9, 25]"
      ]
     },
     "execution_count": 55,
     "metadata": {},
     "output_type": "execute_result"
    }
   ],
   "source": [
    "# \"List Comprehension\"  ve \"Turnery Boolean\" kullanilarak\n",
    "mylist = [1, 2, 3, 4, 5, 6]\n",
    "\n",
    "[i ** 2 for i in mylist if i % 2]  # no need to write \"else\""
   ]
  },
  {
   "cell_type": "code",
   "execution_count": null,
   "id": "ca2d73de",
   "metadata": {},
   "outputs": [],
   "source": []
  },
  {
   "cell_type": "code",
   "execution_count": null,
   "id": "63542154",
   "metadata": {},
   "outputs": [],
   "source": []
  },
  {
   "cell_type": "code",
   "execution_count": null,
   "id": "82f7247e",
   "metadata": {},
   "outputs": [],
   "source": []
  },
  {
   "cell_type": "markdown",
   "id": "af523f33",
   "metadata": {},
   "source": [
    "# Functions-Calling a Function"
   ]
  },
  {
   "cell_type": "code",
   "execution_count": 62,
   "id": "335c76d5",
   "metadata": {},
   "outputs": [
    {
     "data": {
      "text/plain": [
       "[(0, 'ali'), (1, 'deli'), (2, 'veli')]"
      ]
     },
     "execution_count": 62,
     "metadata": {},
     "output_type": "execute_result"
    }
   ],
   "source": [
    "liste2 = [\"ali\", \"deli\", \"veli\"]\n",
    "list(enumerate(liste2))"
   ]
  },
  {
   "cell_type": "code",
   "execution_count": 61,
   "id": "9b50c264",
   "metadata": {},
   "outputs": [
    {
     "data": {
      "text/plain": [
       "[(3, 'ali'), (4, 'deli'), (5, 'veli')]"
      ]
     },
     "execution_count": 61,
     "metadata": {},
     "output_type": "execute_result"
    }
   ],
   "source": [
    "liste2 = [\"ali\", \"deli\", \"veli\"]\n",
    "list(enumerate(liste2, start=3))"
   ]
  },
  {
   "cell_type": "code",
   "execution_count": null,
   "id": "e4dcebe9",
   "metadata": {},
   "outputs": [],
   "source": []
  },
  {
   "cell_type": "code",
   "execution_count": 63,
   "id": "61865674",
   "metadata": {},
   "outputs": [
    {
     "name": "stdout",
     "output_type": "stream",
     "text": [
      "True\n",
      "False\n",
      "True\n"
     ]
    }
   ],
   "source": [
    "names = [\"susan\", \"James\", \"Mike\"]\n",
    "mood = [\"happy\", \"sad\", 0]\n",
    "empty = {}\n",
    "print(all(names), all(mood), all(empty), sep=\"\\n\")"
   ]
  },
  {
   "cell_type": "code",
   "execution_count": 64,
   "id": "8a0ace76",
   "metadata": {},
   "outputs": [
    {
     "name": "stdout",
     "output_type": "stream",
     "text": [
      "True\n",
      "True\n",
      "False\n"
     ]
    }
   ],
   "source": [
    "names = [\"susan\", \"James\", \"Mike\"]\n",
    "mood = [\"happy\", \"sad\", 0]\n",
    "empty = {}\n",
    "print(any(names), any(mood), any(empty), sep=\"\\n\")"
   ]
  },
  {
   "cell_type": "code",
   "execution_count": 70,
   "id": "508c74f2",
   "metadata": {},
   "outputs": [
    {
     "data": {
      "text/plain": [
       "<filter at 0x10fa9ccd0>"
      ]
     },
     "execution_count": 70,
     "metadata": {},
     "output_type": "execute_result"
    }
   ],
   "source": [
    "listeA = [\"susan\", \"tom\", 0, \"0\"]\n",
    "filtered_list = filter(None, listeA)\n",
    "\n",
    "print(\"Filtered elements are: \")\n",
    "for i in filtered_list:\n",
    "    .....\n",
    "    ....."
   ]
  }
 ],
 "metadata": {
  "kernelspec": {
   "display_name": "Python 3 (ipykernel)",
   "language": "python",
   "name": "python3"
  },
  "language_info": {
   "codemirror_mode": {
    "name": "ipython",
    "version": 3
   },
   "file_extension": ".py",
   "mimetype": "text/x-python",
   "name": "python",
   "nbconvert_exporter": "python",
   "pygments_lexer": "ipython3",
   "version": "3.10.8"
  }
 },
 "nbformat": 4,
 "nbformat_minor": 5
}
