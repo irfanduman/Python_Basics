{
 "cells": [
  {
   "cell_type": "markdown",
   "id": "854bd51d",
   "metadata": {},
   "source": [
    "## <p style=\"background-color:#FDFEFE; font-family:newtimeroman; color:#4d77cf; font-size:150%; text-align:center; border-radius:10px 10px;\"><br><br>COLLECTION TYPES<br><br>Lists<br><br>Tuples<br><br>Dictionaries</p>"
   ]
  },
  {
   "cell_type": "code",
   "execution_count": null,
   "id": "ee591251",
   "metadata": {},
   "outputs": [],
   "source": []
  },
  {
   "cell_type": "markdown",
   "id": "b126be71",
   "metadata": {},
   "source": [
    "<a id=\"toc\"></a>\n",
    "\n",
    "## <p style=\"background-color:#9d4f8c; font-family:newtimeroman; color:#FFF9ED; font-size:175%; text-align:center; border-radius:10px 10px;\">Lists [ ]</p>"
   ]
  },
  {
   "cell_type": "code",
   "execution_count": 12,
   "id": "9056deb4",
   "metadata": {},
   "outputs": [
    {
     "name": "stdout",
     "output_type": "stream",
     "text": [
      "['USA', 'Brasil', 'UK', 'Germany', 'Turkey', 'New Zealand']\n"
     ]
    }
   ],
   "source": [
    "country = ['USA', 'Brasil', 'UK', 'Germany', 'Turkey', 'New Zealand']\n",
    "\n",
    "print(country)"
   ]
  },
  {
   "cell_type": "code",
   "execution_count": 13,
   "id": "86965e81",
   "metadata": {},
   "outputs": [
    {
     "name": "stdout",
     "output_type": "stream",
     "text": [
      "['B', 'e', 's', 'i', 'k', 't', 'a', 's']\n"
     ]
    }
   ],
   "source": [
    "print(list(\"Besiktas\"))\n"
   ]
  },
  {
   "cell_type": "code",
   "execution_count": 14,
   "id": "13410ba2",
   "metadata": {},
   "outputs": [
    {
     "name": "stdout",
     "output_type": "stream",
     "text": [
      "['C', 'l', 'a', 'r', 'u', 's']\n"
     ]
    }
   ],
   "source": [
    "word = \"Clarus\"\n",
    "listed_word = list(word)\n",
    "print(listed_word)"
   ]
  },
  {
   "cell_type": "code",
   "execution_count": 15,
   "id": "61152376",
   "metadata": {},
   "outputs": [
    {
     "name": "stdout",
     "output_type": "stream",
     "text": [
      "['Clarus']\n"
     ]
    }
   ],
   "source": [
    "word = \"Clarus\"\n",
    "listed_word = [word]\n",
    "print(listed_word)"
   ]
  },
  {
   "cell_type": "code",
   "execution_count": null,
   "id": "e3232b1f",
   "metadata": {},
   "outputs": [],
   "source": []
  },
  {
   "cell_type": "code",
   "execution_count": null,
   "id": "fcca4b8f",
   "metadata": {},
   "outputs": [],
   "source": []
  },
  {
   "cell_type": "code",
   "execution_count": 16,
   "id": "9c9ee5d4",
   "metadata": {},
   "outputs": [
    {
     "name": "stdout",
     "output_type": "stream",
     "text": [
      "['Clarus']\n",
      "['C', 'l', 'a', 'r', 'u', 's'] \n",
      "\n",
      "<class 'list'>\n",
      "<class 'list'>\n"
     ]
    }
   ],
   "source": [
    "word = \"Clarus\"\n",
    "\n",
    "print([word])\n",
    "print(list(word), \"\\n\")\n",
    "\n",
    "print(type([word]))\n",
    "print(type(list(word)))"
   ]
  },
  {
   "cell_type": "code",
   "execution_count": 17,
   "id": "a1deaf7a",
   "metadata": {},
   "outputs": [
    {
     "name": "stdout",
     "output_type": "stream",
     "text": [
      "22\n"
     ]
    }
   ],
   "source": [
    "warning = 'You must quit smoking!'\n",
    "\n",
    "print(len(list(warning)))"
   ]
  },
  {
   "cell_type": "code",
   "execution_count": 18,
   "id": "8d51cfec",
   "metadata": {},
   "outputs": [
    {
     "data": {
      "text/plain": [
       "int"
      ]
     },
     "execution_count": 18,
     "metadata": {},
     "output_type": "execute_result"
    }
   ],
   "source": [
    "type(len(list(warning)))"
   ]
  },
  {
   "cell_type": "code",
   "execution_count": 19,
   "id": "0fa7d17f",
   "metadata": {},
   "outputs": [
    {
     "name": "stdout",
     "output_type": "stream",
     "text": [
      "['114']\n",
      "['114', 'plastic-free sea']\n"
     ]
    }
   ],
   "source": [
    "empty_list_1 = []\n",
    "empty_list_1.append('114')\n",
    "print(empty_list_1)\n",
    "\n",
    "empty_list_1.append('plastic-free sea')\n",
    "print(empty_list_1)"
   ]
  },
  {
   "cell_type": "code",
   "execution_count": 20,
   "id": "1f8ada08",
   "metadata": {},
   "outputs": [
    {
     "name": "stdout",
     "output_type": "stream",
     "text": [
      "['114']\n",
      "['114', 'plastic-free sea']\n"
     ]
    }
   ],
   "source": [
    "empty_list_2 = list()\n",
    "empty_list_2.append('114')\n",
    "print(empty_list_2)\n",
    "\n",
    "empty_list_2.append('plastic-free sea')\n",
    "print(empty_list_2)"
   ]
  },
  {
   "cell_type": "code",
   "execution_count": 21,
   "id": "e87b1f14",
   "metadata": {},
   "outputs": [
    {
     "name": "stdout",
     "output_type": "stream",
     "text": [
      "['New York', 'London', 'Istanbul', 'Seoul', 'Sydney', 'Addis Ababa']\n"
     ]
    }
   ],
   "source": [
    "city = ['New York', 'London', 'Istanbul', 'Seoul', 'Sydney']\n",
    "city.append('Addis Ababa')\n",
    "\n",
    "print(city)"
   ]
  },
  {
   "cell_type": "markdown",
   "id": "c67ef8c7",
   "metadata": {},
   "source": [
    "### .append     .insert      .remove     .sort.       .reverse     .pop"
   ]
  },
  {
   "cell_type": "code",
   "execution_count": 27,
   "id": "3fc0b03a",
   "metadata": {},
   "outputs": [
    {
     "name": "stdout",
     "output_type": "stream",
     "text": [
      "['New York', 'London', 'Istanbul', 'Seoul', 'Sydney', 'Addis Ababa']\n",
      "['New York', 'London', 'Istanbul', 'Abuja', 'Seoul', 'Sydney', 'Addis Ababa']\n",
      "['New York', 'London', 'Istanbul', 'Abuja', 'Seoul', 'Addis Ababa']\n",
      "['Abuja', 'Addis Ababa', 'Istanbul', 'London', 'New York', 'Seoul']\n",
      "['Seoul', 'New York', 'London', 'Istanbul', 'Addis Ababa', 'Abuja']\n"
     ]
    }
   ],
   "source": [
    "city = ['New York', 'London', 'Istanbul', 'Seoul', 'Sydney']\n",
    "\n",
    "city.append('Addis Ababa')\n",
    "print(city)\n",
    "\n",
    "city.insert(3, 'Abuja')\n",
    "print(city)\n",
    "\n",
    "city.remove('Sydney')\n",
    "print(city)\n",
    "\n",
    "city.sort()\n",
    "print(city)\n",
    "\n",
    "city.reverse()\n",
    "print(city)"
   ]
  },
  {
   "cell_type": "code",
   "execution_count": 23,
   "id": "353b4434",
   "metadata": {},
   "outputs": [
    {
     "name": "stdout",
     "output_type": "stream",
     "text": [
      "['Abuja', 'London', 'Istanbul', 'Seoul', 'Sydney']\n"
     ]
    }
   ],
   "source": [
    "city = ['New York', 'London', 'Istanbul', 'Seoul', 'Sydney']\n",
    "city[0] = \"Abuja\"\n",
    "print(city)"
   ]
  },
  {
   "cell_type": "code",
   "execution_count": 24,
   "id": "5e10372b",
   "metadata": {},
   "outputs": [
    {
     "name": "stdout",
     "output_type": "stream",
     "text": [
      "['New York', 'London', 'Sydney']\n"
     ]
    }
   ],
   "source": [
    "city = ['New York', 'London', 'Istanbul', 'Seoul', 'Sydney']\n",
    "del city[2:4]\n",
    "print(city)"
   ]
  },
  {
   "cell_type": "code",
   "execution_count": 33,
   "id": "324da5ed",
   "metadata": {},
   "outputs": [
    {
     "data": {
      "text/plain": [
       "'London'"
      ]
     },
     "execution_count": 33,
     "metadata": {},
     "output_type": "execute_result"
    }
   ],
   "source": [
    "city = ['New York', 'London', 'Istanbul', 'Seoul', 'Sydney']\n",
    "city.pop(1)"
   ]
  },
  {
   "cell_type": "code",
   "execution_count": 34,
   "id": "40a1df0a",
   "metadata": {},
   "outputs": [
    {
     "name": "stdout",
     "output_type": "stream",
     "text": [
      "['New York', 'Istanbul', 'Seoul', 'Sydney']\n"
     ]
    }
   ],
   "source": [
    "print(city)"
   ]
  },
  {
   "cell_type": "code",
   "execution_count": null,
   "id": "6c4baaa9",
   "metadata": {},
   "outputs": [],
   "source": []
  },
  {
   "cell_type": "code",
   "execution_count": 26,
   "id": "92d9f6cf",
   "metadata": {},
   "outputs": [
    {
     "name": "stdout",
     "output_type": "stream",
     "text": [
      "[1, 3, 5, 7, 1, 3, 5, 7, 1, 3, 5, 7]\n"
     ]
    }
   ],
   "source": [
    "my_list = [1, 3, 5, 7]\n",
    "print(my_list * 3)"
   ]
  },
  {
   "cell_type": "code",
   "execution_count": 27,
   "id": "c38c8121",
   "metadata": {},
   "outputs": [
    {
     "name": "stdout",
     "output_type": "stream",
     "text": [
      "blue\n",
      "['blue', 'yellow', 'green']\n"
     ]
    }
   ],
   "source": [
    "colors = ['red', 'purple', 'blue', 'yellow', 'green']\n",
    "print(colors[2])\n",
    "print(colors[2:5])"
   ]
  },
  {
   "cell_type": "code",
   "execution_count": 28,
   "id": "bbd1cd99",
   "metadata": {},
   "outputs": [],
   "source": [
    "city = ['New York', 'London', 'Istanbul']"
   ]
  },
  {
   "cell_type": "code",
   "execution_count": 29,
   "id": "a64e0beb",
   "metadata": {},
   "outputs": [
    {
     "name": "stdout",
     "output_type": "stream",
     "text": [
      "['apple', 5, ['New York', 'London', 'Istanbul']]\n",
      "Length of list is:  3\n"
     ]
    }
   ],
   "source": [
    "list = ['apple', 5]\n",
    "list.append(city)\n",
    "print(list)\n",
    "\n",
    "print(\"Length of list is: \", len(list))"
   ]
  },
  {
   "cell_type": "code",
   "execution_count": 30,
   "id": "2c028b4f",
   "metadata": {},
   "outputs": [
    {
     "name": "stdout",
     "output_type": "stream",
     "text": [
      "New York\n",
      "London\n",
      "Istanbul\n"
     ]
    }
   ],
   "source": [
    "list = ['New York', 'London', 'Istanbul', \"Abuja\"]\n",
    "print(list[0])\n",
    "print(list[1])\n",
    "print(list[2])"
   ]
  },
  {
   "cell_type": "code",
   "execution_count": 31,
   "id": "8a464ae1",
   "metadata": {},
   "outputs": [
    {
     "name": "stdout",
     "output_type": "stream",
     "text": [
      "Istanbul\n",
      "s\n",
      "Ist\n",
      "a\n",
      "ja\n"
     ]
    }
   ],
   "source": [
    "list = ['New York', 'London', 'Istanbul', \"Abuja\"]\n",
    "print(list[2])\n",
    "print(list[2][1])\n",
    "print(list[2][0:3])\n",
    "print(list[2][3])\n",
    "print(list[3][3:])"
   ]
  },
  {
   "cell_type": "code",
   "execution_count": 70,
   "id": "edacaf2f",
   "metadata": {},
   "outputs": [
    {
     "name": "stdout",
     "output_type": "stream",
     "text": [
      "[0, 1, 2, 3, 4, 5, 6, 7, 8, 9, 10]\n",
      "[0, 2, 4, 6, 8, 10]\n"
     ]
    }
   ],
   "source": [
    "count = list(range(11))\n",
    "print(count)\n",
    "\n",
    "print(count[0:11:2])"
   ]
  },
  {
   "cell_type": "code",
   "execution_count": 71,
   "id": "c1d83275",
   "metadata": {},
   "outputs": [
    {
     "name": "stdout",
     "output_type": "stream",
     "text": [
      "[12, 14, 16, 18, 20, 22, 24, 26, 28, 30, 32, 34, 36, 38, 40, 42, 44, 46, 48]\n",
      "[12, 16, 20, 24, 28, 32]\n"
     ]
    }
   ],
   "source": [
    "count = list(range(12,50,2))\n",
    "print(count)\n",
    "\n",
    "\n",
    "print(count[0:11:2])"
   ]
  },
  {
   "cell_type": "code",
   "execution_count": 72,
   "id": "0b930580",
   "metadata": {},
   "outputs": [
    {
     "name": "stdout",
     "output_type": "stream",
     "text": [
      "[90, 89, 88, 87, 86, 85, 84, 83, 82, 81, 80, 79, 78, 77, 76, 75, 74, 73, 72, 71]\n",
      "[90, 88, 86, 84, 82, 80]\n"
     ]
    }
   ],
   "source": [
    "count = list(range(90,70,-1))\n",
    "print(count)\n",
    "\n",
    "\n",
    "print(count[0:11:2])"
   ]
  },
  {
   "cell_type": "code",
   "execution_count": 73,
   "id": "cdb30b8d",
   "metadata": {},
   "outputs": [
    {
     "data": {
      "text/plain": [
       "3"
      ]
     },
     "execution_count": 73,
     "metadata": {},
     "output_type": "execute_result"
    }
   ],
   "source": [
    "len([[12, 34, 56]][0])"
   ]
  },
  {
   "cell_type": "code",
   "execution_count": 74,
   "id": "e75bf03a",
   "metadata": {},
   "outputs": [
    {
     "data": {
      "text/plain": [
       "[12, 34, 56]"
      ]
     },
     "execution_count": 74,
     "metadata": {},
     "output_type": "execute_result"
    }
   ],
   "source": [
    "([[12, 34, 56]][-1])"
   ]
  },
  {
   "cell_type": "code",
   "execution_count": 75,
   "id": "fc7a3867",
   "metadata": {},
   "outputs": [
    {
     "name": "stdout",
     "output_type": "stream",
     "text": [
      "[0, 1, 2, 3, 4, 5, 6, 7, 8, 9, 10]\n"
     ]
    }
   ],
   "source": [
    "my_list = list(range(11))\n",
    "print(my_list)"
   ]
  },
  {
   "cell_type": "code",
   "execution_count": 76,
   "id": "bc21b2bd",
   "metadata": {},
   "outputs": [
    {
     "name": "stdout",
     "output_type": "stream",
     "text": [
      "[2, 17, 50, 101]\n",
      "[-2, -1, 6]\n"
     ]
    }
   ],
   "source": [
    "print([x ** 2 + 1 for x in my_list if x % 3 == 1])\n",
    "print([x ** 3 - 2 for x in my_list if x < 3])"
   ]
  },
  {
   "cell_type": "code",
   "execution_count": 77,
   "id": "ac9d9be9",
   "metadata": {},
   "outputs": [
    {
     "name": "stdout",
     "output_type": "stream",
     "text": [
      "[1, 2, 3, 4, 5, 6, 7, 8, 9, 10]\n",
      "[1, 2, 3, 4, 5, 6, 7, 8, 9, 10]\n"
     ]
    }
   ],
   "source": [
    "my_list2 = list(range(1,11))\n",
    "print(my_list2)\n",
    "my_list.sort(reverse=True)\n",
    "print(my_list2)"
   ]
  },
  {
   "cell_type": "code",
   "execution_count": null,
   "id": "692deeeb",
   "metadata": {},
   "outputs": [],
   "source": []
  },
  {
   "cell_type": "code",
   "execution_count": 87,
   "id": "c644d7d2",
   "metadata": {},
   "outputs": [
    {
     "name": "stdout",
     "output_type": "stream",
     "text": [
      "[1, 2, 3, 4, 5, 6, 7, 8, 9, 10]\n",
      "[10, 9, 8, 7, 6, 5, 4, 3, 2, 1]\n"
     ]
    }
   ],
   "source": [
    "my_list2 = list(range(1,11))\n",
    "print(my_list2)\n",
    "\n",
    "my_list2.reverse()\n",
    "print(my_list2)"
   ]
  },
  {
   "cell_type": "code",
   "execution_count": 90,
   "id": "cd72f9fb",
   "metadata": {},
   "outputs": [
    {
     "name": "stdout",
     "output_type": "stream",
     "text": [
      "['eggplant', 'spinach', 'leek']\n"
     ]
    }
   ],
   "source": [
    "grocer = [\"banana\", [\"orange\", [\"apple\", \"eggplant\", \"melon\", \"spinach\", \"cheese\", \"leek\" ], \"water\"], \"mandarin\"]\n",
    "\n",
    "print(grocer[1][1][1:6:2])"
   ]
  },
  {
   "cell_type": "code",
   "execution_count": null,
   "id": "8a87682e",
   "metadata": {},
   "outputs": [],
   "source": [
    "listem = []"
   ]
  },
  {
   "cell_type": "code",
   "execution_count": null,
   "id": "9a38ce23",
   "metadata": {},
   "outputs": [],
   "source": [
    "listem.append(11)"
   ]
  },
  {
   "cell_type": "code",
   "execution_count": null,
   "id": "cfd88a5c",
   "metadata": {},
   "outputs": [],
   "source": [
    "print(listem)"
   ]
  },
  {
   "cell_type": "code",
   "execution_count": 1,
   "id": "c7ff72db",
   "metadata": {},
   "outputs": [],
   "source": [
    "kardesler = [\"ali\", \"veli\", \"deli\"]"
   ]
  },
  {
   "cell_type": "code",
   "execution_count": 2,
   "id": "5b2df9b9",
   "metadata": {},
   "outputs": [],
   "source": [
    "kardesler.append(\"ayse\")"
   ]
  },
  {
   "cell_type": "code",
   "execution_count": 3,
   "id": "6b2cb659",
   "metadata": {},
   "outputs": [
    {
     "data": {
      "text/plain": [
       "['ali', 'veli', 'deli', 'ayse']"
      ]
     },
     "execution_count": 3,
     "metadata": {},
     "output_type": "execute_result"
    }
   ],
   "source": [
    "kardesler"
   ]
  },
  {
   "cell_type": "code",
   "execution_count": 4,
   "id": "dfb39f87",
   "metadata": {},
   "outputs": [],
   "source": [
    "kardesler.append(3.14)"
   ]
  },
  {
   "cell_type": "code",
   "execution_count": 5,
   "id": "e0b13b42",
   "metadata": {},
   "outputs": [
    {
     "data": {
      "text/plain": [
       "['ali', 'veli', 'deli', 'ayse', 3.14]"
      ]
     },
     "execution_count": 5,
     "metadata": {},
     "output_type": "execute_result"
    }
   ],
   "source": [
    "kardesler"
   ]
  },
  {
   "cell_type": "code",
   "execution_count": 6,
   "id": "42bf37cc",
   "metadata": {},
   "outputs": [
    {
     "data": {
      "text/plain": [
       "3.14"
      ]
     },
     "execution_count": 6,
     "metadata": {},
     "output_type": "execute_result"
    }
   ],
   "source": [
    "kardesler.pop()"
   ]
  },
  {
   "cell_type": "code",
   "execution_count": 7,
   "id": "22ba5fce",
   "metadata": {},
   "outputs": [
    {
     "data": {
      "text/plain": [
       "['ali', 'veli', 'deli', 'ayse']"
      ]
     },
     "execution_count": 7,
     "metadata": {},
     "output_type": "execute_result"
    }
   ],
   "source": [
    "kardesler"
   ]
  },
  {
   "cell_type": "code",
   "execution_count": 8,
   "id": "4cebc1e2",
   "metadata": {},
   "outputs": [
    {
     "data": {
      "text/plain": [
       "'ayse'"
      ]
     },
     "execution_count": 8,
     "metadata": {},
     "output_type": "execute_result"
    }
   ],
   "source": [
    "kardesler.pop()"
   ]
  },
  {
   "cell_type": "code",
   "execution_count": 9,
   "id": "273b7dfe",
   "metadata": {},
   "outputs": [
    {
     "data": {
      "text/plain": [
       "['ali', 'veli', 'deli']"
      ]
     },
     "execution_count": 9,
     "metadata": {},
     "output_type": "execute_result"
    }
   ],
   "source": [
    "kardesler"
   ]
  },
  {
   "cell_type": "code",
   "execution_count": 10,
   "id": "87da0e8b",
   "metadata": {},
   "outputs": [
    {
     "data": {
      "text/plain": [
       "'ali'"
      ]
     },
     "execution_count": 10,
     "metadata": {},
     "output_type": "execute_result"
    }
   ],
   "source": [
    "kardesler.pop(0)"
   ]
  },
  {
   "cell_type": "code",
   "execution_count": 11,
   "id": "9c2c41f8",
   "metadata": {},
   "outputs": [
    {
     "data": {
      "text/plain": [
       "['veli', 'deli']"
      ]
     },
     "execution_count": 11,
     "metadata": {},
     "output_type": "execute_result"
    }
   ],
   "source": [
    "kardesler"
   ]
  },
  {
   "cell_type": "code",
   "execution_count": 37,
   "id": "818e1fdf",
   "metadata": {},
   "outputs": [
    {
     "name": "stdout",
     "output_type": "stream",
     "text": [
      "[1, 2, 3, 4]\n"
     ]
    }
   ],
   "source": [
    "numbers = []\n",
    "numbers.append(1)\n",
    "numbers.append(2)\n",
    "numbers.append(3)\n",
    "numbers.append(4)\n",
    "\n",
    "print(numbers)"
   ]
  },
  {
   "cell_type": "code",
   "execution_count": 38,
   "id": "3735592c",
   "metadata": {},
   "outputs": [],
   "source": [
    "numbers.insert(2, 9)"
   ]
  },
  {
   "cell_type": "code",
   "execution_count": 56,
   "id": "fbd6ccc9",
   "metadata": {},
   "outputs": [
    {
     "data": {
      "text/plain": [
       "[1, 2, 9, 3, 4]"
      ]
     },
     "execution_count": 56,
     "metadata": {},
     "output_type": "execute_result"
    }
   ],
   "source": [
    "numbers"
   ]
  },
  {
   "cell_type": "code",
   "execution_count": 39,
   "id": "042687e6",
   "metadata": {},
   "outputs": [],
   "source": [
    "integers = [1, 2, 3, 4]"
   ]
  },
  {
   "cell_type": "code",
   "execution_count": 40,
   "id": "437c4a2f",
   "metadata": {},
   "outputs": [],
   "source": [
    "integers.insert(4, 5)"
   ]
  },
  {
   "cell_type": "code",
   "execution_count": 41,
   "id": "b158c340",
   "metadata": {},
   "outputs": [
    {
     "data": {
      "text/plain": [
       "[1, 2, 3, 4, 5]"
      ]
     },
     "execution_count": 41,
     "metadata": {},
     "output_type": "execute_result"
    }
   ],
   "source": [
    "integers"
   ]
  },
  {
   "cell_type": "code",
   "execution_count": 42,
   "id": "b27d14fc",
   "metadata": {},
   "outputs": [],
   "source": [
    "integers.insert(77, 6)"
   ]
  },
  {
   "cell_type": "code",
   "execution_count": 43,
   "id": "bc18251a",
   "metadata": {},
   "outputs": [
    {
     "data": {
      "text/plain": [
       "[1, 2, 3, 4, 5, 6]"
      ]
     },
     "execution_count": 43,
     "metadata": {},
     "output_type": "execute_result"
    }
   ],
   "source": [
    "integers"
   ]
  },
  {
   "cell_type": "code",
   "execution_count": 44,
   "id": "fc73a511",
   "metadata": {},
   "outputs": [
    {
     "data": {
      "text/plain": [
       "6"
      ]
     },
     "execution_count": 44,
     "metadata": {},
     "output_type": "execute_result"
    }
   ],
   "source": [
    "integers.pop(5)"
   ]
  },
  {
   "cell_type": "code",
   "execution_count": 45,
   "id": "1f7c188c",
   "metadata": {},
   "outputs": [
    {
     "data": {
      "text/plain": [
       "[1, 2, 3, 4, 5]"
      ]
     },
     "execution_count": 45,
     "metadata": {},
     "output_type": "execute_result"
    }
   ],
   "source": [
    "integers"
   ]
  },
  {
   "cell_type": "code",
   "execution_count": 46,
   "id": "e93d1ddd",
   "metadata": {},
   "outputs": [],
   "source": [
    "integers.insert(-1, 7)"
   ]
  },
  {
   "cell_type": "code",
   "execution_count": 48,
   "id": "1ea70538",
   "metadata": {},
   "outputs": [
    {
     "data": {
      "text/plain": [
       "[1, 2, 3, 4, 7, 5]"
      ]
     },
     "execution_count": 48,
     "metadata": {},
     "output_type": "execute_result"
    }
   ],
   "source": [
    "integers"
   ]
  },
  {
   "cell_type": "code",
   "execution_count": 51,
   "id": "9be4abf6",
   "metadata": {},
   "outputs": [
    {
     "data": {
      "text/plain": [
       "4"
      ]
     },
     "execution_count": 51,
     "metadata": {},
     "output_type": "execute_result"
    }
   ],
   "source": [
    "integers.index(7)  # returns the index value of the element of the list"
   ]
  },
  {
   "cell_type": "code",
   "execution_count": 61,
   "id": "0f793a7c",
   "metadata": {},
   "outputs": [
    {
     "data": {
      "text/plain": [
       "[2, 3, 4]"
      ]
     },
     "execution_count": 61,
     "metadata": {},
     "output_type": "execute_result"
    }
   ],
   "source": [
    "integers = [1, 2, 3, 4]\n",
    "del integers[0]\n",
    "\n",
    "integers"
   ]
  },
  {
   "cell_type": "code",
   "execution_count": 62,
   "id": "4ad84c38",
   "metadata": {},
   "outputs": [
    {
     "data": {
      "text/plain": [
       "[1, 4]"
      ]
     },
     "execution_count": 62,
     "metadata": {},
     "output_type": "execute_result"
    }
   ],
   "source": [
    "integers = [1, 2, 3, 4]\n",
    "del integers[1:3]\n",
    "\n",
    "integers"
   ]
  },
  {
   "cell_type": "code",
   "execution_count": 70,
   "id": "dc82e8a7",
   "metadata": {},
   "outputs": [
    {
     "name": "stdout",
     "output_type": "stream",
     "text": [
      "clarusway\n",
      "Clausway\n",
      "Clausway\n"
     ]
    }
   ],
   "source": [
    "full = \"Clarusway\"\n",
    "head = \"clarus\"\n",
    "bottom = \"way\"\n",
    "print(head + bottom)\n",
    "print(full[:3] + full[4:])\n",
    "print(full.replace(\"r\", \"\"))\n"
   ]
  },
  {
   "cell_type": "code",
   "execution_count": 71,
   "id": "a65ef282",
   "metadata": {},
   "outputs": [],
   "source": [
    "numbers = [1, 4, 7, 9]"
   ]
  },
  {
   "cell_type": "code",
   "execution_count": 72,
   "id": "26f9b1b2",
   "metadata": {},
   "outputs": [],
   "source": [
    "numbers.remove(7)"
   ]
  },
  {
   "cell_type": "code",
   "execution_count": 73,
   "id": "64de394e",
   "metadata": {},
   "outputs": [
    {
     "data": {
      "text/plain": [
       "[1, 4, 9]"
      ]
     },
     "execution_count": 73,
     "metadata": {},
     "output_type": "execute_result"
    }
   ],
   "source": [
    "numbers"
   ]
  },
  {
   "cell_type": "code",
   "execution_count": 74,
   "id": "2e5428bd",
   "metadata": {},
   "outputs": [],
   "source": [
    "numbers_2 = [1, 9, 2, 5, 3]"
   ]
  },
  {
   "cell_type": "code",
   "execution_count": 75,
   "id": "2d34c673",
   "metadata": {},
   "outputs": [],
   "source": [
    "numbers_2.sort()"
   ]
  },
  {
   "cell_type": "code",
   "execution_count": 76,
   "id": "a455db5c",
   "metadata": {},
   "outputs": [
    {
     "data": {
      "text/plain": [
       "[1, 2, 3, 5, 9]"
      ]
     },
     "execution_count": 76,
     "metadata": {},
     "output_type": "execute_result"
    }
   ],
   "source": [
    "numbers_2"
   ]
  },
  {
   "cell_type": "code",
   "execution_count": 77,
   "id": "58d4011d",
   "metadata": {},
   "outputs": [],
   "source": [
    "numbers_2.sort(reverse=True)"
   ]
  },
  {
   "cell_type": "code",
   "execution_count": 78,
   "id": "65f84509",
   "metadata": {},
   "outputs": [
    {
     "data": {
      "text/plain": [
       "[9, 5, 3, 2, 1]"
      ]
     },
     "execution_count": 78,
     "metadata": {},
     "output_type": "execute_result"
    }
   ],
   "source": [
    "numbers_2"
   ]
  },
  {
   "cell_type": "code",
   "execution_count": 79,
   "id": "22292b34",
   "metadata": {},
   "outputs": [],
   "source": [
    "names = [\"ali\", \"veli\", \"deli\", \"ayse\"]"
   ]
  },
  {
   "cell_type": "code",
   "execution_count": 80,
   "id": "90294338",
   "metadata": {},
   "outputs": [],
   "source": [
    "names.sort()"
   ]
  },
  {
   "cell_type": "code",
   "execution_count": 81,
   "id": "15e203ce",
   "metadata": {},
   "outputs": [
    {
     "data": {
      "text/plain": [
       "['ali', 'ayse', 'deli', 'veli']"
      ]
     },
     "execution_count": 81,
     "metadata": {},
     "output_type": "execute_result"
    }
   ],
   "source": [
    "names"
   ]
  },
  {
   "cell_type": "code",
   "execution_count": 85,
   "id": "e16cd52d",
   "metadata": {},
   "outputs": [],
   "source": [
    "lst = [\"one\", \"one\", \"two\"]"
   ]
  },
  {
   "cell_type": "code",
   "execution_count": 86,
   "id": "0cd6c8f1",
   "metadata": {},
   "outputs": [],
   "source": [
    "lst.sort()"
   ]
  },
  {
   "cell_type": "code",
   "execution_count": 87,
   "id": "92455ef8",
   "metadata": {},
   "outputs": [
    {
     "data": {
      "text/plain": [
       "['one', 'one', 'two']"
      ]
     },
     "execution_count": 87,
     "metadata": {},
     "output_type": "execute_result"
    }
   ],
   "source": [
    "lst"
   ]
  },
  {
   "cell_type": "code",
   "execution_count": 88,
   "id": "255ba1ce",
   "metadata": {},
   "outputs": [],
   "source": [
    "karakterler = [\"@\", \"-\", \"ali\", \"Ali\"]"
   ]
  },
  {
   "cell_type": "code",
   "execution_count": 89,
   "id": "ff0e0200",
   "metadata": {},
   "outputs": [],
   "source": [
    "karakterler.sort()"
   ]
  },
  {
   "cell_type": "code",
   "execution_count": 90,
   "id": "3a26afa2",
   "metadata": {},
   "outputs": [
    {
     "data": {
      "text/plain": [
       "['-', '@', 'Ali', 'ali']"
      ]
     },
     "execution_count": 90,
     "metadata": {},
     "output_type": "execute_result"
    }
   ],
   "source": [
    "karakterler"
   ]
  },
  {
   "cell_type": "code",
   "execution_count": 91,
   "id": "fc9141bf",
   "metadata": {},
   "outputs": [
    {
     "name": "stdout",
     "output_type": "stream",
     "text": [
      "64\n",
      "45\n",
      "65\n",
      "97\n"
     ]
    }
   ],
   "source": [
    "print(ord(\"@\"))\n",
    "print(ord(\"-\"))\n",
    "print(ord(\"A\"))\n",
    "print(ord(\"a\"))"
   ]
  },
  {
   "cell_type": "code",
   "execution_count": 92,
   "id": "2afe321b",
   "metadata": {},
   "outputs": [],
   "source": [
    "listeler = [[3], [44], [-12], [4, 111]]"
   ]
  },
  {
   "cell_type": "code",
   "execution_count": 93,
   "id": "93dd91fd",
   "metadata": {},
   "outputs": [],
   "source": [
    "listeler.sort()"
   ]
  },
  {
   "cell_type": "code",
   "execution_count": 94,
   "id": "13033283",
   "metadata": {},
   "outputs": [
    {
     "data": {
      "text/plain": [
       "[[-12], [3], [4, 111], [44]]"
      ]
     },
     "execution_count": 94,
     "metadata": {},
     "output_type": "execute_result"
    }
   ],
   "source": [
    "listeler"
   ]
  },
  {
   "cell_type": "code",
   "execution_count": 96,
   "id": "6e181b85",
   "metadata": {},
   "outputs": [
    {
     "name": "stdout",
     "output_type": "stream",
     "text": [
      "\u000b",
      "\n",
      "@\n",
      "c\n",
      "x\n"
     ]
    }
   ],
   "source": [
    "print(chr(11))\n",
    "print(chr(64))\n",
    "print(chr(99))\n",
    "print(chr(120))"
   ]
  },
  {
   "cell_type": "code",
   "execution_count": 43,
   "id": "4239cfa5",
   "metadata": {},
   "outputs": [
    {
     "name": "stdout",
     "output_type": "stream",
     "text": [
      "['2', '0', '2', '0', \"'\", 's', ' ', 'h', 'a', 'r', 'd']\n",
      "[\"2020's hard\"]\n"
     ]
    }
   ],
   "source": [
    "a = \"2020's hard\"\n",
    "b = [\"2020's hard\"]\n",
    "print(list(a))\n",
    "print(b)"
   ]
  },
  {
   "cell_type": "code",
   "execution_count": null,
   "id": "b6a5a4da",
   "metadata": {},
   "outputs": [],
   "source": []
  },
  {
   "cell_type": "markdown",
   "id": "20843f60",
   "metadata": {},
   "source": [
    "# List - Indexing & Slicing a List"
   ]
  },
  {
   "cell_type": "code",
   "execution_count": 2,
   "id": "5e3d37f9",
   "metadata": {},
   "outputs": [
    {
     "data": {
      "text/plain": [
       "'i'"
      ]
     },
     "execution_count": 2,
     "metadata": {},
     "output_type": "execute_result"
    }
   ],
   "source": [
    "\"ali\"[2]"
   ]
  },
  {
   "cell_type": "code",
   "execution_count": 3,
   "id": "3245f0b1",
   "metadata": {},
   "outputs": [
    {
     "name": "stdout",
     "output_type": "stream",
     "text": [
      "blue\n"
     ]
    }
   ],
   "source": [
    "color = [\"red\", \"purple\", \"blue\", \"yellow\", \"green\"]\n",
    "print(color[2])"
   ]
  },
  {
   "cell_type": "code",
   "execution_count": 6,
   "id": "94225434",
   "metadata": {},
   "outputs": [
    {
     "name": "stdout",
     "output_type": "stream",
     "text": [
      "[['New York', 'London', 'Istanbul', 'Seoul', 'Sydney']]\n",
      "['New York', 'London', 'Istanbul', 'Seoul', 'Sydney']\n",
      "a\n"
     ]
    }
   ],
   "source": [
    "city = ['New York', 'London', 'Istanbul', 'Seoul', 'Sydney']\n",
    "city_list = []\n",
    "city_list.append(city)\n",
    "\n",
    "print(city_list)\n",
    "print(city_list[0])\n",
    "print(city_list[0][2][3])"
   ]
  },
  {
   "cell_type": "code",
   "execution_count": 7,
   "id": "d41e5298",
   "metadata": {},
   "outputs": [
    {
     "name": "stdout",
     "output_type": "stream",
     "text": [
      "[['New York', 'London', 'Istanbul', 'Seoul', 'Sydney']]\n"
     ]
    }
   ],
   "source": [
    "city_list = [['New York', 'London', 'Istanbul', 'Seoul', 'Sydney']]\n"
   ]
  },
  {
   "cell_type": "code",
   "execution_count": 8,
   "id": "2b74f2b5",
   "metadata": {},
   "outputs": [
    {
     "data": {
      "text/plain": [
       "list"
      ]
     },
     "execution_count": 8,
     "metadata": {},
     "output_type": "execute_result"
    }
   ],
   "source": [
    "type(city_list[0])"
   ]
  },
  {
   "cell_type": "code",
   "execution_count": 9,
   "id": "60c310c9",
   "metadata": {},
   "outputs": [
    {
     "data": {
      "text/plain": [
       "int"
      ]
     },
     "execution_count": 9,
     "metadata": {},
     "output_type": "execute_result"
    }
   ],
   "source": [
    "benzer_is = [2]\n",
    "type(benzer_is[0])"
   ]
  },
  {
   "cell_type": "code",
   "execution_count": 20,
   "id": "8712db7e",
   "metadata": {},
   "outputs": [
    {
     "name": "stdout",
     "output_type": "stream",
     "text": [
      "[1, 2, 3, 4, 5, 6, 7, 8, 9, 10]\n",
      "[1, 3, 5, 7, 9]\n"
     ]
    }
   ],
   "source": [
    "print(numbers[0::2])"
   ]
  },
  {
   "cell_type": "code",
   "execution_count": 19,
   "id": "487f662c",
   "metadata": {},
   "outputs": [
    {
     "name": "stdout",
     "output_type": "stream",
     "text": [
      "[1, 3, 5, 7, 9]\n"
     ]
    }
   ],
   "source": [
    "print(numbers[0::2])"
   ]
  },
  {
   "cell_type": "code",
   "execution_count": 33,
   "id": "52032fa9",
   "metadata": {},
   "outputs": [
    {
     "data": {
      "text/plain": [
       "[0, 1, 2, 3, 4, 5, 6, 7, 8, 9, 10]"
      ]
     },
     "execution_count": 33,
     "metadata": {},
     "output_type": "execute_result"
    }
   ],
   "source": [
    "numbers = list(range(11))\n",
    "numbers"
   ]
  },
  {
   "cell_type": "code",
   "execution_count": 38,
   "id": "584f6470",
   "metadata": {},
   "outputs": [
    {
     "name": "stdout",
     "output_type": "stream",
     "text": [
      "[1, 2, 3, 4, 5, 6, 7, 8, 9, 10]\n",
      "[1, 3, 5, 7, 9]\n",
      "6\n"
     ]
    }
   ],
   "source": [
    "odd_numbers = list(range(1, 11))\n",
    "print(odd_numbers)\n",
    "print(odd_numbers[0::2])  # slicing a list\n",
    "print(odd_numbers[5])  # indexing a list"
   ]
  },
  {
   "cell_type": "code",
   "execution_count": 31,
   "id": "648c4fc6",
   "metadata": {},
   "outputs": [
    {
     "name": "stdout",
     "output_type": "stream",
     "text": [
      "[0, 4, 8, 12, 16]\n"
     ]
    }
   ],
   "source": [
    "sayilar = list(range(0, 20, 4))\n",
    "print(sayilar)"
   ]
  },
  {
   "cell_type": "code",
   "execution_count": 34,
   "id": "3c1aa671",
   "metadata": {},
   "outputs": [
    {
     "name": "stdout",
     "output_type": "stream",
     "text": [
      "3\n"
     ]
    }
   ],
   "source": [
    "print(len([[1, 2, 3]][0]))"
   ]
  },
  {
   "cell_type": "code",
   "execution_count": null,
   "id": "507e5ab4",
   "metadata": {},
   "outputs": [],
   "source": [
    "animals = ['elephant', 'bear', 'fox', 'wolf', 'rabbit', 'deer', 'giraffe']\n",
    "print(animals[:])\n",
    "print(animals[3:])\n",
    "print(animals[:5])\n",
    "print(animals[::2])"
   ]
  },
  {
   "cell_type": "code",
   "execution_count": null,
   "id": "da18fe9a",
   "metadata": {},
   "outputs": [],
   "source": []
  },
  {
   "cell_type": "code",
   "execution_count": 4,
   "id": "49004af3",
   "metadata": {},
   "outputs": [
    {
     "name": "stdout",
     "output_type": "stream",
     "text": [
      "['one', 'two', 'three']\n"
     ]
    }
   ],
   "source": [
    "my_list = [1, [1, \"one\", 2, \"two\", 3, \"three\"]]\n",
    "print(my_list[1][1::2])"
   ]
  },
  {
   "cell_type": "code",
   "execution_count": 7,
   "id": "ab069104",
   "metadata": {},
   "outputs": [
    {
     "data": {
      "text/plain": [
       "[1, 'one', 2, 'two', 3, 'three']"
      ]
     },
     "execution_count": 7,
     "metadata": {},
     "output_type": "execute_result"
    }
   ],
   "source": [
    "my_list[1]"
   ]
  },
  {
   "cell_type": "code",
   "execution_count": 93,
   "id": "f96d4783",
   "metadata": {},
   "outputs": [
    {
     "name": "stdout",
     "output_type": "stream",
     "text": [
      "My two favorite flowers are tulip and rose, two favorite colors are blue and green.\n"
     ]
    }
   ],
   "source": [
    "flowers = [[\"jasmine\", [\"lavender\", \"rose\"], \"tulip\"]]\n",
    "colors = [\"red\", (\"blue\", [\"yellow\", \"green\"]), \"pink\"]\n",
    "text = \"My two favorite flowers are {} and {}, two favorite colors are {} and {}.\".format(flowers[0][2], flowers[0][1][1], colors[1][0], colors[1][1][1])\n",
    "print(text)"
   ]
  },
  {
   "cell_type": "code",
   "execution_count": 96,
   "id": "16825657",
   "metadata": {},
   "outputs": [
    {
     "name": "stdout",
     "output_type": "stream",
     "text": [
      "I am 40 years old. \n",
      "\tI have two children. \n",
      "\t\tData Science is my IT domain.\n"
     ]
    }
   ],
   "source": [
    "escapes = [\"\\n\\t\", (\"\\t\", \"\\t\\t\"), [\"\\n\", \"\\n\\t\\t\"]]\n",
    "\n",
    "sentence = \"I am 40 years old. {}I have two children. {}Data Science is my IT domain.\".format(escapes[0], escapes[2][1])\n",
    "\n",
    "print(sentence)"
   ]
  },
  {
   "cell_type": "markdown",
   "id": "6193f832",
   "metadata": {},
   "source": [
    "<a id=\"toc\"></a>\n",
    "\n",
    "## <p style=\"background-color:#9d4f8c; font-family:newtimeroman; color:#FFF9ED; font-size:175%; text-align:center; border-radius:10px 10px;\">Tuples</p>\n",
    "\n",
    "Degistirilemezler. Bu yuzden daha guvenlidirler\n",
    "\n",
    "Elemanlarina etki yapilabilir\n",
    "\n",
    "Listeler gore daha hizli. Arka planda calisan cok fazla kod/fonksiyon yok\n",
    "\n",
    "\n",
    "## Creating a tuple\n",
    "\n",
    "    ('a', 'b', 'c')      or    tuple('abc')"
   ]
  },
  {
   "cell_type": "code",
   "execution_count": 3,
   "id": "d5d97dde",
   "metadata": {},
   "outputs": [
    {
     "name": "stdout",
     "output_type": "stream",
     "text": [
      "('a', 'b', 'c')\n",
      "('a', 'b', 'c')\n"
     ]
    }
   ],
   "source": [
    "x = ('a', 'b', 'c')\n",
    "y = tuple('abc')\n",
    "\n",
    "print(x)\n",
    "print(y)"
   ]
  },
  {
   "cell_type": "code",
   "execution_count": 5,
   "id": "ab6de252",
   "metadata": {},
   "outputs": [],
   "source": [
    "import sys"
   ]
  },
  {
   "cell_type": "code",
   "execution_count": 7,
   "id": "9de3b65a",
   "metadata": {},
   "outputs": [
    {
     "name": "stdout",
     "output_type": "stream",
     "text": [
      "88\n",
      "64\n"
     ]
    }
   ],
   "source": [
    "m = [1, 2, 3]\n",
    "n = (1, 2, 3)\n",
    "\n",
    "print(sys.getsizeof(m))\n",
    "print(sys.getsizeof(n))  # Tuples are faster than lists (they occupy less space)"
   ]
  },
  {
   "cell_type": "code",
   "execution_count": 8,
   "id": "4be266ff",
   "metadata": {},
   "outputs": [
    {
     "name": "stdout",
     "output_type": "stream",
     "text": [
      "<class 'str'>\n",
      "<class 'tuple'>\n",
      "<class 'tuple'>\n"
     ]
    }
   ],
   "source": [
    "my_tuple1 = (\"Alps\")   # NOT a tuple\n",
    "my_tuple2 = (\"Alps\",)\n",
    "my_tuple3 = (\"a\", \"b\", \"c\")\n",
    "\n",
    "print(type(my_tuple1))\n",
    "print(type(my_tuple2))\n",
    "print(type(my_tuple3))"
   ]
  },
  {
   "cell_type": "code",
   "execution_count": 13,
   "id": "28cf484d",
   "metadata": {},
   "outputs": [
    {
     "data": {
      "text/plain": [
       "['A', 'l', 'p', 's']"
      ]
     },
     "execution_count": 13,
     "metadata": {},
     "output_type": "execute_result"
    }
   ],
   "source": [
    "list(my_tuple1)"
   ]
  },
  {
   "cell_type": "code",
   "execution_count": 14,
   "id": "1aeb226f",
   "metadata": {},
   "outputs": [
    {
     "data": {
      "text/plain": [
       "['Alps']"
      ]
     },
     "execution_count": 14,
     "metadata": {},
     "output_type": "execute_result"
    }
   ],
   "source": [
    "list(my_tuple2)"
   ]
  },
  {
   "cell_type": "code",
   "execution_count": 15,
   "id": "eccf50a2",
   "metadata": {},
   "outputs": [
    {
     "data": {
      "text/plain": [
       "['a', 'b', 'c']"
      ]
     },
     "execution_count": 15,
     "metadata": {},
     "output_type": "execute_result"
    }
   ],
   "source": [
    "list(my_tuple3)"
   ]
  },
  {
   "cell_type": "code",
   "execution_count": 16,
   "id": "bf4bea74",
   "metadata": {},
   "outputs": [
    {
     "name": "stdout",
     "output_type": "stream",
     "text": [
      "[1, 4, 3, 2, 3, 4]\n",
      "<class 'list'> [1, 4, 3, 2, 3, 4]\n"
     ]
    }
   ],
   "source": [
    "my_tuple = (1, 4, 3, 2, 3, 4)\n",
    "my_list = list(my_tuple)\n",
    "\n",
    "print(my_list), my_list\n",
    "print(type(my_list), my_list)"
   ]
  },
  {
   "cell_type": "code",
   "execution_count": 17,
   "id": "e67833e1",
   "metadata": {},
   "outputs": [
    {
     "name": "stdout",
     "output_type": "stream",
     "text": [
      "(1, 2, 3, 4, 5, 6, 7, 8, 9, 10)\n",
      "<class 'tuple'>\n"
     ]
    }
   ],
   "source": [
    "number = tuple(range(1, 11))\n",
    "\n",
    "print(number, type(number), sep=\"\\n\")"
   ]
  },
  {
   "cell_type": "code",
   "execution_count": 20,
   "id": "ac74cb69",
   "metadata": {},
   "outputs": [
    {
     "name": "stdout",
     "output_type": "stream",
     "text": [
      "\n",
      "ali\n",
      "('ali',)\n",
      "('ali', 'deli', 'veli')\n",
      "alideliveli\n",
      "\n",
      "<class 'str'>\n",
      "<class 'tuple'>\n",
      "<class 'tuple'>\n",
      "<class 'str'>\n"
     ]
    }
   ],
   "source": [
    "a = \"ali\"\n",
    "b = \"ali\",\n",
    "c = \"ali\", \"deli\", \"veli\"\n",
    "d = \"ali\" \"deli\" \"veli\"\n",
    "\n",
    "print()\n",
    "print(a)\n",
    "print(b)\n",
    "print(c)\n",
    "print(d)\n",
    "\n",
    "print()\n",
    "print(type(a))\n",
    "print(type(b))\n",
    "print(type(c))\n",
    "print(type(d))"
   ]
  },
  {
   "cell_type": "code",
   "execution_count": null,
   "id": "79db7311",
   "metadata": {},
   "outputs": [],
   "source": [
    "a = range(2, 10)\n",
    "print(a)\n",
    "print(* a)  #  basina bir * konularak RANGE gorunur hale getirilebilir\n",
    "print(list(a))"
   ]
  },
  {
   "cell_type": "code",
   "execution_count": 29,
   "id": "393df893",
   "metadata": {},
   "outputs": [
    {
     "data": {
      "text/plain": [
       "(1, 2, 3, 4, 5, 6, 7, 8, 9, 10)"
      ]
     },
     "execution_count": 29,
     "metadata": {},
     "output_type": "execute_result"
    }
   ],
   "source": [
    "sayilar = tuple(range(1, 11))\n",
    "sayilar"
   ]
  },
  {
   "cell_type": "code",
   "execution_count": 30,
   "id": "852b4916",
   "metadata": {},
   "outputs": [
    {
     "data": {
      "text/plain": [
       "[1, 2, 3, 4, 5, 6, 7, 8, 9, 10]"
      ]
     },
     "execution_count": 30,
     "metadata": {},
     "output_type": "execute_result"
    }
   ],
   "source": [
    "liste_sayilar = list(sayilar)\n",
    "liste_sayilar"
   ]
  },
  {
   "cell_type": "code",
   "execution_count": 31,
   "id": "a33b1a7f",
   "metadata": {},
   "outputs": [
    {
     "data": {
      "text/plain": [
       "[1, 2, 99, 4, 5, 6, 7, 8, 9, 10]"
      ]
     },
     "execution_count": 31,
     "metadata": {},
     "output_type": "execute_result"
    }
   ],
   "source": [
    "liste_sayilar[2] = 99\n",
    "liste_sayilar"
   ]
  },
  {
   "cell_type": "code",
   "execution_count": 32,
   "id": "f03480a4",
   "metadata": {},
   "outputs": [
    {
     "data": {
      "text/plain": [
       "[1, 2, 99, 4, 5, 6, 7, 8, 9, 'ten']"
      ]
     },
     "execution_count": 32,
     "metadata": {},
     "output_type": "execute_result"
    }
   ],
   "source": [
    "liste_sayilar[-1] = \"ten\"   # \"9\"un yerine gelmez. append gibi calisir\n",
    "liste_sayilar"
   ]
  },
  {
   "cell_type": "code",
   "execution_count": 33,
   "id": "5e63f790",
   "metadata": {},
   "outputs": [
    {
     "data": {
      "text/plain": [
       "(1, 2, 3, 4, 5, 6, 7, 8, 9, 10)"
      ]
     },
     "execution_count": 33,
     "metadata": {},
     "output_type": "execute_result"
    }
   ],
   "source": [
    "sayilar"
   ]
  },
  {
   "cell_type": "code",
   "execution_count": 34,
   "id": "c8d64861",
   "metadata": {},
   "outputs": [
    {
     "ename": "TypeError",
     "evalue": "'tuple' object does not support item assignment",
     "output_type": "error",
     "traceback": [
      "\u001b[0;31m---------------------------------------------------------------------------\u001b[0m",
      "\u001b[0;31mTypeError\u001b[0m                                 Traceback (most recent call last)",
      "Cell \u001b[0;32mIn [34], line 1\u001b[0m\n\u001b[0;32m----> 1\u001b[0m \u001b[43msayilar\u001b[49m\u001b[43m[\u001b[49m\u001b[38;5;241;43m2\u001b[39;49m\u001b[43m]\u001b[49m \u001b[38;5;241m=\u001b[39m \u001b[38;5;241m33\u001b[39m\n",
      "\u001b[0;31mTypeError\u001b[0m: 'tuple' object does not support item assignment"
     ]
    }
   ],
   "source": [
    "sayilar[2] = 33  # 'tuple' object does not support item assignment"
   ]
  },
  {
   "cell_type": "code",
   "execution_count": null,
   "id": "089dd647",
   "metadata": {},
   "outputs": [],
   "source": []
  },
  {
   "cell_type": "markdown",
   "id": "19973c22",
   "metadata": {},
   "source": [
    "**INDEXING a TUPLE and CHANGING THE TUPLE**\n",
    "\n",
    "It works the sme as lists"
   ]
  },
  {
   "cell_type": "code",
   "execution_count": 35,
   "id": "b1d9462f",
   "metadata": {},
   "outputs": [
    {
     "data": {
      "text/plain": [
       "'six'"
      ]
     },
     "execution_count": 35,
     "metadata": {},
     "output_type": "execute_result"
    }
   ],
   "source": [
    "mix_tuple = (\"11\", 11, [2, \"two\", (\"six\", 6)], (5, \"fair\"))\n",
    "mix_tuple[2][2][0]"
   ]
  },
  {
   "cell_type": "code",
   "execution_count": 36,
   "id": "bd5b276e",
   "metadata": {},
   "outputs": [
    {
     "data": {
      "text/plain": [
       "[2, 'two', ('six', 6)]"
      ]
     },
     "execution_count": 36,
     "metadata": {},
     "output_type": "execute_result"
    }
   ],
   "source": [
    "mix_tuple[2]"
   ]
  },
  {
   "cell_type": "code",
   "execution_count": 39,
   "id": "20695b7d",
   "metadata": {},
   "outputs": [],
   "source": [
    "mix_tuple[2].append(\"SURPRISE\")"
   ]
  },
  {
   "cell_type": "code",
   "execution_count": 40,
   "id": "b872501c",
   "metadata": {},
   "outputs": [
    {
     "data": {
      "text/plain": [
       "[2, 'two', ('six', 6), 'SURPRISE']"
      ]
     },
     "execution_count": 40,
     "metadata": {},
     "output_type": "execute_result"
    }
   ],
   "source": [
    "mix_tuple[2]"
   ]
  },
  {
   "cell_type": "code",
   "execution_count": 41,
   "id": "5f314412",
   "metadata": {},
   "outputs": [
    {
     "data": {
      "text/plain": [
       "('11', 11, [2, 'two', ('six', 6), 'SURPRISE'], (5, 'fair'))"
      ]
     },
     "execution_count": 41,
     "metadata": {},
     "output_type": "execute_result"
    }
   ],
   "source": [
    "mix_tuple  # Tuple'in elemani indexlenerek \"tuple\" icinde degisiklik yapildi"
   ]
  },
  {
   "cell_type": "code",
   "execution_count": 42,
   "id": "057cc0cb",
   "metadata": {},
   "outputs": [
    {
     "data": {
      "text/plain": [
       "('11', 11, [2, 'SEVEN', ('six', 6), 'SURPRISE'], (5, 'fair'))"
      ]
     },
     "execution_count": 42,
     "metadata": {},
     "output_type": "execute_result"
    }
   ],
   "source": [
    "mix_tuple[2][1] = \"SEVEN\"\n",
    "mix_tuple"
   ]
  },
  {
   "cell_type": "code",
   "execution_count": 43,
   "id": "d629c4da",
   "metadata": {},
   "outputs": [
    {
     "name": "stdout",
     "output_type": "stream",
     "text": [
      "fair\n",
      "fair\n"
     ]
    }
   ],
   "source": [
    "# TASK: Print 'fair' from the above tuple using positive/negative indexing:\n",
    "\n",
    "print(mix_tuple[-1][-1])\n",
    "print(mix_tuple[3][1])"
   ]
  },
  {
   "cell_type": "code",
   "execution_count": 64,
   "id": "5465861d",
   "metadata": {},
   "outputs": [
    {
     "data": {
      "text/plain": [
       "0"
      ]
     },
     "execution_count": 64,
     "metadata": {},
     "output_type": "execute_result"
    }
   ],
   "source": [
    "mix_tuple = (\"11\", 11, [2, \"two\", (\"six\", 6)], (5, \"fair\"))\n",
    "\n",
    "mix_tuple.index(\"11\")  # returns the index value of the element"
   ]
  },
  {
   "cell_type": "code",
   "execution_count": 69,
   "id": "14f89b20",
   "metadata": {},
   "outputs": [
    {
     "data": {
      "text/plain": [
       "2"
      ]
     },
     "execution_count": 69,
     "metadata": {},
     "output_type": "execute_result"
    }
   ],
   "source": [
    "numbers = (1, 2, 5, 2, 1, 2, 3, 4, 5)\n",
    "\n",
    "numbers.count(5)  "
   ]
  },
  {
   "cell_type": "code",
   "execution_count": 89,
   "id": "ab42fbef",
   "metadata": {},
   "outputs": [
    {
     "name": "stdout",
     "output_type": "stream",
     "text": [
      "[10, 9, 8, 7, 6, 5, 4, 3, 2, 1]\n"
     ]
    }
   ],
   "source": [
    "my_list = list(range(1, 11))\n",
    "my_list.sort(reverse=True)\n",
    "print(my_list)"
   ]
  },
  {
   "cell_type": "code",
   "execution_count": null,
   "id": "df0ed990",
   "metadata": {},
   "outputs": [],
   "source": []
  },
  {
   "cell_type": "markdown",
   "id": "eba0205e",
   "metadata": {},
   "source": [
    "<a id=\"toc\"></a>\n",
    "\n",
    "## <p style=\"background-color:#9d4f8c; font-family:newtimeroman; color:#FFF9ED; font-size:175%; text-align:center; border-radius:10px 10px;\">Dictionaries</p>\n",
    "\n",
    "A dictionary in Python is a collection of key-value pairs called items of a dictionary. \n",
    "\n",
    "   **Can be created with:**  \n",
    "    \n",
    "    {'key1': value1, 'key2': value2, 'key3': value3}  or  \n",
    "    \n",
    "    dict(key1 = value1, key2 = value2, key3 = value3)"
   ]
  },
  {
   "cell_type": "code",
   "execution_count": 46,
   "id": "f4a9136e",
   "metadata": {},
   "outputs": [
    {
     "name": "stdout",
     "output_type": "stream",
     "text": [
      "{'animal': ('dog', 'cat'), 'planet': ['Neptun', 'Saturn', 'Jupiter'], 'number': 40, 'pi': 3.14, 'is_good': True}\n",
      "{'animal': 'dog', 'planet': 'neptun', 'number': 40, 'pi': 3.14, 'is_good': True}\n"
     ]
    }
   ],
   "source": [
    "# First way to create a dict with {}\n",
    "\n",
    "mix_values_1 = {'animal': ('dog', 'cat'),\n",
    "                'planet': ['Neptun', 'Saturn', 'Jupiter'],\n",
    "                'number': 40,\n",
    "                'pi': 3.14,\n",
    "                'is_good': True}\n",
    "\n",
    "# Second way to create a dict with dict() function\n",
    "\n",
    "mix_values_2 = dict(animal='dog', \n",
    "                    planet='neptun', \n",
    "                    number=40, \n",
    "                    pi=3.14, \n",
    "                    is_good=True)\n",
    "\n",
    "print(mix_values_1)\n",
    "print(mix_values_2)"
   ]
  },
  {
   "cell_type": "code",
   "execution_count": 97,
   "id": "ebf63e31",
   "metadata": {},
   "outputs": [
    {
     "name": "stdout",
     "output_type": "stream",
     "text": [
      "{'ali': 33, 'deli': 41, 'veli': 45}\n",
      "{'ali': 33, 'deli': 41, 'veli': 45}\n"
     ]
    }
   ],
   "source": [
    "dict1 = {\"ali\": 33, \"deli\": 41, \"veli\": 45}\n",
    "dict2 = dict(ali=33, deli=41, veli=45)\n",
    "\n",
    "print(dict1)\n",
    "print(dict2)"
   ]
  },
  {
   "cell_type": "code",
   "execution_count": 50,
   "id": "1b3b74ec",
   "metadata": {},
   "outputs": [
    {
     "data": {
      "text/plain": [
       "{1: 'one',\n",
       " 'two': 2,\n",
       " False: [1, 2, 3],\n",
       " 1.5: ('one', 'two'),\n",
       " (1, 2): 'clarusway'}"
      ]
     },
     "execution_count": 50,
     "metadata": {},
     "output_type": "execute_result"
    }
   ],
   "source": [
    "first_dict = {1 : \"one\", \"two\" : 2, False : [1, 2, 3], 1.5 : (\"one\", \"two\"), (1, 2) : \"clarusway\"}\n",
    "first_dict"
   ]
  },
  {
   "cell_type": "markdown",
   "id": "445402e0",
   "metadata": {},
   "source": [
    "### bir liste, mutable (değiştirilebilir) olduğundan key olarak tanımlanamaz!"
   ]
  },
  {
   "cell_type": "code",
   "execution_count": 98,
   "id": "27ae315e",
   "metadata": {},
   "outputs": [
    {
     "ename": "TypeError",
     "evalue": "unhashable type: 'list'",
     "output_type": "error",
     "traceback": [
      "\u001b[0;31m---------------------------------------------------------------------------\u001b[0m",
      "\u001b[0;31mTypeError\u001b[0m                                 Traceback (most recent call last)",
      "Cell \u001b[0;32mIn [98], line 3\u001b[0m\n\u001b[1;32m      1\u001b[0m \u001b[38;5;66;03m# \"key\" can NOT be unhashable type. Should not be something that can be changed. Look at [1, 2]\u001b[39;00m\n\u001b[0;32m----> 3\u001b[0m second_dict \u001b[38;5;241m=\u001b[39m {[\u001b[38;5;241m1\u001b[39m, \u001b[38;5;241m2\u001b[39m]: \u001b[38;5;124m\"\u001b[39m\u001b[38;5;124mone\u001b[39m\u001b[38;5;124m\"\u001b[39m, \u001b[38;5;124m\"\u001b[39m\u001b[38;5;124mtwo\u001b[39m\u001b[38;5;124m\"\u001b[39m: \u001b[38;5;241m2\u001b[39m, \u001b[38;5;28;01mFalse\u001b[39;00m: [\u001b[38;5;241m1\u001b[39m, \u001b[38;5;241m2\u001b[39m, \u001b[38;5;241m3\u001b[39m], \u001b[38;5;241m1.5\u001b[39m: (\u001b[38;5;124m\"\u001b[39m\u001b[38;5;124mone\u001b[39m\u001b[38;5;124m\"\u001b[39m, \u001b[38;5;124m\"\u001b[39m\u001b[38;5;124mtwo\u001b[39m\u001b[38;5;124m\"\u001b[39m), (\u001b[38;5;241m1\u001b[39m, \u001b[38;5;241m2\u001b[39m): \u001b[38;5;124m\"\u001b[39m\u001b[38;5;124mclarusway\u001b[39m\u001b[38;5;124m\"\u001b[39m}\n",
      "\u001b[0;31mTypeError\u001b[0m: unhashable type: 'list'"
     ]
    }
   ],
   "source": [
    "# \"key\" can NOT be unhashable type. Should not be something that can be changed. Look at [1, 2]\n",
    "\n",
    "second_dict = {[1, 2]: \"one\", \"two\": 2, False: [1, 2, 3], 1.5: (\"one\", \"two\"), (1, 2): \"clarusway\"}"
   ]
  },
  {
   "cell_type": "markdown",
   "id": "fa92d8bb",
   "metadata": {},
   "source": [
    "### bir dictionary, mutable (değiştirilebilir) olduğundan key olarak tanımlanamaz!"
   ]
  },
  {
   "cell_type": "code",
   "execution_count": 99,
   "id": "7e5ffb61",
   "metadata": {},
   "outputs": [
    {
     "ename": "TypeError",
     "evalue": "unhashable type: 'dict'",
     "output_type": "error",
     "traceback": [
      "\u001b[0;31m---------------------------------------------------------------------------\u001b[0m",
      "\u001b[0;31mTypeError\u001b[0m                                 Traceback (most recent call last)",
      "Cell \u001b[0;32mIn [99], line 1\u001b[0m\n\u001b[0;32m----> 1\u001b[0m second_dict \u001b[38;5;241m=\u001b[39m {{\u001b[38;5;241m1\u001b[39m: \u001b[38;5;241m2\u001b[39m}: \u001b[38;5;124m\"\u001b[39m\u001b[38;5;124mone\u001b[39m\u001b[38;5;124m\"\u001b[39m, \n\u001b[1;32m      2\u001b[0m                \u001b[38;5;124m\"\u001b[39m\u001b[38;5;124mtwo\u001b[39m\u001b[38;5;124m\"\u001b[39m: \u001b[38;5;241m2\u001b[39m, \n\u001b[1;32m      3\u001b[0m                \u001b[38;5;28;01mFalse\u001b[39;00m: [\u001b[38;5;241m1\u001b[39m, \u001b[38;5;241m2\u001b[39m, \u001b[38;5;241m3\u001b[39m],\n\u001b[1;32m      4\u001b[0m                \u001b[38;5;241m1.5\u001b[39m: (\u001b[38;5;124m\"\u001b[39m\u001b[38;5;124mone\u001b[39m\u001b[38;5;124m\"\u001b[39m, \u001b[38;5;124m\"\u001b[39m\u001b[38;5;124mtwo\u001b[39m\u001b[38;5;124m\"\u001b[39m), \n\u001b[1;32m      5\u001b[0m                (\u001b[38;5;241m1\u001b[39m, \u001b[38;5;241m2\u001b[39m): \u001b[38;5;124m\"\u001b[39m\u001b[38;5;124mclarusway\u001b[39m\u001b[38;5;124m\"\u001b[39m\n\u001b[1;32m      6\u001b[0m               }\n",
      "\u001b[0;31mTypeError\u001b[0m: unhashable type: 'dict'"
     ]
    }
   ],
   "source": [
    "second_dict = {{1: 2}: \"one\", \n",
    "               \"two\": 2, \n",
    "               False: [1, 2, 3],\n",
    "               1.5: (\"one\", \"two\"), \n",
    "               (1, 2): \"clarusway\"\n",
    "              }"
   ]
  },
  {
   "cell_type": "code",
   "execution_count": null,
   "id": "231a2133",
   "metadata": {},
   "outputs": [],
   "source": []
  },
  {
   "cell_type": "code",
   "execution_count": null,
   "id": "285fecc8",
   "metadata": {},
   "outputs": [],
   "source": []
  },
  {
   "cell_type": "markdown",
   "id": "443e39af",
   "metadata": {},
   "source": [
    "### süslü parantez ile (manuel olarak) dict. oluştururken \"key\" ler unique olmasa da hata vermez! iki aynı key'den sonuncu esas alır."
   ]
  },
  {
   "cell_type": "code",
   "execution_count": 103,
   "id": "c0e03d1c",
   "metadata": {},
   "outputs": [
    {
     "data": {
      "text/plain": [
       "{'ali': 3, 'deli': 4}"
      ]
     },
     "execution_count": 103,
     "metadata": {},
     "output_type": "execute_result"
    }
   ],
   "source": [
    "sozluk = {\"ali\": 2, \"ali\": 3, \"deli\": 4}  # ali icin verilen ilk degeri kabul eder ama sonra degismis (EN SON) halini verir.\n",
    "sozluk"
   ]
  },
  {
   "cell_type": "markdown",
   "id": "d53a30a6",
   "metadata": {},
   "source": [
    "### dict fonksiyonu ile (değişken-value ataması yaparak) dict. oluştururken \"key\" ler unique olmalı!"
   ]
  },
  {
   "cell_type": "code",
   "execution_count": 54,
   "id": "5760c9f0",
   "metadata": {},
   "outputs": [
    {
     "ename": "SyntaxError",
     "evalue": "keyword argument repeated: isim (2946282986.py, line 1)",
     "output_type": "error",
     "traceback": [
      "\u001b[0;36m  Cell \u001b[0;32mIn [54], line 1\u001b[0;36m\u001b[0m\n\u001b[0;31m    dict(isim = \"ali\", isim = \"deli\")\u001b[0m\n\u001b[0m                       ^\u001b[0m\n\u001b[0;31mSyntaxError\u001b[0m\u001b[0;31m:\u001b[0m keyword argument repeated: isim\n"
     ]
    }
   ],
   "source": [
    "dict(isim = \"ali\", isim = \"deli\")  # Bu formatta repeatition'a izin vermez"
   ]
  },
  {
   "cell_type": "code",
   "execution_count": 55,
   "id": "24f2666d",
   "metadata": {},
   "outputs": [
    {
     "data": {
      "text/plain": [
       "{'isim': 'ali deli veli'}"
      ]
     },
     "execution_count": 55,
     "metadata": {},
     "output_type": "execute_result"
    }
   ],
   "source": [
    "dict(isim = \"ali deli veli\")"
   ]
  },
  {
   "cell_type": "code",
   "execution_count": 56,
   "id": "9100c876",
   "metadata": {},
   "outputs": [
    {
     "data": {
      "text/plain": [
       "{'name1': 'Irfan', 'name2': 'Gulcan', 'name3': 'Vildan', 'name4': 'Sarah'}"
      ]
     },
     "execution_count": 56,
     "metadata": {},
     "output_type": "execute_result"
    }
   ],
   "source": [
    "#TASK 1\n",
    "\n",
    "family = {\"name1\" : \"Irfan\", \"name2\" : \"Gulcan\", \"name3\" : \"Vildan\"}\n",
    "family[\"name4\"] = \"Sarah\"\n",
    "\n",
    "family"
   ]
  },
  {
   "cell_type": "code",
   "execution_count": 104,
   "id": "97a118f8",
   "metadata": {},
   "outputs": [
    {
     "data": {
      "text/plain": [
       "{'name1': 'Irfan', 'name2': 'Gulcan', 'name3': 'Vildan', 'name4': 'Sarah'}"
      ]
     },
     "execution_count": 104,
     "metadata": {},
     "output_type": "execute_result"
    }
   ],
   "source": [
    "#TASK 2\n",
    "\n",
    "family2 = dict(name1 = \"Irfan\", name2 = \"Gulcan\", name3 = \"Vildan\")\n",
    "family2[\"name4\"] = \"Sarah\"\n",
    "family2"
   ]
  },
  {
   "cell_type": "markdown",
   "id": "47ed21c0",
   "metadata": {},
   "source": [
    "**INDEXING a DICTIONARY**"
   ]
  },
  {
   "cell_type": "code",
   "execution_count": 3,
   "id": "7fe687d2",
   "metadata": {},
   "outputs": [
    {
     "data": {
      "text/plain": [
       "{1: 'one',\n",
       " 'two': 2,\n",
       " False: [1, 2, 3],\n",
       " 1.5: ('one', 'two'),\n",
       " (1, 2): 'clarusway'}"
      ]
     },
     "execution_count": 3,
     "metadata": {},
     "output_type": "execute_result"
    }
   ],
   "source": [
    "first_dict = {1 : \"one\", \"two\" : 2, False : [1, 2, 3], 1.5 : (\"one\", \"two\"), (1, 2) : \"clarusway\"}\n",
    "first_dict"
   ]
  },
  {
   "cell_type": "code",
   "execution_count": 4,
   "id": "a093b144",
   "metadata": {},
   "outputs": [
    {
     "data": {
      "text/plain": [
       "[1, 2, 3]"
      ]
     },
     "execution_count": 4,
     "metadata": {},
     "output_type": "execute_result"
    }
   ],
   "source": [
    "first_dict[False]"
   ]
  },
  {
   "cell_type": "code",
   "execution_count": 5,
   "id": "55e1a2f1",
   "metadata": {},
   "outputs": [
    {
     "data": {
      "text/plain": [
       "('one', 'two')"
      ]
     },
     "execution_count": 5,
     "metadata": {},
     "output_type": "execute_result"
    }
   ],
   "source": [
    "first_dict[1.5]"
   ]
  },
  {
   "cell_type": "code",
   "execution_count": 6,
   "id": "12b64b3e",
   "metadata": {},
   "outputs": [
    {
     "data": {
      "text/plain": [
       "2"
      ]
     },
     "execution_count": 6,
     "metadata": {},
     "output_type": "execute_result"
    }
   ],
   "source": [
    "first_dict[\"two\"]"
   ]
  },
  {
   "cell_type": "code",
   "execution_count": 7,
   "id": "a8c4010f",
   "metadata": {},
   "outputs": [
    {
     "data": {
      "text/plain": [
       "int"
      ]
     },
     "execution_count": 7,
     "metadata": {},
     "output_type": "execute_result"
    }
   ],
   "source": [
    "type(first_dict[\"two\"])"
   ]
  },
  {
   "cell_type": "code",
   "execution_count": 8,
   "id": "4ef63cfd",
   "metadata": {},
   "outputs": [
    {
     "data": {
      "text/plain": [
       "10"
      ]
     },
     "execution_count": 8,
     "metadata": {},
     "output_type": "execute_result"
    }
   ],
   "source": [
    "first_dict[\"two\"] * 5"
   ]
  },
  {
   "cell_type": "markdown",
   "id": "5612a9d4",
   "metadata": {},
   "source": [
    "### bir dictionay'nin \"key\"ini çağırdığınızda ona ait value'yu döndürür (return eder)"
   ]
  },
  {
   "cell_type": "code",
   "execution_count": 13,
   "id": "0985b751",
   "metadata": {},
   "outputs": [
    {
     "name": "stdout",
     "output_type": "stream",
     "text": [
      "{'Arkansas': 'Little Rock', 'Colorado': 'Denver', 'California': 'Sacramento', 'Georgia': 'Atlanta'}\n"
     ]
    }
   ],
   "source": [
    "state_capitals = {'Arkansas': 'Little Rock',\n",
    "                  'Colorado': 'Denver',\n",
    "                  'California': 'Sacramento',\n",
    "                  'Georgia': 'Atlanta' \n",
    "                 }\n",
    "\n",
    "\n",
    "print(state_capitals)"
   ]
  },
  {
   "cell_type": "code",
   "execution_count": 10,
   "id": "c7f68902",
   "metadata": {},
   "outputs": [
    {
     "data": {
      "text/plain": [
       "'Denver'"
      ]
     },
     "execution_count": 10,
     "metadata": {},
     "output_type": "execute_result"
    }
   ],
   "source": [
    "state_capitals['Colorado']"
   ]
  },
  {
   "cell_type": "markdown",
   "id": "374218c9",
   "metadata": {},
   "source": [
    "### dictionay'e yeni bir key-value pair'i atamak"
   ]
  },
  {
   "cell_type": "code",
   "execution_count": 14,
   "id": "e14a4f3d",
   "metadata": {},
   "outputs": [
    {
     "name": "stdout",
     "output_type": "stream",
     "text": [
      "{'Arkansas': 'Little Rock', 'Colorado': 'Denver', 'California': 'Sacramento', 'Georgia': 'Atlanta', 'Virginia': 'Richmond'}\n"
     ]
    }
   ],
   "source": [
    "state_capitals = {'Arkansas': 'Little Rock',\n",
    "                  'Colorado': 'Denver',\n",
    "                  'California': 'Sacramento',\n",
    "                  'Georgia': 'Atlanta' \n",
    "                 }\n",
    "\n",
    "state_capitals['Virginia'] = 'Richmond' # adding a new item\n",
    "\n",
    "print(state_capitals)"
   ]
  },
  {
   "cell_type": "markdown",
   "id": "4cbc0c70",
   "metadata": {},
   "source": [
    "# Main Operations with Dicts."
   ]
  },
  {
   "cell_type": "code",
   "execution_count": 105,
   "id": "90fe8f65",
   "metadata": {},
   "outputs": [
    {
     "data": {
      "text/plain": [
       "{'ali': 1, 'deli': 1, 'veli': 1}"
      ]
     },
     "execution_count": 105,
     "metadata": {},
     "output_type": "execute_result"
    }
   ],
   "source": [
    "ayakkabi_sayisi = {\"ali\": 1,\n",
    "                  \"deli\": 1,\n",
    "                   \"veli\":1\n",
    "                  }\n",
    "ayakkabi_sayisi"
   ]
  },
  {
   "cell_type": "code",
   "execution_count": 106,
   "id": "0c3efca1",
   "metadata": {},
   "outputs": [
    {
     "data": {
      "text/plain": [
       "1"
      ]
     },
     "execution_count": 106,
     "metadata": {},
     "output_type": "execute_result"
    }
   ],
   "source": [
    "ayakkabi_sayisi[\"ali\"]"
   ]
  },
  {
   "cell_type": "code",
   "execution_count": 110,
   "id": "d850a43a",
   "metadata": {},
   "outputs": [
    {
     "data": {
      "text/plain": [
       "{'ali': 5, 'deli': 1, 'veli': 1}"
      ]
     },
     "execution_count": 110,
     "metadata": {},
     "output_type": "execute_result"
    }
   ],
   "source": [
    "ayakkabi_sayisi[\"ali\"] += 1  # Her calistirdigimizda bir arttiracak\n",
    "\n",
    "ayakkabi_sayisi"
   ]
  },
  {
   "cell_type": "code",
   "execution_count": 2,
   "id": "b5c0a3fe",
   "metadata": {},
   "outputs": [
    {
     "data": {
      "text/plain": [
       "{'animal': 'dog',\n",
       " 'planet': 'neptun',\n",
       " 'number': 40,\n",
       " 'pi': 3.14,\n",
       " 'is_good': True}"
      ]
     },
     "execution_count": 2,
     "metadata": {},
     "output_type": "execute_result"
    }
   ],
   "source": [
    "\n",
    "dict_by_dict = dict(animal='dog', planet='neptun', number=40, pi=3.14, is_good=True)\n",
    "\n",
    "dict_by_dict"
   ]
  },
  {
   "cell_type": "code",
   "execution_count": 116,
   "id": "d6c30965",
   "metadata": {},
   "outputs": [
    {
     "ename": "NameError",
     "evalue": "name 'animal' is not defined",
     "output_type": "error",
     "traceback": [
      "\u001b[0;31m---------------------------------------------------------------------------\u001b[0m",
      "\u001b[0;31mNameError\u001b[0m                                 Traceback (most recent call last)",
      "Cell \u001b[0;32mIn [116], line 1\u001b[0m\n\u001b[0;32m----> 1\u001b[0m dict_by_dict[\u001b[43manimal\u001b[49m]\n",
      "\u001b[0;31mNameError\u001b[0m: name 'animal' is not defined"
     ]
    }
   ],
   "source": [
    "dict_by_dict[animal]  # ERROR: key'ler {} formatinda yazildigi sekilde yazilmali. "
   ]
  },
  {
   "cell_type": "code",
   "execution_count": 3,
   "id": "b4ec5ba4",
   "metadata": {},
   "outputs": [
    {
     "data": {
      "text/plain": [
       "'dog'"
      ]
     },
     "execution_count": 3,
     "metadata": {},
     "output_type": "execute_result"
    }
   ],
   "source": [
    "dict_by_dict[\"animal\"]"
   ]
  },
  {
   "cell_type": "code",
   "execution_count": 4,
   "id": "727f9382",
   "metadata": {},
   "outputs": [
    {
     "data": {
      "text/plain": [
       "True"
      ]
     },
     "execution_count": 4,
     "metadata": {},
     "output_type": "execute_result"
    }
   ],
   "source": [
    "dict_by_dict[\"is_good\"]"
   ]
  },
  {
   "cell_type": "code",
   "execution_count": 5,
   "id": "38d92f54",
   "metadata": {},
   "outputs": [
    {
     "data": {
      "text/plain": [
       "{'animal': 'dog',\n",
       " 'planet': 'neptun',\n",
       " 'number': 40,\n",
       " 'pi': 3.14,\n",
       " 'is_good': True,\n",
       " 'nazli': 'bayan'}"
      ]
     },
     "execution_count": 5,
     "metadata": {},
     "output_type": "execute_result"
    }
   ],
   "source": [
    "dict_by_dict.update({\"nazli\": \"bayan\"})\n",
    "dict_by_dict"
   ]
  },
  {
   "cell_type": "code",
   "execution_count": 6,
   "id": "26905ef7",
   "metadata": {},
   "outputs": [
    {
     "data": {
      "text/plain": [
       "{'animal': 'dog',\n",
       " 'planet': 'neptun',\n",
       " 'number': 40,\n",
       " 'pi': 3.14,\n",
       " 'is_good': True,\n",
       " 'nazli': 'bayan'}"
      ]
     },
     "execution_count": 6,
     "metadata": {},
     "output_type": "execute_result"
    }
   ],
   "source": [
    "dict_by_dict"
   ]
  },
  {
   "cell_type": "code",
   "execution_count": 7,
   "id": "ab9cd1df",
   "metadata": {},
   "outputs": [
    {
     "name": "stdout",
     "output_type": "stream",
     "text": [
      "dict_items([('animal', 'dog'), ('planet', 'neptun'), ('number', 40), ('pi', 3.14), ('is_good', True), ('nazli', 'bayan')]) \n",
      "\n",
      "dict_keys(['animal', 'planet', 'number', 'pi', 'is_good', 'nazli']) \n",
      "\n",
      "dict_values(['dog', 'neptun', 40, 3.14, True, 'bayan'])\n"
     ]
    }
   ],
   "source": [
    "print(dict_by_dict.items(), \"\\n\")\n",
    "print(dict_by_dict.keys(), \"\\n\")\n",
    "print(dict_by_dict.values())"
   ]
  },
  {
   "cell_type": "code",
   "execution_count": 8,
   "id": "62f0d02f",
   "metadata": {},
   "outputs": [
    {
     "data": {
      "text/plain": [
       "{'animal': 'dog',\n",
       " 'planet': 'neptun',\n",
       " 'number': 40,\n",
       " 'pi': 3.14,\n",
       " 'is_good': True,\n",
       " 'nazli': 'bayan',\n",
       " 'mehmet': 'bay',\n",
       " 11: 'integer'}"
      ]
     },
     "execution_count": 8,
     "metadata": {},
     "output_type": "execute_result"
    }
   ],
   "source": [
    "dict_by_dict.update({\"mehmet\": \"bay\", 11: \"integer\"})\n",
    "dict_by_dict"
   ]
  },
  {
   "cell_type": "code",
   "execution_count": 9,
   "id": "8e5d8440",
   "metadata": {},
   "outputs": [
    {
     "name": "stdout",
     "output_type": "stream",
     "text": [
      "{'animal': 'dog', 'planet': 'neptun', 'number': 40, 'pi': 3.14, 'is_good': True, 'nazli': 'bayan', 'mehmet': 'bay', 11: 'integer'}\n"
     ]
    }
   ],
   "source": [
    "print(dict_by_dict)"
   ]
  },
  {
   "cell_type": "code",
   "execution_count": 10,
   "id": "7b3d4482",
   "metadata": {},
   "outputs": [
    {
     "data": {
      "text/plain": [
       "[('animal', 'dog'),\n",
       " ('planet', 'neptun'),\n",
       " ('number', 40),\n",
       " ('pi', 3.14),\n",
       " ('is_good', True),\n",
       " ('nazli', 'bayan'),\n",
       " ('mehmet', 'bay'),\n",
       " (11, 'integer')]"
      ]
     },
     "execution_count": 10,
     "metadata": {},
     "output_type": "execute_result"
    }
   ],
   "source": [
    "list(dict_by_dict.items())"
   ]
  },
  {
   "cell_type": "code",
   "execution_count": 11,
   "id": "951427ae",
   "metadata": {},
   "outputs": [
    {
     "data": {
      "text/plain": [
       "['animal', 'planet', 'number', 'pi', 'is_good', 'nazli', 'mehmet', 11]"
      ]
     },
     "execution_count": 11,
     "metadata": {},
     "output_type": "execute_result"
    }
   ],
   "source": [
    "list(dict_by_dict.keys())"
   ]
  },
  {
   "cell_type": "code",
   "execution_count": 12,
   "id": "f7f65a35",
   "metadata": {},
   "outputs": [
    {
     "data": {
      "text/plain": [
       "[('animal', 'dog'),\n",
       " ('planet', 'neptun'),\n",
       " ('number', 40),\n",
       " ('pi', 3.14),\n",
       " ('is_good', True),\n",
       " ('nazli', 'bayan'),\n",
       " ('mehmet', 'bay'),\n",
       " (11, 'integer')]"
      ]
     },
     "execution_count": 12,
     "metadata": {},
     "output_type": "execute_result"
    }
   ],
   "source": [
    "list(dict_by_dict.items())"
   ]
  },
  {
   "cell_type": "code",
   "execution_count": 13,
   "id": "577645ca",
   "metadata": {},
   "outputs": [],
   "source": [
    "items = list(dict_by_dict.items())"
   ]
  },
  {
   "cell_type": "code",
   "execution_count": 14,
   "id": "005bab88",
   "metadata": {},
   "outputs": [
    {
     "data": {
      "text/plain": [
       "('animal', 'dog')"
      ]
     },
     "execution_count": 14,
     "metadata": {},
     "output_type": "execute_result"
    }
   ],
   "source": [
    "items[0]"
   ]
  },
  {
   "cell_type": "code",
   "execution_count": 15,
   "id": "40c2a98d",
   "metadata": {},
   "outputs": [
    {
     "name": "stdout",
     "output_type": "stream",
     "text": [
      "animal\n",
      "dog\n"
     ]
    }
   ],
   "source": [
    "# items[0] = ('animal', 'dog') oldugunna gore 'animal', 'dog' ayni sey.\n",
    "# Dolayisiyla -- x, y = 'animal', 'dog' -- gibi bir atama yapilabilir  \n",
    "\n",
    "x, y = items[0]\n",
    "\n",
    "print(x)\n",
    "print(y)"
   ]
  },
  {
   "cell_type": "code",
   "execution_count": 160,
   "id": "5df2383b",
   "metadata": {},
   "outputs": [
    {
     "data": {
      "text/plain": [
       "{'name1': 'Irfan', 'name2': 'Gulcan', 'name3': 'Vildan'}"
      ]
     },
     "execution_count": 160,
     "metadata": {},
     "output_type": "execute_result"
    }
   ],
   "source": [
    "family = {\"name1\" : \"Irfan\", \"name2\" : \"Gulcan\", \"name3\" : \"Vildan\"}\n",
    "family"
   ]
  },
  {
   "cell_type": "code",
   "execution_count": 161,
   "id": "ace89a7a",
   "metadata": {},
   "outputs": [
    {
     "data": {
      "text/plain": [
       "{'name1': 'Irfan', 'name2': 'Gulcan', 'name3': 'Vildan', 'name4': 'Sarah'}"
      ]
     },
     "execution_count": 161,
     "metadata": {},
     "output_type": "execute_result"
    }
   ],
   "source": [
    "family[\"name4\"] = \"Sarah\"  # ekleme yapilabilir\n",
    "family"
   ]
  },
  {
   "cell_type": "code",
   "execution_count": 162,
   "id": "3a79d3a3",
   "metadata": {},
   "outputs": [
    {
     "data": {
      "text/plain": [
       "{'name1': 'Irfan',\n",
       " 'name2': 'Gulcan',\n",
       " 'name3': 'Vildan',\n",
       " 'name4': 'Sarah',\n",
       " 'name5': 'Pamuk'}"
      ]
     },
     "execution_count": 162,
     "metadata": {},
     "output_type": "execute_result"
    }
   ],
   "source": [
    "family.update({\"name5\": \"Pamuk\"})  # ekleme yapilabilir\n",
    "family"
   ]
  },
  {
   "cell_type": "code",
   "execution_count": 163,
   "id": "6dffa138",
   "metadata": {},
   "outputs": [
    {
     "data": {
      "text/plain": [
       "{'name1': 'Irfan',\n",
       " 'name2': 'Gulcan',\n",
       " 'name3': 'Vildan',\n",
       " 'name4': 'Sarah',\n",
       " 'name5': 'KEDI'}"
      ]
     },
     "execution_count": 163,
     "metadata": {},
     "output_type": "execute_result"
    }
   ],
   "source": [
    "family.update({\"name5\": \"KEDI\"})  # .update ile dict icerisinde degisiklik yapilabilir\n",
    "family"
   ]
  },
  {
   "cell_type": "code",
   "execution_count": 164,
   "id": "8b61a05e",
   "metadata": {},
   "outputs": [
    {
     "data": {
      "text/plain": [
       "{'name1': 'Irfan', 'name2': 'Gulcan', 'name3': 'Vildan', 'name4': 'Sarah'}"
      ]
     },
     "execution_count": 164,
     "metadata": {},
     "output_type": "execute_result"
    }
   ],
   "source": [
    "del family[\"name5\"]\n",
    "family"
   ]
  },
  {
   "cell_type": "code",
   "execution_count": 165,
   "id": "290c4f57",
   "metadata": {},
   "outputs": [
    {
     "data": {
      "text/plain": [
       "{'name3': 'Vildan', 'name4': 'Sarah'}"
      ]
     },
     "execution_count": 165,
     "metadata": {},
     "output_type": "execute_result"
    }
   ],
   "source": [
    "del family[\"name1\"], family[\"name2\"]  # del kullanilarak birden fazle eleman silinebilir\n",
    "family"
   ]
  },
  {
   "cell_type": "code",
   "execution_count": 166,
   "id": "46122280",
   "metadata": {},
   "outputs": [
    {
     "data": {
      "text/plain": [
       "{'animal': 'dog',\n",
       " 'planet': 'neptun',\n",
       " 'number': 40,\n",
       " 'pi': 3.14,\n",
       " 'is_good': True,\n",
       " 'nazli': 'bayan',\n",
       " 'mehmet': 'bay',\n",
       " 11: 'integer'}"
      ]
     },
     "execution_count": 166,
     "metadata": {},
     "output_type": "execute_result"
    }
   ],
   "source": [
    "dict_by_dict"
   ]
  },
  {
   "cell_type": "code",
   "execution_count": 168,
   "id": "3f7e6970",
   "metadata": {},
   "outputs": [
    {
     "data": {
      "text/plain": [
       "True"
      ]
     },
     "execution_count": 168,
     "metadata": {},
     "output_type": "execute_result"
    }
   ],
   "source": [
    "\"a\" in \"clarusway\"  # in fonksiyonu sorgulama yapar. True veya False dondurur"
   ]
  },
  {
   "cell_type": "code",
   "execution_count": 173,
   "id": "8b4ccc29",
   "metadata": {},
   "outputs": [
    {
     "data": {
      "text/plain": [
       "True"
      ]
     },
     "execution_count": 173,
     "metadata": {},
     "output_type": "execute_result"
    }
   ],
   "source": [
    "\"b\" not in \"clarusway\"  # not in fonksiyonu da True veya False dondurur"
   ]
  },
  {
   "cell_type": "code",
   "execution_count": 169,
   "id": "917212db",
   "metadata": {},
   "outputs": [
    {
     "data": {
      "text/plain": [
       "False"
      ]
     },
     "execution_count": 169,
     "metadata": {},
     "output_type": "execute_result"
    }
   ],
   "source": [
    "\"dog\" in dict_by_dict  # in fonksiyonu aramayi Key'lerde yapar. Value'da yapmaz"
   ]
  },
  {
   "cell_type": "code",
   "execution_count": 170,
   "id": "749a4f91",
   "metadata": {},
   "outputs": [
    {
     "data": {
      "text/plain": [
       "True"
      ]
     },
     "execution_count": 170,
     "metadata": {},
     "output_type": "execute_result"
    }
   ],
   "source": [
    "\"animal\" in dict_by_dict"
   ]
  },
  {
   "cell_type": "code",
   "execution_count": 172,
   "id": "23fbdca8",
   "metadata": {},
   "outputs": [
    {
     "data": {
      "text/plain": [
       "True"
      ]
     },
     "execution_count": 172,
     "metadata": {},
     "output_type": "execute_result"
    }
   ],
   "source": [
    "\"dog\" in dict_by_dict.values()  # Bu sekilde key'ler arasinda da arama yapilabilir"
   ]
  },
  {
   "cell_type": "code",
   "execution_count": 174,
   "id": "3f005644",
   "metadata": {},
   "outputs": [
    {
     "name": "stdout",
     "output_type": "stream",
     "text": [
      "True\n"
     ]
    }
   ],
   "source": [
    "print(\"planet\" in dict_by_dict)"
   ]
  },
  {
   "cell_type": "code",
   "execution_count": null,
   "id": "5ac0f74f",
   "metadata": {},
   "outputs": [],
   "source": []
  },
  {
   "cell_type": "markdown",
   "id": "53a3104e",
   "metadata": {},
   "source": [
    "# Nested Dictionaries"
   ]
  },
  {
   "cell_type": "code",
   "execution_count": 177,
   "id": "c4a8aa78",
   "metadata": {},
   "outputs": [
    {
     "name": "stdout",
     "output_type": "stream",
     "text": [
      "16\n"
     ]
    }
   ],
   "source": [
    "school_records={\n",
    "    \"personal_info\":{\n",
    "        \"kid\":{\"tom\":{\"class\": \"intermediate\", \"age\": 10},\n",
    "               \"sue\":{\"class\": \"elemantary\", \"age\" : 8}\n",
    "              },\n",
    "        \"teen\":{\"joseph\":{\"class\": \"college\", \"age\": 19},\n",
    "               \"marry\": {\"class\": \"high school\", \"age\": 16}\n",
    "               },\n",
    "    },\n",
    "\"grades_info\":{\n",
    "    \"kid\":{\"tom\": {\"math\": 88, \"speech\": 69},\n",
    "          \"sue\": {\"math\": 76, \"speech\": 89}\n",
    "          },\n",
    "    \"teen\":{\"joseph\": {\"coding\": 80, \"math\": 74},\n",
    "            \"marry\": {\"coding\": 45, \"math\": 90}},\n",
    "    },\n",
    "}\n",
    "print(school_records[\"personal_info\"][\"teen\"][\"marry\"][\"age\"])"
   ]
  },
  {
   "cell_type": "code",
   "execution_count": 178,
   "id": "528bad1b",
   "metadata": {},
   "outputs": [
    {
     "data": {
      "text/plain": [
       "{'kid': {'tom': {'class': 'intermediate', 'age': 10},\n",
       "  'sue': {'class': 'elemantary', 'age': 8}},\n",
       " 'teen': {'joseph': {'class': 'college', 'age': 19},\n",
       "  'marry': {'class': 'high school', 'age': 16}}}"
      ]
     },
     "execution_count": 178,
     "metadata": {},
     "output_type": "execute_result"
    }
   ],
   "source": [
    "school_records[\"personal_info\"]"
   ]
  },
  {
   "cell_type": "code",
   "execution_count": 180,
   "id": "6d882355",
   "metadata": {},
   "outputs": [
    {
     "data": {
      "text/plain": [
       "2"
      ]
     },
     "execution_count": 180,
     "metadata": {},
     "output_type": "execute_result"
    }
   ],
   "source": [
    "len(school_records[\"personal_info\"])  # 2 item var: 'kid' ve 'teen'"
   ]
  },
  {
   "cell_type": "code",
   "execution_count": 183,
   "id": "dd6ab557",
   "metadata": {},
   "outputs": [
    {
     "data": {
      "text/plain": [
       "{'class': 'intermediate', 'age': 10}"
      ]
     },
     "execution_count": 183,
     "metadata": {},
     "output_type": "execute_result"
    }
   ],
   "source": [
    "school_records[\"personal_info\"][\"kid\"][\"tom\"]"
   ]
  },
  {
   "cell_type": "code",
   "execution_count": 184,
   "id": "e31612ce",
   "metadata": {},
   "outputs": [
    {
     "data": {
      "text/plain": [
       "10"
      ]
     },
     "execution_count": 184,
     "metadata": {},
     "output_type": "execute_result"
    }
   ],
   "source": [
    "school_records[\"personal_info\"][\"kid\"][\"tom\"][\"age\"]"
   ]
  },
  {
   "cell_type": "code",
   "execution_count": null,
   "id": "cbdc819d",
   "metadata": {},
   "outputs": [],
   "source": [
    "friends={\n",
    "    friend1: {first: Ali, last: Sabanci}, \n",
    "    friend2: {first: Veli, last: Koc}\n",
    "}"
   ]
  },
  {
   "cell_type": "code",
   "execution_count": null,
   "id": "ac250657",
   "metadata": {},
   "outputs": [],
   "source": [
    "family={\n",
    "    family1: {first: Gulcan, last: Duman},\n",
    "    family2: {first: Vildan, last: Duman},\n",
    "    family3: {first: Sarah, last: Duman}\n",
    "}"
   ]
  },
  {
   "cell_type": "code",
   "execution_count": 1,
   "id": "83e93f0f",
   "metadata": {},
   "outputs": [],
   "source": [
    "favourite={\n",
    "    \"friends\": {\n",
    "        \"friend1\": {\"first\": \"Ali\", \"last\": \"Sabanci\"}, \n",
    "        \"friend2\": {\"first\": \"Veli\", \"last\": \"Koc\"}\n",
    "    },\n",
    "    \"family\": {\n",
    "        \"family1\": {\"first\": \"Gulcan\", \"last\": \"Duman\"},\n",
    "        \"family2\": {\"first\": \"Vildan\", \"last\": \"Duman\"},\n",
    "        \"family3\": {\"first\": \"Sarah\", \"last\": \"Duman\"}\n",
    "    }   \n",
    "}"
   ]
  },
  {
   "cell_type": "code",
   "execution_count": 2,
   "id": "ffd2e7d1",
   "metadata": {},
   "outputs": [
    {
     "data": {
      "text/plain": [
       "{'first': 'Sarah', 'last': 'Duman'}"
      ]
     },
     "execution_count": 2,
     "metadata": {},
     "output_type": "execute_result"
    }
   ],
   "source": [
    "favourite[\"family\"][\"family3\"]"
   ]
  },
  {
   "cell_type": "code",
   "execution_count": 193,
   "id": "9f0c365c",
   "metadata": {},
   "outputs": [
    {
     "data": {
      "text/plain": [
       "('Sarah', 'Duman')"
      ]
     },
     "execution_count": 193,
     "metadata": {},
     "output_type": "execute_result"
    }
   ],
   "source": [
    "tuple(favourite[\"family\"][\"family3\"].values())"
   ]
  },
  {
   "cell_type": "code",
   "execution_count": 199,
   "id": "ff494de9",
   "metadata": {},
   "outputs": [
    {
     "name": "stdout",
     "output_type": "stream",
     "text": [
      "Sarah Duman\n"
     ]
    }
   ],
   "source": [
    "print (favourite[\"family\"][\"family3\"][\"first\"], favourite[\"family\"][\"family3\"][\"last\"])"
   ]
  }
 ],
 "metadata": {
  "kernelspec": {
   "display_name": "Python 3 (ipykernel)",
   "language": "python",
   "name": "python3"
  },
  "language_info": {
   "codemirror_mode": {
    "name": "ipython",
    "version": 3
   },
   "file_extension": ".py",
   "mimetype": "text/x-python",
   "name": "python",
   "nbconvert_exporter": "python",
   "pygments_lexer": "ipython3",
   "version": "3.10.8"
  }
 },
 "nbformat": 4,
 "nbformat_minor": 5
}
