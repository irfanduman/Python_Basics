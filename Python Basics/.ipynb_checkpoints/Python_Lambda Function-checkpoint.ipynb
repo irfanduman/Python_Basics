{
 "cells": [
  {
   "cell_type": "markdown",
   "id": "5655edc6",
   "metadata": {},
   "source": [
    "# Defining Lambda Function"
   ]
  },
  {
   "cell_type": "code",
   "execution_count": 1,
   "id": "e260c48f",
   "metadata": {},
   "outputs": [
    {
     "data": {
      "text/plain": [
       "[1, 4, 9, 16]"
      ]
     },
     "execution_count": 1,
     "metadata": {},
     "output_type": "execute_result"
    }
   ],
   "source": [
    "listem = [1, 2, 3, 4]\n",
    "\n",
    "def kare(x):\n",
    "    return x**2\n",
    "\n",
    "map(kare, listem)\n",
    "\n",
    "list(map(kare, listem))"
   ]
  },
  {
   "cell_type": "markdown",
   "id": "067e712b",
   "metadata": {},
   "source": [
    "```python\n",
    "def kare(x):\n",
    "    return x**2\n",
    "\n",
    "yukardakinin yerine asagidakini kullanabiliriz:\n",
    "    \n",
    "lambda x: x**2   # HEMEN KULLAN\n",
    "```"
   ]
  },
  {
   "cell_type": "code",
   "execution_count": 2,
   "id": "1924746b",
   "metadata": {},
   "outputs": [
    {
     "data": {
      "text/plain": [
       "<function __main__.<lambda>(x, y)>"
      ]
     },
     "execution_count": 2,
     "metadata": {},
     "output_type": "execute_result"
    }
   ],
   "source": [
    "lambda x, y: (x + y) / 2"
   ]
  },
  {
   "cell_type": "code",
   "execution_count": 7,
   "id": "acd58388",
   "metadata": {},
   "outputs": [
    {
     "data": {
      "text/plain": [
       "<function __main__.<lambda>(x)>"
      ]
     },
     "execution_count": 7,
     "metadata": {},
     "output_type": "execute_result"
    }
   ],
   "source": [
    "lambda x: \"odd\" if x%2 != 0 else \"even\""
   ]
  },
  {
   "cell_type": "code",
   "execution_count": null,
   "id": "90b04cd3",
   "metadata": {},
   "outputs": [],
   "source": []
  },
  {
   "cell_type": "markdown",
   "id": "5b59ff3a",
   "metadata": {},
   "source": [
    "# Use of Lambda Functions"
   ]
  },
  {
   "cell_type": "code",
   "execution_count": 4,
   "id": "b0b3832f",
   "metadata": {},
   "outputs": [
    {
     "name": "stdout",
     "output_type": "stream",
     "text": [
      "4\n"
     ]
    }
   ],
   "source": [
    "print((lambda x: x**2)(2))"
   ]
  },
  {
   "cell_type": "code",
   "execution_count": 6,
   "id": "0a828492",
   "metadata": {},
   "outputs": [
    {
     "name": "stdout",
     "output_type": "stream",
     "text": [
      "13.0\n"
     ]
    }
   ],
   "source": [
    "average = (lambda x, y: (x + y) / 2)(10, 16)\n",
    "print(average)"
   ]
  },
  {
   "cell_type": "code",
   "execution_count": 19,
   "id": "35893b61",
   "metadata": {},
   "outputs": [
    {
     "data": {
      "text/plain": [
       "'even'"
      ]
     },
     "execution_count": 19,
     "metadata": {},
     "output_type": "execute_result"
    }
   ],
   "source": [
    "(lambda x: \"odd\" if x%2 != 0 else \"even\")(4)"
   ]
  },
  {
   "cell_type": "code",
   "execution_count": 20,
   "id": "70d1c7d9",
   "metadata": {},
   "outputs": [],
   "source": [
    "deneme = lambda x: \"odd\" if x%2 != 0 else \"even\""
   ]
  },
  {
   "cell_type": "code",
   "execution_count": 21,
   "id": "ae43470d",
   "metadata": {},
   "outputs": [
    {
     "data": {
      "text/plain": [
       "'odd'"
      ]
     },
     "execution_count": 21,
     "metadata": {},
     "output_type": "execute_result"
    }
   ],
   "source": [
    "deneme(17)"
   ]
  },
  {
   "cell_type": "code",
   "execution_count": 25,
   "id": "77c5254a",
   "metadata": {},
   "outputs": [
    {
     "data": {
      "text/plain": [
       "<reversed at 0x1074e37f0>"
      ]
     },
     "execution_count": 25,
     "metadata": {},
     "output_type": "execute_result"
    }
   ],
   "source": [
    "# TASK: Define a Lambda function to reverse the elements of any iterables\n",
    "\n",
    "(lambda x: reversed(x))(\"ali\")"
   ]
  },
  {
   "cell_type": "code",
   "execution_count": 31,
   "id": "575dbf26",
   "metadata": {},
   "outputs": [
    {
     "name": "stdout",
     "output_type": "stream",
     "text": [
      "ila\n",
      "321\n"
     ]
    }
   ],
   "source": [
    "print(*(lambda x: reversed(x))(\"ali\"), sep=\"\")\n",
    "\n",
    "print(*(lambda x: reversed(x))([1, 2, 3]), sep=\"\")"
   ]
  },
  {
   "cell_type": "code",
   "execution_count": 34,
   "id": "fb28cc84",
   "metadata": {},
   "outputs": [
    {
     "data": {
      "text/plain": [
       "[3, 2, 1]"
      ]
     },
     "execution_count": 34,
     "metadata": {},
     "output_type": "execute_result"
    }
   ],
   "source": [
    "(lambda x: x [::-1])(\"ali\")\n",
    "\n",
    "(lambda x: x [::-1])([1, 2, 3])"
   ]
  },
  {
   "cell_type": "code",
   "execution_count": 42,
   "id": "dd76f4cc",
   "metadata": {},
   "outputs": [
    {
     "name": "stdout",
     "output_type": "stream",
     "text": [
      "1 : odd\n",
      "2 : even\n",
      "3 : odd\n",
      "4 : even\n",
      "5 : odd\n",
      "6 : even\n"
     ]
    }
   ],
   "source": [
    "# TASK: US\n",
    "\n",
    "sayilar = [1, 2, 3, 4, 5, 6]\n",
    "\n",
    "for i in sayilar:\n",
    "    print(i, \":\", (lambda x: \"odd\" if x%2 != 0 else \"even\")(i))"
   ]
  },
  {
   "cell_type": "code",
   "execution_count": 43,
   "id": "059732b3",
   "metadata": {},
   "outputs": [
    {
     "data": {
      "text/plain": [
       "<function __main__.<lambda>(x)>"
      ]
     },
     "execution_count": 43,
     "metadata": {},
     "output_type": "execute_result"
    }
   ],
   "source": [
    "iterable = \"clarusway\"\n",
    "\n",
    "reverser = lambda x: x[::-1]\n",
    "\n",
    "reverser"
   ]
  },
  {
   "cell_type": "code",
   "execution_count": 44,
   "id": "4129df7a",
   "metadata": {},
   "outputs": [
    {
     "data": {
      "text/plain": [
       "'yawsuralc'"
      ]
     },
     "execution_count": 44,
     "metadata": {},
     "output_type": "execute_result"
    }
   ],
   "source": [
    "reverser(iterable)"
   ]
  },
  {
   "cell_type": "markdown",
   "id": "74d87b0a",
   "metadata": {},
   "source": [
    "# Lambda within Built-in (map()) Functions-1"
   ]
  },
  {
   "cell_type": "markdown",
   "id": "e6fc758e",
   "metadata": {},
   "source": [
    "## map() function"
   ]
  },
  {
   "cell_type": "code",
   "execution_count": 8,
   "id": "51450993",
   "metadata": {},
   "outputs": [
    {
     "data": {
      "text/plain": [
       "<map at 0x7f85d8716a90>"
      ]
     },
     "execution_count": 8,
     "metadata": {},
     "output_type": "execute_result"
    }
   ],
   "source": [
    "kelimeler = [\"alideliveli\", \"ahmet\", \"sel\"]\n",
    "\n",
    "uzunluk = map(len, kelimeler)\n",
    "\n",
    "uzunluk"
   ]
  },
  {
   "cell_type": "code",
   "execution_count": 9,
   "id": "26736766",
   "metadata": {},
   "outputs": [
    {
     "name": "stdout",
     "output_type": "stream",
     "text": [
      "11 5 3\n"
     ]
    }
   ],
   "source": [
    "print(*uzunluk)"
   ]
  },
  {
   "cell_type": "code",
   "execution_count": 11,
   "id": "bb6c5bdb",
   "metadata": {},
   "outputs": [
    {
     "data": {
      "text/plain": [
       "[11, 5, 3]"
      ]
     },
     "execution_count": 11,
     "metadata": {},
     "output_type": "execute_result"
    }
   ],
   "source": [
    "kelimeler = [\"alideliveli\", \"ahmet\", \"sel\"]\n",
    "\n",
    "uzunluk = map(len, kelimeler)\n",
    "\n",
    "list(uzunluk)"
   ]
  },
  {
   "cell_type": "code",
   "execution_count": 18,
   "id": "38d370bb",
   "metadata": {},
   "outputs": [
    {
     "name": "stdout",
     "output_type": "stream",
     "text": [
      "<class 'map'>\n",
      "[1, 4, 9, 16, 25]\n",
      "[1, 4, 9, 16, 25]\n"
     ]
    }
   ],
   "source": [
    "iterable = [1, 2, 3, 4, 5]\n",
    "\n",
    "sonuc = map(lambda x : x**2, iterable)\n",
    "\n",
    "print(type(sonuc))\n",
    "print(list(sonuc))\n",
    "print(list(map(lambda x : x**2, iterable)))"
   ]
  },
  {
   "cell_type": "code",
   "execution_count": 22,
   "id": "46b17a32",
   "metadata": {},
   "outputs": [],
   "source": [
    "def kare(x):\n",
    "    return x**2"
   ]
  },
  {
   "cell_type": "code",
   "execution_count": 24,
   "id": "9a224368",
   "metadata": {},
   "outputs": [
    {
     "data": {
      "text/plain": [
       "[1, 4, 9, 16, 25]"
      ]
     },
     "execution_count": 24,
     "metadata": {},
     "output_type": "execute_result"
    }
   ],
   "source": [
    "iterable = [1, 2, 3, 4, 5]\n",
    "\n",
    "list(map(kare, iterable))"
   ]
  },
  {
   "cell_type": "code",
   "execution_count": 26,
   "id": "65679464",
   "metadata": {},
   "outputs": [
    {
     "data": {
      "text/plain": [
       "'ali'"
      ]
     },
     "execution_count": 26,
     "metadata": {},
     "output_type": "execute_result"
    }
   ],
   "source": [
    "topla = lambda x, y, z : x + y + z\n",
    "\n",
    "topla(\"a\", \"l\", \"i\")"
   ]
  },
  {
   "cell_type": "code",
   "execution_count": 38,
   "id": "4b7cea53",
   "metadata": {},
   "outputs": [
    {
     "name": "stdout",
     "output_type": "stream",
     "text": [
      "['one', 'six', 'ten', 'two']\n"
     ]
    }
   ],
   "source": [
    "letter1 = ['o', 's', 't', 't']\n",
    "letter2 = ['n', 'i', 'e', 'w']\n",
    "letter3 = ['e', 'x', 'n', 'o']\n",
    "\n",
    "numbers = map(lambda x, y, z : x + y + z, letter1, letter2, letter3)\n",
    "\n",
    "print(list(numbers))"
   ]
  },
  {
   "cell_type": "code",
   "execution_count": 34,
   "id": "1fc2495e",
   "metadata": {},
   "outputs": [
    {
     "name": "stdout",
     "output_type": "stream",
     "text": [
      "[6.0, 6.0, 6.0, 6.0]\n"
     ]
    }
   ],
   "source": [
    "nums1 = [9, 6, 7, 4]\n",
    "nums2 = [3, 6, 5, 8]\n",
    "\n",
    "func = lambda x, y : (x+y)/2\n",
    "\n",
    "numbers = map(func, nums1, nums2)\n",
    "\n",
    "print(list(numbers))"
   ]
  },
  {
   "cell_type": "code",
   "execution_count": 43,
   "id": "152688a2",
   "metadata": {},
   "outputs": [
    {
     "name": "stdout",
     "output_type": "stream",
     "text": [
      "i love you\n",
      "you ate much\n",
      "he works hard\n"
     ]
    }
   ],
   "source": [
    "words1 = ['you', 'much', 'hard']\n",
    "words2 = ['i', 'you', 'he']\n",
    "words3 = ['love', 'ate', 'works']\n",
    "\n",
    "concat = lambda x, y, z : x + \" \" + y + \" \" + z\n",
    "\n",
    "sentences = map(lambda x, y, z : x + \" \" + y + \" \" + z, words2, words3, words1)\n",
    "\n",
    "for i in sentences :\n",
    "    print(i)"
   ]
  },
  {
   "cell_type": "markdown",
   "id": "9508839c",
   "metadata": {},
   "source": [
    "## filter() function"
   ]
  },
  {
   "cell_type": "code",
   "execution_count": 48,
   "id": "69fe2f0a",
   "metadata": {},
   "outputs": [
    {
     "name": "stdout",
     "output_type": "stream",
     "text": [
      "<class 'filter'>\n",
      "Even numbers are : <filter object at 0x7f85d8729910>\n",
      "Even numbers are : [0, 2, 4, 6, 8]\n"
     ]
    }
   ],
   "source": [
    "first_ten = [0, 1, 2, 3, 4, 5, 6, 7, 8, 9]\n",
    "\n",
    "even = filter(lambda x : x%2==0, first_ten)\n",
    "\n",
    "print(type(even))  \n",
    "\n",
    "print(\"Even numbers are :\", even)  # We need to conver 'even' to a list before printing\n",
    "\n",
    "print(\"Even numbers are :\", list(even))"
   ]
  },
  {
   "cell_type": "code",
   "execution_count": null,
   "id": "f02e2465",
   "metadata": {},
   "outputs": [],
   "source": []
  },
  {
   "cell_type": "code",
   "execution_count": null,
   "id": "2ff19834",
   "metadata": {},
   "outputs": [],
   "source": []
  },
  {
   "cell_type": "code",
   "execution_count": null,
   "id": "f58efd6c",
   "metadata": {},
   "outputs": [],
   "source": []
  },
  {
   "cell_type": "code",
   "execution_count": null,
   "id": "a473b4d5",
   "metadata": {},
   "outputs": [],
   "source": []
  },
  {
   "cell_type": "code",
   "execution_count": null,
   "id": "fb9fee2c",
   "metadata": {},
   "outputs": [],
   "source": []
  }
 ],
 "metadata": {
  "kernelspec": {
   "display_name": "Python 3 (ipykernel)",
   "language": "python",
   "name": "python3"
  },
  "language_info": {
   "codemirror_mode": {
    "name": "ipython",
    "version": 3
   },
   "file_extension": ".py",
   "mimetype": "text/x-python",
   "name": "python",
   "nbconvert_exporter": "python",
   "pygments_lexer": "ipython3",
   "version": "3.9.13"
  }
 },
 "nbformat": 4,
 "nbformat_minor": 5
}
