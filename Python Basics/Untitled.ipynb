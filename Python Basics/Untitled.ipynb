{
 "cells": [
  {
   "cell_type": "code",
   "execution_count": null,
   "id": "545173e4",
   "metadata": {},
   "outputs": [],
   "source": [
    "ps4 = 150\n",
    "saved = int(input(\"How much? \"))\n",
    "while True:\n",
    "    if saved <= ps4/2 :\n",
    "        print(\"You must save more. Keep saving!\")\n",
    "    \n",
    "    elif saved < ps4 :\n",
    "            print('You saved more than half. Keep saving!')\n",
    "    \n",
    "    else:\n",
    "        print(\"Congrats\")\n",
    "        break"
   ]
  },
  {
   "cell_type": "code",
   "execution_count": null,
   "id": "7910830a",
   "metadata": {},
   "outputs": [],
   "source": [
    "ps4_price = 150\n",
    "saved_amount = int(input(\"Please enter your saved amount: \"))\n",
    "if saved_amount <= ps4_price/2:\n",
    "        print(\"You must save more, keep saving!\")\n",
    "    \n",
    "elif saved_amount > ps4_price/2 and saved_amount < ps4_price:\n",
    "            print('You saved more than half, keep saving!')\n",
    "    \n",
    "else:\n",
    "    print(\"Yippee! You can buy your PS4\")"
   ]
  },
  {
   "cell_type": "code",
   "execution_count": null,
   "id": "9ad6cdd8",
   "metadata": {},
   "outputs": [],
   "source": [
    "mark = int(input(\"Enter mark\"))\n",
    "\n",
    "if mark >= 85 :\n",
    "    print(\"A (Excellent)\")\n",
    "elif mark >= 70 :\n",
    "    print(\"B (Good)\")\n",
    "elif mark >= 60 :\n",
    "    print(\"C (Medium)\")\n",
    "elif mark >= 45 :\n",
    "    print(\"D (Not Bad)\")\n",
    "else:\n",
    "    print(\"F (Failed)\")"
   ]
  },
  {
   "cell_type": "code",
   "execution_count": null,
   "id": "3b63a969",
   "metadata": {},
   "outputs": [],
   "source": [
    "max = 5\n",
    "if 7 > max:\n",
    "    max = 7\n",
    "print(max)"
   ]
  },
  {
   "cell_type": "code",
   "execution_count": null,
   "id": "126dc875",
   "metadata": {},
   "outputs": [],
   "source": [
    "weekdays = ['Monday', 'Tuesday', 'Wednesday', 'Thursday', 'Friday']\n",
    "for day in range(len(weekdays)):\n",
    "    print('Day', day+1, ':', weekdays[day])"
   ]
  },
  {
   "cell_type": "code",
   "execution_count": null,
   "id": "2a4fd982",
   "metadata": {},
   "outputs": [],
   "source": [
    "weekdays = ['Monday', 'Tuesday', 'Wednesday', 'Thursday', 'Friday']\n",
    "for day in range(5):\n",
    "    print('Day', day+1, ':', weekdays[day])"
   ]
  },
  {
   "cell_type": "code",
   "execution_count": null,
   "id": "cd0121c3",
   "metadata": {},
   "outputs": [],
   "source": [
    "month = \"April\"\n",
    "spring = \"September, April, January\"\n",
    "autumn = \"March, October, July\"\n",
    "\n",
    "if (month in spring) or (month in autumn):\n",
    "    if month in autumn:\n",
    "        print(\"This is a spring month\")\n",
    "    else:\n",
    "        print(\"This is an autumn month\")\n",
    "else:\n",
    "    print(\"This month is not categorized\")"
   ]
  },
  {
   "cell_type": "code",
   "execution_count": null,
   "id": "e8f97728",
   "metadata": {},
   "outputs": [],
   "source": [
    "number = int(input('Please enter a number: '))\n",
    "for i in range(number):\n",
    "    print(i**2)"
   ]
  },
  {
   "cell_type": "code",
   "execution_count": null,
   "id": "4ca750cf",
   "metadata": {},
   "outputs": [],
   "source": [
    "number = int(input('Please enter a number: '))\n",
    "\n",
    "i = 0\n",
    "while i < number:\n",
    "    print(i**2)\n",
    "    i +=1"
   ]
  },
  {
   "cell_type": "code",
   "execution_count": null,
   "id": "cb468459",
   "metadata": {},
   "outputs": [],
   "source": [
    "sample_list = [{\"section\":5, \"topic\":2}, 'clarusway', [1, 4], 2020, 3.14, 1+618j, False, (10, 20)]\n",
    "\n",
    "for i in sample_list:\n",
    "    print(f\"The type of {i} is {type(i)}.\")\n"
   ]
  },
  {
   "cell_type": "code",
   "execution_count": null,
   "id": "77da244a",
   "metadata": {},
   "outputs": [],
   "source": [
    "print(f\"The type of {sample_list[1]} is {type(sample_list[1])}\")"
   ]
  },
  {
   "cell_type": "code",
   "execution_count": null,
   "id": "945251a5",
   "metadata": {},
   "outputs": [],
   "source": [
    " The type of clarusway is <class 'str'>."
   ]
  },
  {
   "cell_type": "code",
   "execution_count": null,
   "id": "a053f756",
   "metadata": {},
   "outputs": [],
   "source": [
    "# THIS SOLUTION DOESN'T WORK NICELY\n",
    "n = 2\n",
    "\n",
    "for i in range(1,n):\n",
    "    if n == 2:\n",
    "        print(f\"{n} is a prime number\")\n",
    "    elif n % i == 0:\n",
    "        print(f\"{n} is NOT a prime number\")\n",
    "    else:\n",
    "        print(f\"{n} is a prime number\")\n",
    "    \n"
   ]
  },
  {
   "cell_type": "code",
   "execution_count": 16,
   "id": "0631d0d4",
   "metadata": {},
   "outputs": [
    {
     "name": "stdout",
     "output_type": "stream",
     "text": [
      "Enter a number to check if it is a prime number : 4\n",
      "4 is NOT a prime number\n"
     ]
    }
   ],
   "source": [
    "n = int(input('Enter a number to check if it is a prime number : '))\n",
    "\n",
    "no_of_factors = 0\n",
    "\n",
    "for i in range(1,n+1):\n",
    "    if n % i == 0:\n",
    "        no_of_factors += 1\n",
    "\n",
    "if no_of_factors == 2:\n",
    "    print(f\"{n} is a prime number\")\n",
    "else:\n",
    "    print(f\"{n} is NOT a prime number\")"
   ]
  },
  {
   "cell_type": "code",
   "execution_count": 18,
   "id": "5bf75d90",
   "metadata": {},
   "outputs": [
    {
     "name": "stdout",
     "output_type": "stream",
     "text": [
      "Enter a number to check if it is a prime number : -7\n",
      "-7 is a prime number \n"
     ]
    }
   ],
   "source": [
    "n=int(input('Enter a number to check if it is a prime number : '))\n",
    "count=0\n",
    "for i in range(1, n+1):\n",
    "    if n % i == 0 : count += 1\n",
    "    else : count += 0\n",
    "if count < 3: print('{} is a prime number '.format(n))\n",
    "else : print('{} is not a prime number'.format(n))"
   ]
  },
  {
   "cell_type": "code",
   "execution_count": 27,
   "id": "c2e03f6a",
   "metadata": {},
   "outputs": [
    {
     "name": "stdout",
     "output_type": "stream",
     "text": [
      "[2, 3, 5, 7, 11, 13, 17, 19, 23, 29, 31, 37, 41, 43, 47, 53, 59, 61, 67, 71, 73, 79, 83, 89, 97]\n"
     ]
    }
   ],
   "source": [
    "# MY SOLUTION\n",
    "\n",
    "primes = []  # the empty list to append the primes\n",
    "\n",
    "for n in range (2, 101):\n",
    "    no_of_factors = 0\n",
    "    for i in range(1,n+1):\n",
    "        if n % i == 0:  \n",
    "            no_of_factors += 1\n",
    "    if no_of_factors == 2: # check if it has exactly two factors\n",
    "        primes.append(n) # append to primes if it has exactly two primes\n",
    "        \n",
    "print(primes)"
   ]
  },
  {
   "cell_type": "code",
   "execution_count": 28,
   "id": "2366dd36",
   "metadata": {},
   "outputs": [
    {
     "name": "stdout",
     "output_type": "stream",
     "text": [
      "[2, 3, 5, 7, 11, 13, 17, 19, 23, 29, 31, 37, 41, 43, 47, 53, 59, 61, 67, 71, 73, 79, 83, 89, 97]\n"
     ]
    }
   ],
   "source": [
    "# SOLUTION IN LMS\n",
    "\n",
    "prime=[]  # created an empty list to collect prime numbers in it\n",
    "\n",
    "for num in range(2, 101):\n",
    "    status = True\n",
    "    for i in range(2, num):\n",
    "        if num % i == 0: # check if the only factors are 1 and itself\n",
    "            status = False\n",
    "    if status:\n",
    "        prime.append(num)  # collect prime numbers in the list\n",
    "\n",
    "print(prime)"
   ]
  },
  {
   "cell_type": "code",
   "execution_count": 30,
   "id": "bc0ff575",
   "metadata": {},
   "outputs": [
    {
     "name": "stdout",
     "output_type": "stream",
     "text": [
      "5\n",
      "6\n",
      "7\n",
      "8\n",
      "9\n",
      "10\n",
      "11\n",
      "12\n",
      "13\n"
     ]
    }
   ],
   "source": [
    "i = 5\n",
    "while True:\n",
    "    if i%0xe == 0:\n",
    "        break\n",
    "    print(i)\n",
    "    i += 1"
   ]
  },
  {
   "cell_type": "code",
   "execution_count": 58,
   "id": "bff4cc27",
   "metadata": {},
   "outputs": [
    {
     "data": {
      "text/plain": [
       "'C'"
      ]
     },
     "execution_count": 58,
     "metadata": {},
     "output_type": "execute_result"
    }
   ],
   "source": [
    "a = \"abcd\"\n",
    "y = a[2].upper()\n",
    "y"
   ]
  },
  {
   "cell_type": "code",
   "execution_count": 56,
   "id": "0cf4ed7a",
   "metadata": {},
   "outputs": [
    {
     "name": "stdout",
     "output_type": "stream",
     "text": [
      "[3, 2, 1]\n"
     ]
    }
   ],
   "source": [
    "k = [1, 2, 3]\n",
    "l = []\n",
    "for i in range(1,4):\n",
    "    l.append(k[-i])\n",
    "\n",
    "print(l)"
   ]
  },
  {
   "cell_type": "code",
   "execution_count": null,
   "id": "964f0f2d",
   "metadata": {},
   "outputs": [],
   "source": [
    "print"
   ]
  },
  {
   "cell_type": "code",
   "execution_count": 59,
   "id": "ae50edac",
   "metadata": {},
   "outputs": [],
   "source": [
    "tuple1 = (1, 2, [5 , 6, 7], 11, 12)"
   ]
  },
  {
   "cell_type": "code",
   "execution_count": 61,
   "id": "25658714",
   "metadata": {},
   "outputs": [],
   "source": [
    "tuple1[2][0] = 8"
   ]
  },
  {
   "cell_type": "code",
   "execution_count": 62,
   "id": "e086c4ec",
   "metadata": {},
   "outputs": [
    {
     "data": {
      "text/plain": [
       "(1, 2, [8, 6, 7], 11, 12)"
      ]
     },
     "execution_count": 62,
     "metadata": {},
     "output_type": "execute_result"
    }
   ],
   "source": [
    "tuple1"
   ]
  },
  {
   "cell_type": "code",
   "execution_count": 63,
   "id": "e99df335",
   "metadata": {},
   "outputs": [
    {
     "name": "stdout",
     "output_type": "stream",
     "text": [
      "2375\n",
      "<class 'str'>\n"
     ]
    }
   ],
   "source": [
    "a = 2375\n",
    "b = str(a)\n",
    "print(b)\n",
    "print(type(b))"
   ]
  },
  {
   "cell_type": "code",
   "execution_count": 70,
   "id": "00e462cb",
   "metadata": {},
   "outputs": [
    {
     "name": "stdout",
     "output_type": "stream",
     "text": [
      "Enter a number: 283692\n",
      "Sum of the digits of 283692 is: 30\n"
     ]
    }
   ],
   "source": [
    "n = input(\"Enter a number: \")\n",
    "\n",
    "total = 0\n",
    "\n",
    "for i in n:\n",
    "    total += int(i)\n",
    "    \n",
    "print(f\"Sum of the digits of {n} is:\", total)"
   ]
  },
  {
   "cell_type": "code",
   "execution_count": 4,
   "id": "312b5a9a",
   "metadata": {},
   "outputs": [
    {
     "name": "stdout",
     "output_type": "stream",
     "text": [
      "corge\n",
      "qux\n",
      "baz\n",
      "bar\n",
      "foot\n"
     ]
    }
   ],
   "source": [
    "a = [\"foot\", \"bar\", \"baz\", \"qux\", \"corge\"]\n",
    "\n",
    "while a:\n",
    "    print(a.pop())"
   ]
  },
  {
   "cell_type": "code",
   "execution_count": 5,
   "id": "3a30ba6e",
   "metadata": {},
   "outputs": [
    {
     "name": "stdout",
     "output_type": "stream",
     "text": [
      "['corge', 'qux', 'baz', 'bar', 'foot']\n"
     ]
    }
   ],
   "source": [
    "b = []\n",
    "a = [\"foot\", \"bar\", \"baz\", \"qux\", \"corge\"]\n",
    "\n",
    "while a:\n",
    "    b.append(a.pop())\n",
    "print(b)"
   ]
  },
  {
   "cell_type": "code",
   "execution_count": 34,
   "id": "41eecf0c",
   "metadata": {},
   "outputs": [
    {
     "name": "stdout",
     "output_type": "stream",
     "text": [
      "['corge', 'baz', 'foot']\n"
     ]
    }
   ],
   "source": [
    "a = [\"foot\", \"bar\", \"baz\", \"qux\", \"corge\"]\n",
    "b = []\n",
    "\n",
    "b.append(a.pop())\n",
    "if a:\n",
    "    type(a.pop()) \n",
    "\n",
    "b.append(a.pop())\n",
    "if a:\n",
    "    type(a.pop()) \n",
    "\n",
    "b.append(a.pop())\n",
    "if a:\n",
    "    type(a.pop()) \n",
    "\n",
    "\n",
    "print(b)"
   ]
  },
  {
   "cell_type": "code",
   "execution_count": 38,
   "id": "499ff87f",
   "metadata": {},
   "outputs": [
    {
     "name": "stdout",
     "output_type": "stream",
     "text": [
      "['corge', 'baz', 'foot']\n"
     ]
    }
   ],
   "source": [
    "\n",
    "a = [\"foot\", \"bar\", \"baz\", \"qux\", \"corge\"]\n",
    "b = []\n",
    "\n",
    "while a:\n",
    "    b.append(a.pop())\n",
    "    if a:\n",
    "        a.pop()\n",
    "\n",
    "print(b)"
   ]
  },
  {
   "cell_type": "code",
   "execution_count": 39,
   "id": "de283671",
   "metadata": {},
   "outputs": [
    {
     "name": "stdout",
     "output_type": "stream",
     "text": [
      "['foot', 'baz', 'corge']\n"
     ]
    }
   ],
   "source": [
    "a = [\"foot\", \"bar\", \"baz\", \"qux\", \"corge\"]\n",
    "b = []\n",
    "\n",
    "while a:\n",
    "    b.append(a.pop(0))\n",
    "    if a:\n",
    "        a.pop(0)\n",
    "\n",
    "print(b)"
   ]
  },
  {
   "cell_type": "code",
   "execution_count": 58,
   "id": "44d29407",
   "metadata": {},
   "outputs": [
    {
     "name": "stdout",
     "output_type": "stream",
     "text": [
      "The list of prime numers between 1 and 100: \n",
      " [1000003, 1000033, 1000037, 1000039, 1000081, 1000099]\n"
     ]
    }
   ],
   "source": [
    "primes = []\n",
    "for n in range (1000000, 1000100):\n",
    "    no_of_factors = 0\n",
    "    for i in range(1,n+1):\n",
    "        if n % i == 0:  \n",
    "            no_of_factors += 1\n",
    "    if no_of_factors == 2:  # check if it has exactly two factors\n",
    "        primes.append(n)  # append to primes if it has exactly two primes\n",
    "        \n",
    "print(f\"The list of prime numers between 1 and {100}:\", \"\\n\", primes)"
   ]
  },
  {
   "cell_type": "code",
   "execution_count": 44,
   "id": "c56ceb08",
   "metadata": {},
   "outputs": [
    {
     "name": "stdout",
     "output_type": "stream",
     "text": [
      "6857 is a prime number\n"
     ]
    },
    {
     "data": {
      "text/plain": [
       "2"
      ]
     },
     "execution_count": 44,
     "metadata": {},
     "output_type": "execute_result"
    }
   ],
   "source": [
    "n = 6857\n",
    "\n",
    "no_of_factors = 0\n",
    "\n",
    "for i in range(1, n+1):\n",
    "    if n % i == 0:\n",
    "        no_of_factors += 1\n",
    "\n",
    "if no_of_factors == 2:\n",
    "    print(f\"{n} is a prime number\")\n",
    "\n",
    "else:\n",
    "    print(f\"{n} is NOT a prime number\")\n",
    "no_of_factors"
   ]
  },
  {
   "cell_type": "code",
   "execution_count": null,
   "id": "59f6fed3",
   "metadata": {},
   "outputs": [],
   "source": [
    "n = 20\n",
    "\n",
    "while i in reversed(range(1, n+1)):\n",
    "    \n",
    "    for j in range(1, i+1):\n",
    "        no_of_factors = 0\n",
    "        if j % i == 0:\n",
    "            no_of_factors += 1\n",
    "    \n",
    "    if no_of_factors == 2:\n",
    "        print(f\"{n} is the largest prime\")\n",
    "        break"
   ]
  },
  {
   "cell_type": "code",
   "execution_count": 78,
   "id": "69d1da40",
   "metadata": {},
   "outputs": [
    {
     "name": "stdout",
     "output_type": "stream",
     "text": [
      "6857\n"
     ]
    }
   ],
   "source": [
    "n = 600851475143\n",
    "largest_prime_factor = 0\n",
    "\n",
    "while n % 2 == 0 :\n",
    "    largest_prime_factor = 2\n",
    "    n = n/2\n",
    "\n",
    "for i in range(3, int(n**0.5)+1, 2) :\n",
    "    if n % i == 0 :\n",
    "        largest_prime_factor = i\n",
    "        n = n/i\n",
    "\n",
    "if n > 2:\n",
    "    largest_prime_factor = n\n",
    "    \n",
    "print(largest_prime_factor)"
   ]
  },
  {
   "cell_type": "code",
   "execution_count": 42,
   "id": "46ec0bd2",
   "metadata": {},
   "outputs": [
    {
     "data": {
      "text/plain": [
       "87625999.0"
      ]
     },
     "execution_count": 42,
     "metadata": {},
     "output_type": "execute_result"
    }
   ],
   "source": [
    "600851475143/6857"
   ]
  },
  {
   "cell_type": "code",
   "execution_count": 2,
   "id": "4077e9d4",
   "metadata": {},
   "outputs": [
    {
     "name": "stdout",
     "output_type": "stream",
     "text": [
      "4 3 2 1 0\n"
     ]
    }
   ],
   "source": [
    "print(*reversed(range(5)))"
   ]
  }
 ],
 "metadata": {
  "kernelspec": {
   "display_name": "Python 3 (ipykernel)",
   "language": "python",
   "name": "python3"
  },
  "language_info": {
   "codemirror_mode": {
    "name": "ipython",
    "version": 3
   },
   "file_extension": ".py",
   "mimetype": "text/x-python",
   "name": "python",
   "nbconvert_exporter": "python",
   "pygments_lexer": "ipython3",
   "version": "3.10.8"
  }
 },
 "nbformat": 4,
 "nbformat_minor": 5
}
