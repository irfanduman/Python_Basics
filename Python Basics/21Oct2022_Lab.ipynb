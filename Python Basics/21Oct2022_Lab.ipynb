{
 "cells": [
  {
   "cell_type": "code",
   "execution_count": 1,
   "id": "2729d025",
   "metadata": {},
   "outputs": [],
   "source": [
    "list = [0, 1, 2, 3]"
   ]
  },
  {
   "cell_type": "code",
   "execution_count": 2,
   "id": "0f751beb",
   "metadata": {},
   "outputs": [],
   "source": [
    "list.insert(2, 5)"
   ]
  },
  {
   "cell_type": "code",
   "execution_count": 3,
   "id": "5f9fb5b6",
   "metadata": {},
   "outputs": [
    {
     "data": {
      "text/plain": [
       "[0, 1, 5, 2, 3]"
      ]
     },
     "execution_count": 3,
     "metadata": {},
     "output_type": "execute_result"
    }
   ],
   "source": [
    "list"
   ]
  },
  {
   "cell_type": "code",
   "execution_count": 8,
   "id": "9891de85",
   "metadata": {},
   "outputs": [],
   "source": [
    "list[1] = \"ali\""
   ]
  },
  {
   "cell_type": "code",
   "execution_count": 9,
   "id": "2f36ef65",
   "metadata": {},
   "outputs": [
    {
     "data": {
      "text/plain": [
       "[0, 'ali', 5, 2, 3]"
      ]
     },
     "execution_count": 9,
     "metadata": {},
     "output_type": "execute_result"
    }
   ],
   "source": [
    "list"
   ]
  },
  {
   "cell_type": "code",
   "execution_count": 12,
   "id": "f458f112",
   "metadata": {},
   "outputs": [
    {
     "ename": "SyntaxError",
     "evalue": "invalid syntax (1432551343.py, line 1)",
     "output_type": "error",
     "traceback": [
      "\u001b[0;36m  Cell \u001b[0;32mIn [12], line 1\u001b[0;36m\u001b[0m\n\u001b[0;31m    list.del(1)\u001b[0m\n\u001b[0m         ^\u001b[0m\n\u001b[0;31mSyntaxError\u001b[0m\u001b[0;31m:\u001b[0m invalid syntax\n"
     ]
    }
   ],
   "source": [
    "list.del(1)"
   ]
  },
  {
   "cell_type": "code",
   "execution_count": 17,
   "id": "0a410976",
   "metadata": {},
   "outputs": [
    {
     "data": {
      "text/plain": [
       "1"
      ]
     },
     "execution_count": 17,
     "metadata": {},
     "output_type": "execute_result"
    }
   ],
   "source": [
    "list.index(\"ali\")"
   ]
  },
  {
   "cell_type": "code",
   "execution_count": 18,
   "id": "cd3363a6",
   "metadata": {},
   "outputs": [
    {
     "data": {
      "text/plain": [
       "2"
      ]
     },
     "execution_count": 18,
     "metadata": {},
     "output_type": "execute_result"
    }
   ],
   "source": [
    "list.pop(3)"
   ]
  },
  {
   "cell_type": "code",
   "execution_count": 19,
   "id": "a9ef2f41",
   "metadata": {},
   "outputs": [
    {
     "data": {
      "text/plain": [
       "[0, 'ali', 5, 3]"
      ]
     },
     "execution_count": 19,
     "metadata": {},
     "output_type": "execute_result"
    }
   ],
   "source": [
    "list"
   ]
  },
  {
   "cell_type": "code",
   "execution_count": 20,
   "id": "a035db41",
   "metadata": {},
   "outputs": [
    {
     "ename": "SyntaxError",
     "evalue": "invalid syntax (3289255911.py, line 1)",
     "output_type": "error",
     "traceback": [
      "\u001b[0;36m  Cell \u001b[0;32mIn [20], line 1\u001b[0;36m\u001b[0m\n\u001b[0;31m    list.del(3)\u001b[0m\n\u001b[0m         ^\u001b[0m\n\u001b[0;31mSyntaxError\u001b[0m\u001b[0;31m:\u001b[0m invalid syntax\n"
     ]
    }
   ],
   "source": [
    "list.del(3)"
   ]
  },
  {
   "cell_type": "markdown",
   "id": "2f43167b",
   "metadata": {},
   "source": [
    "'''\n",
    "liste = [1, 2, 3]\n",
    "\n",
    "output = [1, 2, 3, 5, 8, 13]\n",
    "'''"
   ]
  },
  {
   "cell_type": "markdown",
   "id": "64e024da",
   "metadata": {},
   "source": [
    "# Task 1"
   ]
  },
  {
   "cell_type": "code",
   "execution_count": 21,
   "id": "946109b8",
   "metadata": {},
   "outputs": [],
   "source": [
    "liste = [1, 2, 3]"
   ]
  },
  {
   "cell_type": "code",
   "execution_count": 26,
   "id": "3cc0b5d5",
   "metadata": {},
   "outputs": [],
   "source": [
    "liste.append(liste[-2] + liste[-1])  # her calistirildiginda listeyi gunceller"
   ]
  },
  {
   "cell_type": "code",
   "execution_count": 27,
   "id": "b87927c9",
   "metadata": {},
   "outputs": [
    {
     "name": "stdout",
     "output_type": "stream",
     "text": [
      "[1, 2, 3, 5, 8, 13]\n"
     ]
    }
   ],
   "source": [
    "print(liste)"
   ]
  },
  {
   "cell_type": "code",
   "execution_count": 31,
   "id": "0f033da8",
   "metadata": {},
   "outputs": [
    {
     "name": "stdout",
     "output_type": "stream",
     "text": [
      "[1, 2, 3, 5, 8, 13]\n"
     ]
    }
   ],
   "source": [
    "liste2 = [1, 2, 3]\n",
    "\n",
    "liste2.append(liste2[-2] + liste2[-1])\n",
    "liste2.append(liste2[-2] + liste2[-1])\n",
    "liste2.append(liste2[-2] + liste2[-1])\n",
    "\n",
    "print(liste2)"
   ]
  },
  {
   "cell_type": "markdown",
   "id": "d0402c68",
   "metadata": {},
   "source": [
    "# Task 2\n",
    "\n",
    "The sum of squares of first n numbers"
   ]
  },
  {
   "cell_type": "code",
   "execution_count": 48,
   "id": "c3cedd02",
   "metadata": {},
   "outputs": [
    {
     "name": "stdout",
     "output_type": "stream",
     "text": [
      "Enter an integer: 10\n",
      "the sum of squares of the first 10 numbers is equal to: 385\n"
     ]
    }
   ],
   "source": [
    "n = int(input(\"Enter an integer: \"))\n",
    "sum_of_square = n * (n+1) * (2*n+1) // 6\n",
    "\n",
    "print(f\"The sum of squares of the first {n} numbers is equal to: {sum_of_square}\")"
   ]
  },
  {
   "cell_type": "markdown",
   "id": "57168830",
   "metadata": {},
   "source": [
    "# Task\n",
    "\n",
    "Task: Girilen sayının tek veya çift olma durumunu, ayrıca 3'e bölünüp bölünememe durumunu ekrana şu şekilde yazdıran bir program yazınız:\n",
    "\n",
    "\"5 is an odd number  and it can not be divided into 3\""
   ]
  },
  {
   "cell_type": "code",
   "execution_count": 33,
   "id": "2e0569ea",
   "metadata": {},
   "outputs": [
    {
     "name": "stdout",
     "output_type": "stream",
     "text": [
      "give a number: 45\n",
      "45 is an odd number and it can be divided into 3\n"
     ]
    }
   ],
   "source": [
    "num_1 = int(input(\"give a number: \"))\n",
    "result_1 = (num_1 % 2 == 0) and \"even\" or (num_1 % 2 != 0) and \"odd\"\n",
    "result_2 = (num_1 % 3 == 0) and \"can\" or (num_1 % 3 != 0) and \"can not\"\n",
    "print(f\"{num_1} is an {result_1} number and it {result_2} be divided into 3\")"
   ]
  },
  {
   "cell_type": "code",
   "execution_count": null,
   "id": "88aebda6",
   "metadata": {},
   "outputs": [],
   "source": []
  },
  {
   "cell_type": "markdown",
   "id": "56ac403b",
   "metadata": {},
   "source": [
    "# Task\n",
    "\n",
    "Dairenin alaninin \"math\" kutuphanesi ile hesaplayan kod:"
   ]
  },
  {
   "cell_type": "code",
   "execution_count": 1,
   "id": "57698804",
   "metadata": {},
   "outputs": [],
   "source": [
    "import math"
   ]
  },
  {
   "cell_type": "code",
   "execution_count": 2,
   "id": "376f3433",
   "metadata": {},
   "outputs": [
    {
     "data": {
      "text/plain": [
       "3.141592653589793"
      ]
     },
     "execution_count": 2,
     "metadata": {},
     "output_type": "execute_result"
    }
   ],
   "source": [
    "math.pi"
   ]
  },
  {
   "cell_type": "code",
   "execution_count": 5,
   "id": "a2c9f9da",
   "metadata": {},
   "outputs": [
    {
     "name": "stdout",
     "output_type": "stream",
     "text": [
      "28.274333882308138\n"
     ]
    }
   ],
   "source": [
    "r = 3\n",
    "Area = math.pi * pow(r, 2)\n",
    "\n",
    "print(Area)"
   ]
  }
 ],
 "metadata": {
  "kernelspec": {
   "display_name": "Python 3 (ipykernel)",
   "language": "python",
   "name": "python3"
  },
  "language_info": {
   "codemirror_mode": {
    "name": "ipython",
    "version": 3
   },
   "file_extension": ".py",
   "mimetype": "text/x-python",
   "name": "python",
   "nbconvert_exporter": "python",
   "pygments_lexer": "ipython3",
   "version": "3.10.8"
  }
 },
 "nbformat": 4,
 "nbformat_minor": 5
}
