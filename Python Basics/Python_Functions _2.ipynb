{
 "cells": [
  {
   "cell_type": "markdown",
   "id": "29d60b78",
   "metadata": {},
   "source": [
    "<img src=\"https://docs.google.com/uc?id=14xeXxFrVRjvOoUYWn_GuyE-v84wVzrqr\" class=\"img-fluid\" alt=\"CLRWY\" width=\"400\" height=\"200\">"
   ]
  },
  {
   "cell_type": "markdown",
   "id": "97d2a08c",
   "metadata": {},
   "source": [
    "<a id=\"toc\"></a>\n",
    "\n",
    "### <p style=\"background-color:#0D8D99; font-family:newtimeroman; color:#FFF9ED; font-size:175%; text-align:center; border-radius:10px 10px;\">Python Session-16 (3 Nov 2022)</p>"
   ]
  },
  {
   "cell_type": "markdown",
   "id": "2a056995",
   "metadata": {},
   "source": [
    "#### <div class=\"alert alert-block alert-info\"><h1><p style=\"text-align: center; color:purple\"> Generator Comprehension<br><br>Build in Functions<br><br>Defining a Function<br><br>Duration comparison between for loop and list comprehension<br><br>The Matter of Arguments</p> "
   ]
  },
  {
   "cell_type": "markdown",
   "id": "71e9c513",
   "metadata": {},
   "source": [
    "**Python official documentation 1 - Functions: https://docs.python.org/3/library/stdtypes.html#functions**\n",
    "\n",
    "**Python official documentation 2 - Function Definition: https://docs.python.org/3/reference/compound_stmts.html#function**\n",
    "\n",
    "**Python official documentation 3 - Build-in Functions: https://docs.python.org/3/library/functions.html**\n",
    "\n",
    "**Link 1 - Python Functions: https://www.w3schools.com/python/python_functions.asp**\n",
    "\n",
    "**Link 2 - Python Functions: https://www.programiz.com/python-programming/function**\n",
    "\n",
    "**Link 3 - Python Functions: https://www.geeksforgeeks.org/python-functions/**"
   ]
  },
  {
   "cell_type": "markdown",
   "id": "4fb2806b",
   "metadata": {},
   "source": [
    "<a id=\"toc\"></a>\n",
    "\n",
    "### <p style=\"background-color:#9d4f8c; font-family:newtimeroman; color:#FFF9ED; font-size:175%; text-align:center; border-radius:10px 10px;\">Generator Comprehension</p>"
   ]
  },
  {
   "cell_type": "code",
   "execution_count": 26,
   "id": "96ec5a01",
   "metadata": {},
   "outputs": [
    {
     "data": {
      "text/plain": [
       "[0, 1, 4, 9, 16, 25]"
      ]
     },
     "execution_count": 26,
     "metadata": {},
     "output_type": "execute_result"
    }
   ],
   "source": [
    "[i ** 2 for i in range(6)]"
   ]
  },
  {
   "cell_type": "code",
   "execution_count": 28,
   "id": "7b3246f5",
   "metadata": {},
   "outputs": [
    {
     "data": {
      "text/plain": [
       "<generator object <genexpr> at 0x10c14bca0>"
      ]
     },
     "execution_count": 28,
     "metadata": {},
     "output_type": "execute_result"
    }
   ],
   "source": [
    "generator = (i ** 2 for i in range(6))\n",
    "generator"
   ]
  },
  {
   "cell_type": "code",
   "execution_count": 29,
   "id": "cfd72eaf",
   "metadata": {},
   "outputs": [
    {
     "data": {
      "text/plain": [
       "[0, 1, 4, 9, 16, 25]"
      ]
     },
     "execution_count": 29,
     "metadata": {},
     "output_type": "execute_result"
    }
   ],
   "source": [
    "list(generator)  # generator'i gorunur yapiyoruz (list metodu kullanarak)"
   ]
  },
  {
   "cell_type": "code",
   "execution_count": 30,
   "id": "d18d57fd",
   "metadata": {},
   "outputs": [
    {
     "name": "stdout",
     "output_type": "stream",
     "text": [
      "\n"
     ]
    }
   ],
   "source": [
    "print(*generator)  # yukarda ici bosaldigi icin output bos"
   ]
  },
  {
   "cell_type": "code",
   "execution_count": 31,
   "id": "3af8aa1a",
   "metadata": {},
   "outputs": [
    {
     "name": "stdout",
     "output_type": "stream",
     "text": [
      "0 1 4 9 16 25\n"
     ]
    }
   ],
   "source": [
    "generator = (i ** 2 for i in range(6))\n",
    "print(*generator)"
   ]
  },
  {
   "cell_type": "code",
   "execution_count": 32,
   "id": "c4027cf3",
   "metadata": {},
   "outputs": [
    {
     "name": "stdout",
     "output_type": "stream",
     "text": [
      "0\n",
      "1\n",
      "4\n",
      "9\n",
      "16\n",
      "25\n"
     ]
    }
   ],
   "source": [
    "generator = (i ** 2 for i in range(6))\n",
    "for i in generator:\n",
    "    print(i)"
   ]
  },
  {
   "cell_type": "code",
   "execution_count": 33,
   "id": "034f5698",
   "metadata": {},
   "outputs": [
    {
     "name": "stdout",
     "output_type": "stream",
     "text": [
      "0\n",
      "1\n"
     ]
    }
   ],
   "source": [
    "generator = (i ** 2 for i in range(6))\n",
    "\n",
    "print(next(generator))\n",
    "print(next(generator))"
   ]
  },
  {
   "cell_type": "code",
   "execution_count": 34,
   "id": "247366c8",
   "metadata": {},
   "outputs": [
    {
     "data": {
      "text/plain": [
       "[4, 9, 16, 25]"
      ]
     },
     "execution_count": 34,
     "metadata": {},
     "output_type": "execute_result"
    }
   ],
   "source": [
    "list(generator)  # 0 ve 1 yukarda kullanildigi icin sadece geriye kalan elemanlar gozukur"
   ]
  },
  {
   "cell_type": "code",
   "execution_count": 35,
   "id": "72cc3525",
   "metadata": {},
   "outputs": [
    {
     "data": {
      "text/plain": [
       "<generator object <genexpr> at 0x10c354350>"
      ]
     },
     "execution_count": 35,
     "metadata": {},
     "output_type": "execute_result"
    }
   ],
   "source": [
    "generate = (i/2 for i in [0, 9, 21, 32])\n",
    "\n",
    "generate"
   ]
  },
  {
   "cell_type": "code",
   "execution_count": 36,
   "id": "dd1923c9",
   "metadata": {},
   "outputs": [
    {
     "name": "stdout",
     "output_type": "stream",
     "text": [
      "0.0\n",
      "4.5\n",
      "10.5\n",
      "16.0\n"
     ]
    }
   ],
   "source": [
    "for item in generate:\n",
    "    print(item)"
   ]
  },
  {
   "cell_type": "code",
   "execution_count": 38,
   "id": "8439362a",
   "metadata": {},
   "outputs": [
    {
     "name": "stdout",
     "output_type": "stream",
     "text": [
      "(0, 0, 0)\n",
      "(1, 1, 1)\n",
      "(2, 4, 8)\n",
      "(3, 9, 27)\n",
      "(4, 16, 64)\n",
      "(5, 25, 125)\n",
      "(6, 36, 216)\n",
      "(7, 49, 343)\n",
      "(8, 64, 512)\n",
      "(9, 81, 729)\n"
     ]
    }
   ],
   "source": [
    "generate = ((i, i**2, i**3) for i in range(10))\n",
    "\n",
    "for item in generate:\n",
    "    print(item)"
   ]
  },
  {
   "cell_type": "code",
   "execution_count": 40,
   "id": "c85e6691",
   "metadata": {},
   "outputs": [
    {
     "name": "stdout",
     "output_type": "stream",
     "text": [
      "apple apple apple pie pie pie\n"
     ]
    }
   ],
   "source": [
    "generate = ((\"apple\" if i < 3 else \"pie\" ) for i in range(6))\n",
    "\n",
    "print(* generate)"
   ]
  },
  {
   "cell_type": "code",
   "execution_count": null,
   "id": "765071a8",
   "metadata": {},
   "outputs": [],
   "source": []
  },
  {
   "cell_type": "code",
   "execution_count": null,
   "id": "1a4bef5d",
   "metadata": {},
   "outputs": [],
   "source": []
  },
  {
   "cell_type": "code",
   "execution_count": null,
   "id": "3af23ecd",
   "metadata": {},
   "outputs": [],
   "source": []
  },
  {
   "cell_type": "markdown",
   "id": "7ef22f13",
   "metadata": {},
   "source": [
    "<a id=\"toc\"></a>\n",
    "\n",
    "## <p style=\"background-color:#0D8D99; font-family:newtimeroman; color:#FFF9ED; font-size:175%; text-align:center; border-radius:10px 10px;\">FUNCTIONS - continue</p>"
   ]
  },
  {
   "cell_type": "markdown",
   "id": "bb821073",
   "metadata": {},
   "source": [
    "<a id=\"toc\"></a>\n",
    "\n",
    "### <p style=\"background-color:#9d4f8c; font-family:newtimeroman; color:#FFF9ED; font-size:175%; text-align:center; border-radius:10px 10px;\">Build in Functions</p>"
   ]
  },
  {
   "cell_type": "code",
   "execution_count": 44,
   "id": "8e6e41f3",
   "metadata": {},
   "outputs": [
    {
     "name": "stdout",
     "output_type": "stream",
     "text": [
      "[(0, 'ali'), (1, 'deli'), (2, 'veli')]\n"
     ]
    }
   ],
   "source": [
    "isimler = [\"ali\", \"deli\", \"veli\"]\n",
    "\n",
    "sayac = 0\n",
    "\n",
    "liste = []\n",
    "\n",
    "for i in isimler :\n",
    "    liste.append((sayac, i))\n",
    "    sayac += 1\n",
    "print(liste)"
   ]
  },
  {
   "cell_type": "code",
   "execution_count": 45,
   "id": "9289c07c",
   "metadata": {},
   "outputs": [
    {
     "name": "stdout",
     "output_type": "stream",
     "text": [
      "[(0, 'ali'), (1, 'deli'), (2, 'veli')]\n"
     ]
    }
   ],
   "source": [
    "print(list(enumerate(isimler)))  # enumerate kullanilarak ayni sey kolaylikla yapilabilir\n",
    "                                 # list kullanilarak gorunur yapiyoruz"
   ]
  },
  {
   "cell_type": "code",
   "execution_count": 46,
   "id": "45da2ae9",
   "metadata": {},
   "outputs": [
    {
     "name": "stdout",
     "output_type": "stream",
     "text": [
      "[(1, 'ali'), (2, 'deli'), (3, 'veli')]\n"
     ]
    }
   ],
   "source": [
    "print(list(enumerate(isimler, 1)))  # istedigimiz sayidan baslatabiliriz"
   ]
  },
  {
   "cell_type": "code",
   "execution_count": 48,
   "id": "f3ee49e8",
   "metadata": {},
   "outputs": [
    {
     "name": "stdout",
     "output_type": "stream",
     "text": [
      "<class 'enumerate'>\n"
     ]
    }
   ],
   "source": [
    "print(type(enumerate(isimler)))"
   ]
  },
  {
   "cell_type": "code",
   "execution_count": 50,
   "id": "1ac26aee",
   "metadata": {},
   "outputs": [
    {
     "data": {
      "text/plain": [
       "{1: 'ali', 2: 'deli', 3: 'veli'}"
      ]
     },
     "execution_count": 50,
     "metadata": {},
     "output_type": "execute_result"
    }
   ],
   "source": [
    "dict(enumerate(isimler, 1))  # enumerate ile generate edilen tuple'lar dict'e cevrilebilir"
   ]
  },
  {
   "cell_type": "code",
   "execution_count": 49,
   "id": "07228390",
   "metadata": {},
   "outputs": [
    {
     "name": "stdout",
     "output_type": "stream",
     "text": [
      "The largest number is: 16\n",
      "The smallest number is: -222\n"
     ]
    }
   ],
   "source": [
    "number = [-222, 0, 16, 5, 10, 6]\n",
    "\n",
    "largest_number = max(number)\n",
    "smallest_number = min(number)\n",
    "\n",
    "print(\"The largest number is:\", largest_number)\n",
    "print(\"The smallest number is:\", smallest_number)"
   ]
  },
  {
   "cell_type": "code",
   "execution_count": 52,
   "id": "e6de0a8b",
   "metadata": {},
   "outputs": [
    {
     "name": "stdout",
     "output_type": "stream",
     "text": [
      "a\n",
      "z\n"
     ]
    }
   ],
   "source": [
    "print(min(\"karagozum\"))\n",
    "print(max(\"karagozum\"))"
   ]
  },
  {
   "cell_type": "code",
   "execution_count": 54,
   "id": "270f64c1",
   "metadata": {},
   "outputs": [
    {
     "name": "stdout",
     "output_type": "stream",
     "text": [
      "97\n",
      "122\n"
     ]
    }
   ],
   "source": [
    "print(ord(\"a\"))\n",
    "print(ord(\"z\"))"
   ]
  },
  {
   "cell_type": "code",
   "execution_count": 60,
   "id": "d4a04929",
   "metadata": {},
   "outputs": [
    {
     "data": {
      "text/plain": [
       "[1, 2, 3, 4]"
      ]
     },
     "execution_count": 60,
     "metadata": {},
     "output_type": "execute_result"
    }
   ],
   "source": [
    "min([5,7,3], [1,2,3,4])"
   ]
  },
  {
   "cell_type": "code",
   "execution_count": 63,
   "id": "e365682e",
   "metadata": {},
   "outputs": [
    {
     "name": "stdout",
     "output_type": "stream",
     "text": [
      "21.5\n",
      "41.5\n"
     ]
    }
   ],
   "source": [
    "numbers = [2.5, 30, 4, -15]\n",
    "\n",
    "number_sum = sum(numbers)\n",
    "print(number_sum)\n",
    "\n",
    "number_sum = sum(numbers, 20)\n",
    "print(number_sum)"
   ]
  },
  {
   "cell_type": "code",
   "execution_count": 69,
   "id": "1a2b29dc",
   "metadata": {},
   "outputs": [
    {
     "ename": "TypeError",
     "evalue": "sum() takes at most 2 arguments (5 given)",
     "output_type": "error",
     "traceback": [
      "\u001b[0;31m---------------------------------------------------------------------------\u001b[0m",
      "\u001b[0;31mTypeError\u001b[0m                                 Traceback (most recent call last)",
      "Cell \u001b[0;32mIn [69], line 1\u001b[0m\n\u001b[0;32m----> 1\u001b[0m \u001b[38;5;28;43msum\u001b[39;49m\u001b[43m(\u001b[49m\u001b[38;5;241;43m1\u001b[39;49m\u001b[43m,\u001b[49m\u001b[43m \u001b[49m\u001b[38;5;241;43m2\u001b[39;49m\u001b[43m,\u001b[49m\u001b[43m \u001b[49m\u001b[38;5;241;43m3\u001b[39;49m\u001b[43m,\u001b[49m\u001b[43m \u001b[49m\u001b[38;5;241;43m4\u001b[39;49m\u001b[43m,\u001b[49m\u001b[43m \u001b[49m\u001b[38;5;241;43m5\u001b[39;49m\u001b[43m)\u001b[49m\n",
      "\u001b[0;31mTypeError\u001b[0m: sum() takes at most 2 arguments (5 given)"
     ]
    }
   ],
   "source": [
    "sum(1, 2, 3, 4, 5)"
   ]
  },
  {
   "cell_type": "code",
   "execution_count": 71,
   "id": "54b41b28",
   "metadata": {},
   "outputs": [
    {
     "data": {
      "text/plain": [
       "21"
      ]
     },
     "execution_count": 71,
     "metadata": {},
     "output_type": "execute_result"
    }
   ],
   "source": [
    "sum((1, 2, 3, 5), 10)"
   ]
  },
  {
   "cell_type": "code",
   "execution_count": 72,
   "id": "709ffbd9",
   "metadata": {},
   "outputs": [
    {
     "data": {
      "text/plain": [
       "15"
      ]
     },
     "execution_count": 72,
     "metadata": {},
     "output_type": "execute_result"
    }
   ],
   "source": [
    "sum((1, 2, 3, 4, 5), 0)"
   ]
  },
  {
   "cell_type": "code",
   "execution_count": 77,
   "id": "d80d9bf8",
   "metadata": {},
   "outputs": [
    {
     "data": {
      "text/plain": [
       "36.37"
      ]
     },
     "execution_count": 77,
     "metadata": {},
     "output_type": "execute_result"
    }
   ],
   "source": [
    "round(36.365, ndigits=2)  # round(number, ndigits)"
   ]
  },
  {
   "cell_type": "code",
   "execution_count": 79,
   "id": "19824aef",
   "metadata": {},
   "outputs": [
    {
     "data": {
      "text/plain": [
       "36.37"
      ]
     },
     "execution_count": 79,
     "metadata": {},
     "output_type": "execute_result"
    }
   ],
   "source": [
    "round(36.365, ndigits=2)  # ndigits=2 yerine sadece 2 yazabiliriz"
   ]
  },
  {
   "cell_type": "markdown",
   "id": "495fcf8d",
   "metadata": {},
   "source": [
    "<a id=\"toc\"></a>\n",
    "\n",
    "### <p style=\"background-color:#9d4f8c; font-family:newtimeroman; color:#FFF9ED; font-size:175%; text-align:center; border-radius:10px 10px;\">Defining a Function</p>"
   ]
  },
  {
   "cell_type": "code",
   "execution_count": 83,
   "id": "81b3b78a",
   "metadata": {},
   "outputs": [
    {
     "name": "stdout",
     "output_type": "stream",
     "text": [
      "34\n"
     ]
    }
   ],
   "source": [
    "def sum_of_squares(a, b):\n",
    "    print(a**2 + b**2)\n",
    "    \n",
    "sum_of_squares(3, 5)"
   ]
  },
  {
   "cell_type": "code",
   "execution_count": 21,
   "id": "650b6cad",
   "metadata": {},
   "outputs": [
    {
     "name": "stdout",
     "output_type": "stream",
     "text": [
      "5.0\n"
     ]
    }
   ],
   "source": [
    "def hypotenuse(a, b):\n",
    "    print((a**2 + b**2)**0.5)\n",
    "    \n",
    "hypotenuse(3 , 4)"
   ]
  },
  {
   "cell_type": "code",
   "execution_count": 84,
   "id": "63b971cc",
   "metadata": {},
   "outputs": [
    {
     "name": "stdout",
     "output_type": "stream",
     "text": [
      "1.4142135623730951\n"
     ]
    }
   ],
   "source": [
    "hypotenuse(1, 1)"
   ]
  },
  {
   "cell_type": "code",
   "execution_count": 6,
   "id": "fe6ee5da",
   "metadata": {},
   "outputs": [],
   "source": [
    "def multiply_1(a, b) :\n",
    "    print(a * b)  # it prints something\n",
    "\n",
    "def multiply_2(a, b) :\n",
    "    return a * b  # returns any numeric data type value"
   ]
  },
  {
   "cell_type": "code",
   "execution_count": 7,
   "id": "a89ee768",
   "metadata": {},
   "outputs": [
    {
     "name": "stdout",
     "output_type": "stream",
     "text": [
      "14\n"
     ]
    }
   ],
   "source": [
    "multiply_1(2, 7)"
   ]
  },
  {
   "cell_type": "code",
   "execution_count": 8,
   "id": "afcd644d",
   "metadata": {},
   "outputs": [
    {
     "data": {
      "text/plain": [
       "14"
      ]
     },
     "execution_count": 8,
     "metadata": {},
     "output_type": "execute_result"
    }
   ],
   "source": [
    "multiply_2(2, 7)"
   ]
  },
  {
   "cell_type": "code",
   "execution_count": 81,
   "id": "42c4c639",
   "metadata": {},
   "outputs": [
    {
     "name": "stdout",
     "output_type": "stream",
     "text": [
      "amazing amazing amazing \n"
     ]
    }
   ],
   "source": [
    "multiply_1(\"amazing \", 3)"
   ]
  },
  {
   "cell_type": "code",
   "execution_count": 12,
   "id": "78124fbc",
   "metadata": {},
   "outputs": [
    {
     "name": "stdout",
     "output_type": "stream",
     "text": [
      "14\n",
      "<class 'NoneType'>\n",
      "<class 'int'>\n"
     ]
    }
   ],
   "source": [
    "print(type(multiply_1(2, 7)))\n",
    "print(type(multiply_2(2, 7)))"
   ]
  },
  {
   "cell_type": "code",
   "execution_count": 13,
   "id": "7579269e",
   "metadata": {},
   "outputs": [
    {
     "name": "stdout",
     "output_type": "stream",
     "text": [
      "It can't be assigned to any variable\n",
      "None\n"
     ]
    }
   ],
   "source": [
    "shadow_var = print(\"It can't be assigned to any variable\")\n",
    "print(shadow_var)  # NoneType value can't be used"
   ]
  },
  {
   "cell_type": "code",
   "execution_count": 15,
   "id": "8b59cdae",
   "metadata": {},
   "outputs": [],
   "source": [
    "def area_of_rectangle(a, b):\n",
    "    area = a * b\n",
    "    return area"
   ]
  },
  {
   "cell_type": "code",
   "execution_count": 17,
   "id": "ac8fcd92",
   "metadata": {},
   "outputs": [
    {
     "data": {
      "text/plain": [
       "18"
      ]
     },
     "execution_count": 17,
     "metadata": {},
     "output_type": "execute_result"
    }
   ],
   "source": [
    "area_of_rectangle(2, 9)"
   ]
  },
  {
   "cell_type": "code",
   "execution_count": 18,
   "id": "655147ca",
   "metadata": {},
   "outputs": [
    {
     "name": "stdout",
     "output_type": "stream",
     "text": [
      "Richard\n"
     ]
    }
   ],
   "source": [
    "def longer(a, b):\n",
    "    if len(a) >= len(b):\n",
    "        return a\n",
    "    else:\n",
    "        return b\n",
    "\n",
    "print(longer('Richard', 'John'))"
   ]
  },
  {
   "cell_type": "code",
   "execution_count": 26,
   "id": "eb91fda5",
   "metadata": {},
   "outputs": [],
   "source": [
    "def calculator(x, y, symbol):\n",
    "    if symbol == \"+\":\n",
    "        print(x + y)\n",
    "    elif symbol == \"-\":\n",
    "        print(x - y)\n",
    "    elif symbol == \"*\":\n",
    "        print(x * y)\n",
    "    elif symbol == \"/\":\n",
    "        print(x / y)\n",
    "    else:\n",
    "        print(\"Make sure you entered the right arguments\")"
   ]
  },
  {
   "cell_type": "code",
   "execution_count": 27,
   "id": "51f4c536",
   "metadata": {},
   "outputs": [
    {
     "name": "stdout",
     "output_type": "stream",
     "text": [
      "70\n",
      "80\n"
     ]
    }
   ],
   "source": [
    "calculator(100, 30, \"-\")\n",
    "calculator(100, 20, \"-\")"
   ]
  },
  {
   "cell_type": "code",
   "execution_count": 109,
   "id": "aecf19fe",
   "metadata": {},
   "outputs": [],
   "source": [
    "def calculator(x, y, symbol):\n",
    "    while True:\n",
    "        if symbol == \"+\":\n",
    "            print(x + y)\n",
    "            break\n",
    "        elif symbol == \"-\":\n",
    "            print(x - y)\n",
    "            break\n",
    "        elif symbol == \"*\":\n",
    "            print(x * y)\n",
    "            break\n",
    "        elif symbol == \"/\":\n",
    "            print(x / y)\n",
    "            break\n",
    "        else:\n",
    "            print(\"Make sure you entered the right arguments\")\n",
    "        continue                        # SONSUZ DONGUYE GIRIYOR. DUZELTMEYE CALIS"
   ]
  },
  {
   "cell_type": "code",
   "execution_count": null,
   "id": "4ea4d8c4",
   "metadata": {},
   "outputs": [],
   "source": [
    "calculator(2,3,\":\")"
   ]
  },
  {
   "cell_type": "code",
   "execution_count": 122,
   "id": "cd03766b",
   "metadata": {},
   "outputs": [
    {
     "data": {
      "text/plain": [
       "29"
      ]
     },
     "execution_count": 122,
     "metadata": {},
     "output_type": "execute_result"
    }
   ],
   "source": [
    "def add(sayi1, sayi2):\n",
    "    return(sayi1 + sayi2) \n",
    "\n",
    "add(21, 8)  # burdan gelen deger baska yerlede kullanilabilir (print gibi degil)"
   ]
  },
  {
   "cell_type": "code",
   "execution_count": 119,
   "id": "5d483b80",
   "metadata": {},
   "outputs": [
    {
     "data": {
      "text/plain": [
       "58"
      ]
     },
     "execution_count": 119,
     "metadata": {},
     "output_type": "execute_result"
    }
   ],
   "source": [
    "add(21, 8) * 2"
   ]
  },
  {
   "cell_type": "code",
   "execution_count": 121,
   "id": "632592e0",
   "metadata": {},
   "outputs": [
    {
     "name": "stdout",
     "output_type": "stream",
     "text": [
      "[29, 30, 31, 32, 33]\n"
     ]
    }
   ],
   "source": [
    "listem = []\n",
    "\n",
    "for i in range(5):\n",
    "    listem.append(i + add(21, 8))\n",
    "\n",
    "print(listem)"
   ]
  },
  {
   "cell_type": "code",
   "execution_count": 4,
   "id": "b91bdde5",
   "metadata": {},
   "outputs": [],
   "source": [
    "def add2(s1, s2):\n",
    "    print(s1 + s2)"
   ]
  },
  {
   "cell_type": "code",
   "execution_count": 7,
   "id": "4cd57d03",
   "metadata": {},
   "outputs": [
    {
     "name": "stdout",
     "output_type": "stream",
     "text": [
      "29\n"
     ]
    },
    {
     "ename": "TypeError",
     "evalue": "unsupported operand type(s) for +: 'int' and 'NoneType'",
     "output_type": "error",
     "traceback": [
      "\u001b[0;31m---------------------------------------------------------------------------\u001b[0m",
      "\u001b[0;31mTypeError\u001b[0m                                 Traceback (most recent call last)",
      "Cell \u001b[0;32mIn [7], line 3\u001b[0m\n\u001b[1;32m      1\u001b[0m listem2 \u001b[38;5;241m=\u001b[39m []\n\u001b[1;32m      2\u001b[0m \u001b[38;5;28;01mfor\u001b[39;00m i \u001b[38;5;129;01min\u001b[39;00m \u001b[38;5;28mrange\u001b[39m(\u001b[38;5;241m5\u001b[39m):\n\u001b[0;32m----> 3\u001b[0m     listem2\u001b[38;5;241m.\u001b[39mappend(\u001b[43mi\u001b[49m\u001b[43m \u001b[49m\u001b[38;5;241;43m+\u001b[39;49m\u001b[43m \u001b[49m\u001b[43madd2\u001b[49m\u001b[43m(\u001b[49m\u001b[38;5;241;43m21\u001b[39;49m\u001b[43m,\u001b[49m\u001b[43m \u001b[49m\u001b[38;5;241;43m8\u001b[39;49m\u001b[43m)\u001b[49m)  \u001b[38;5;66;03m# i (int) ve add2(NoneType) toplanamaz.\u001b[39;00m\n\u001b[1;32m      5\u001b[0m \u001b[38;5;28mprint\u001b[39m(listem2)\n",
      "\u001b[0;31mTypeError\u001b[0m: unsupported operand type(s) for +: 'int' and 'NoneType'"
     ]
    }
   ],
   "source": [
    "listem2 = []\n",
    "for i in range(5):\n",
    "    listem2.append(i + add2(21, 8))  # i (int) ve add2(NoneType) toplanamaz.\n",
    "    \n",
    "print(listem2)"
   ]
  },
  {
   "cell_type": "code",
   "execution_count": 2,
   "id": "0def24e2",
   "metadata": {},
   "outputs": [],
   "source": [
    "def string() :\n",
    "    return \"alideliveli\""
   ]
  },
  {
   "cell_type": "code",
   "execution_count": 4,
   "id": "3f8c86c1",
   "metadata": {},
   "outputs": [
    {
     "data": {
      "text/plain": [
       "'alideliveli'"
      ]
     },
     "execution_count": 4,
     "metadata": {},
     "output_type": "execute_result"
    }
   ],
   "source": [
    "string()"
   ]
  },
  {
   "cell_type": "code",
   "execution_count": null,
   "id": "8784f673",
   "metadata": {},
   "outputs": [],
   "source": [
    "\"alideliveli\""
   ]
  },
  {
   "cell_type": "code",
   "execution_count": null,
   "id": "8232c79e",
   "metadata": {},
   "outputs": [],
   "source": []
  },
  {
   "cell_type": "code",
   "execution_count": null,
   "id": "181f7624",
   "metadata": {},
   "outputs": [],
   "source": []
  },
  {
   "cell_type": "code",
   "execution_count": null,
   "id": "6810b079",
   "metadata": {},
   "outputs": [],
   "source": []
  },
  {
   "cell_type": "code",
   "execution_count": null,
   "id": "2b1b12bb",
   "metadata": {},
   "outputs": [],
   "source": []
  },
  {
   "cell_type": "markdown",
   "id": "b9d6bf74",
   "metadata": {},
   "source": [
    "<a id=\"toc\"></a>\n",
    "\n",
    "### <p style=\"background-color:#9d4f8c; font-family:newtimeroman; color:#FFF9ED; font-size:175%; text-align:center; border-radius:10px 10px;\">Duration comparison between for loop and list comprehension</p>"
   ]
  },
  {
   "cell_type": "code",
   "execution_count": 134,
   "id": "af319c5c",
   "metadata": {},
   "outputs": [],
   "source": [
    "from timeit import timeit"
   ]
  },
  {
   "cell_type": "code",
   "execution_count": 136,
   "id": "d3ceacad",
   "metadata": {},
   "outputs": [
    {
     "name": "stdout",
     "output_type": "stream",
     "text": [
      "list comprehension is 1.53 times faster than for loop\n"
     ]
    }
   ],
   "source": [
    "def for_loop():\n",
    "    result = []\n",
    "    for i in range(1000000):\n",
    "        result.append(i)\n",
    "    return result\n",
    "\n",
    "def list_comprehension():\n",
    "    return[i for i in range(1000000)]\n",
    "\n",
    "expSize = 100\n",
    "\n",
    "time1 = timeit(for_loop, number = expSize)\n",
    "time2 = timeit(list_comprehension, number =expSize)\n",
    "\n",
    "print(f\"list comprehension is {round(time1/time2, 2)} times faster than for loop\")"
   ]
  },
  {
   "cell_type": "code",
   "execution_count": null,
   "id": "0567cebe",
   "metadata": {},
   "outputs": [],
   "source": []
  },
  {
   "cell_type": "code",
   "execution_count": 5,
   "id": "c0773ae7",
   "metadata": {},
   "outputs": [],
   "source": [
    "def integer():\n",
    "    return 22"
   ]
  },
  {
   "cell_type": "code",
   "execution_count": 6,
   "id": "dd8aec65",
   "metadata": {},
   "outputs": [
    {
     "name": "stdout",
     "output_type": "stream",
     "text": [
      "0 1 2 3 4 5 6 7 8 9 10 11 12 13 14 15 16 17 18 19 20 21 "
     ]
    }
   ],
   "source": [
    "for i in range(integer()):\n",
    "    print (i, end=' ')"
   ]
  },
  {
   "cell_type": "code",
   "execution_count": 8,
   "id": "5508c668",
   "metadata": {},
   "outputs": [
    {
     "name": "stdout",
     "output_type": "stream",
     "text": [
      "44\n"
     ]
    }
   ],
   "source": [
    "variable = 44\n",
    "\n",
    "print(variable)"
   ]
  },
  {
   "cell_type": "code",
   "execution_count": 9,
   "id": "9e9831e1",
   "metadata": {},
   "outputs": [],
   "source": [
    "del variable"
   ]
  },
  {
   "cell_type": "code",
   "execution_count": 10,
   "id": "88c52dab",
   "metadata": {},
   "outputs": [
    {
     "ename": "NameError",
     "evalue": "name 'variable' is not defined",
     "output_type": "error",
     "traceback": [
      "\u001b[0;31m---------------------------------------------------------------------------\u001b[0m",
      "\u001b[0;31mNameError\u001b[0m                                 Traceback (most recent call last)",
      "Cell \u001b[0;32mIn [10], line 1\u001b[0m\n\u001b[0;32m----> 1\u001b[0m \u001b[38;5;28mprint\u001b[39m(\u001b[43mvariable\u001b[49m)\n",
      "\u001b[0;31mNameError\u001b[0m: name 'variable' is not defined"
     ]
    }
   ],
   "source": [
    "print(variable)  # del kullanilarak silindigi icin artik bu variable yok"
   ]
  },
  {
   "cell_type": "code",
   "execution_count": 11,
   "id": "bec6fc91",
   "metadata": {},
   "outputs": [],
   "source": [
    "del integer"
   ]
  },
  {
   "cell_type": "code",
   "execution_count": 13,
   "id": "182260bb",
   "metadata": {},
   "outputs": [
    {
     "ename": "NameError",
     "evalue": "name 'integer' is not defined",
     "output_type": "error",
     "traceback": [
      "\u001b[0;31m---------------------------------------------------------------------------\u001b[0m",
      "\u001b[0;31mNameError\u001b[0m                                 Traceback (most recent call last)",
      "Cell \u001b[0;32mIn [13], line 1\u001b[0m\n\u001b[0;32m----> 1\u001b[0m \u001b[43minteger\u001b[49m()\n",
      "\u001b[0;31mNameError\u001b[0m: name 'integer' is not defined"
     ]
    }
   ],
   "source": [
    "integer()  # del kullanilarak bir fonksiyon da silinebilir"
   ]
  },
  {
   "cell_type": "code",
   "execution_count": 15,
   "id": "fd9cc0c2",
   "metadata": {},
   "outputs": [],
   "source": [
    "def listem():\n",
    "    return [1, 2, 3, 4]"
   ]
  },
  {
   "cell_type": "code",
   "execution_count": 16,
   "id": "816b8deb",
   "metadata": {},
   "outputs": [
    {
     "name": "stdout",
     "output_type": "stream",
     "text": [
      "1\n",
      "2\n",
      "3\n",
      "4\n"
     ]
    }
   ],
   "source": [
    "for i in listem():\n",
    "    print(i)"
   ]
  },
  {
   "cell_type": "code",
   "execution_count": 17,
   "id": "62f15477",
   "metadata": {},
   "outputs": [
    {
     "data": {
      "text/plain": [
       "4"
      ]
     },
     "execution_count": 17,
     "metadata": {},
     "output_type": "execute_result"
    }
   ],
   "source": [
    "listem().pop()"
   ]
  },
  {
   "cell_type": "code",
   "execution_count": 18,
   "id": "9d8d13c3",
   "metadata": {},
   "outputs": [
    {
     "data": {
      "text/plain": [
       "[1, 2, 3, 4]"
      ]
     },
     "execution_count": 18,
     "metadata": {},
     "output_type": "execute_result"
    }
   ],
   "source": [
    "listem()"
   ]
  },
  {
   "cell_type": "code",
   "execution_count": 28,
   "id": "7027ebc0",
   "metadata": {},
   "outputs": [],
   "source": [
    "def calculator(x, y, symbol):\n",
    "    if symbol == \"+\":\n",
    "        return (x + y)\n",
    "        \n",
    "    elif symbol == \"-\":\n",
    "        return (x - y)\n",
    "        \n",
    "    elif symbol == \"*\":\n",
    "        return (x * y)\n",
    "        \n",
    "    elif symbol == \"/\":\n",
    "        return (x / y)\n",
    "        \n",
    "    else:\n",
    "        return (\"Make sure you entered valid arguments\")"
   ]
  },
  {
   "cell_type": "code",
   "execution_count": 29,
   "id": "4fa12f45",
   "metadata": {},
   "outputs": [
    {
     "name": "stdout",
     "output_type": "stream",
     "text": [
      "8\n"
     ]
    }
   ],
   "source": [
    "sonuc = calculator(3, 5, '+')\n",
    "\n",
    "print(sonuc)"
   ]
  },
  {
   "cell_type": "code",
   "execution_count": 43,
   "id": "a006a664",
   "metadata": {},
   "outputs": [],
   "source": [
    "def absolute_value(x):\n",
    "    \"\"\"This function returns the absolute value of the given number\"\"\"\n",
    "    if x >= 0:\n",
    "        return x\n",
    "    else:\n",
    "        return -x"
   ]
  },
  {
   "cell_type": "code",
   "execution_count": 40,
   "id": "dc3f6756",
   "metadata": {},
   "outputs": [
    {
     "data": {
      "text/plain": [
       "2"
      ]
     },
     "execution_count": 40,
     "metadata": {},
     "output_type": "execute_result"
    }
   ],
   "source": [
    "absolute_value(-2)"
   ]
  },
  {
   "cell_type": "code",
   "execution_count": 44,
   "id": "3761b20a",
   "metadata": {},
   "outputs": [
    {
     "name": "stdout",
     "output_type": "stream",
     "text": [
      "This function returns the absolute value of the given number\n"
     ]
    }
   ],
   "source": [
    "print(absolute_value.__doc__)"
   ]
  },
  {
   "cell_type": "code",
   "execution_count": 45,
   "id": "51ef97a2",
   "metadata": {},
   "outputs": [
    {
     "data": {
      "text/plain": [
       "3.4"
      ]
     },
     "execution_count": 45,
     "metadata": {},
     "output_type": "execute_result"
    }
   ],
   "source": [
    "abs(-3.4)"
   ]
  },
  {
   "cell_type": "code",
   "execution_count": 46,
   "id": "21c5b718",
   "metadata": {},
   "outputs": [
    {
     "name": "stdout",
     "output_type": "stream",
     "text": [
      "Return the absolute value of the argument.\n"
     ]
    }
   ],
   "source": [
    "print(abs.__doc__)"
   ]
  },
  {
   "cell_type": "markdown",
   "id": "5f64213c",
   "metadata": {},
   "source": [
    "<a id=\"toc\"></a>\n",
    "\n",
    "### <p style=\"background-color:#9d4f8c; font-family:newtimeroman; color:#FFF9ED; font-size:175%; text-align:center; border-radius:10px 10px;\">The Matter of Arguments</p>"
   ]
  },
  {
   "cell_type": "markdown",
   "id": "0282baa5",
   "metadata": {},
   "source": [
    "### Positional Arguments"
   ]
  },
  {
   "cell_type": "code",
   "execution_count": 48,
   "id": "7fef4099",
   "metadata": {},
   "outputs": [
    {
     "name": "stdout",
     "output_type": "stream",
     "text": [
      "I love you\n"
     ]
    }
   ],
   "source": [
    "a = \"I\"\n",
    "b = \"love\"\n",
    "c = \"you\"\n",
    "\n",
    "def texter(c, a, b) :\n",
    "    print(a, end=\" \")\n",
    "    print(b, end=\" \")\n",
    "    print(c)\n",
    "    \n",
    "texter(c,a,b)"
   ]
  },
  {
   "cell_type": "code",
   "execution_count": 59,
   "id": "66953576",
   "metadata": {},
   "outputs": [
    {
     "name": "stdout",
     "output_type": "stream",
     "text": [
      "I love you\n"
     ]
    }
   ],
   "source": [
    "a = \"I\"\n",
    "b = \"love\"\n",
    "c = \"you\"\n",
    "\n",
    "def texter(text1, text2, text3) :\n",
    "    print(text2, text3, text1)\n",
    "    \n",
    "texter(c, a, b)"
   ]
  },
  {
   "cell_type": "markdown",
   "id": "32f6b8b4",
   "metadata": {},
   "source": [
    "### Keyword Arguments (Kwargs)"
   ]
  },
  {
   "cell_type": "code",
   "execution_count": 61,
   "id": "7f5f6e57",
   "metadata": {},
   "outputs": [
    {
     "name": "stdout",
     "output_type": "stream",
     "text": [
      "I love you\n",
      "I love you\n",
      "I love you\n"
     ]
    }
   ],
   "source": [
    "texter(text2 = \"I\", text1 = \"you\", text3 = \"love\")\n",
    "texter(text1 = \"you\", text2 = \"I\", text3 = \"love\")\n",
    "texter(text3 = \"love\", text2 = \"I\", text1 = \"you\")"
   ]
  },
  {
   "cell_type": "code",
   "execution_count": 62,
   "id": "335eaf38",
   "metadata": {},
   "outputs": [],
   "source": [
    "def birfonksiyon(x = \"ali\", y = 22) :\n",
    "    print(x, y, \"yasindadir\")"
   ]
  },
  {
   "cell_type": "code",
   "execution_count": 63,
   "id": "4fde6785",
   "metadata": {},
   "outputs": [
    {
     "name": "stdout",
     "output_type": "stream",
     "text": [
      "ali 22 yasindadir\n"
     ]
    }
   ],
   "source": [
    "birfonksiyon()"
   ]
  },
  {
   "cell_type": "code",
   "execution_count": 65,
   "id": "12c52701",
   "metadata": {},
   "outputs": [
    {
     "name": "stdout",
     "output_type": "stream",
     "text": [
      "veli 33 yasindadir\n"
     ]
    }
   ],
   "source": [
    "birfonksiyon(y = 33, x = \"veli\")"
   ]
  },
  {
   "cell_type": "code",
   "execution_count": 66,
   "id": "f3b3f4a7",
   "metadata": {},
   "outputs": [
    {
     "name": "stdout",
     "output_type": "stream",
     "text": [
      "veli 40 yasindadir\n"
     ]
    }
   ],
   "source": [
    "birfonksiyon(\"veli\", 40)  # argumanlar positional olarak da yollanabiliyor"
   ]
  },
  {
   "cell_type": "code",
   "execution_count": 67,
   "id": "416ac0b9",
   "metadata": {},
   "outputs": [
    {
     "name": "stdout",
     "output_type": "stream",
     "text": [
      "40 veli yasindadir\n"
     ]
    }
   ],
   "source": [
    "birfonksiyon(40, \"veli\")  # argumanlar positional olarak da yollanabiliyor"
   ]
  },
  {
   "cell_type": "code",
   "execution_count": 68,
   "id": "f5af2a99",
   "metadata": {},
   "outputs": [
    {
     "name": "stdout",
     "output_type": "stream",
     "text": [
      "gamze 22 yasindadir\n"
     ]
    }
   ],
   "source": [
    "birfonksiyon(\"gamze\")  # ilk parametre gamze olarak algilanir, ikincisinde ise tanimdaki deger alinir"
   ]
  },
  {
   "cell_type": "code",
   "execution_count": 69,
   "id": "f46777cb",
   "metadata": {},
   "outputs": [
    {
     "ename": "SyntaxError",
     "evalue": "non-default argument follows default argument (345968994.py, line 1)",
     "output_type": "error",
     "traceback": [
      "\u001b[0;36m  Cell \u001b[0;32mIn [69], line 1\u001b[0;36m\u001b[0m\n\u001b[0;31m    def argu(a, b=\"dunya\", c, d=\"saturn\") :\u001b[0m\n\u001b[0m                           ^\u001b[0m\n\u001b[0;31mSyntaxError\u001b[0m\u001b[0;31m:\u001b[0m non-default argument follows default argument\n"
     ]
    }
   ],
   "source": [
    "def argu(a, b=\"dunya\", c, d=\"saturn\") :\n",
    "    print(a, b, c, d sep='\\n')  # tanimlarken de once positional sonra kwargs gelmeli."
   ]
  },
  {
   "cell_type": "code",
   "execution_count": 71,
   "id": "42ed03e8",
   "metadata": {},
   "outputs": [],
   "source": [
    "def argu(a, c, d=\"saturn\", b=\"dunya\") :\n",
    "    print(a, b, c, d, sep='\\n')"
   ]
  },
  {
   "cell_type": "code",
   "execution_count": 72,
   "id": "69c2dc27",
   "metadata": {},
   "outputs": [
    {
     "ename": "TypeError",
     "evalue": "argu() missing 2 required positional arguments: 'a' and 'c'",
     "output_type": "error",
     "traceback": [
      "\u001b[0;31m---------------------------------------------------------------------------\u001b[0m",
      "\u001b[0;31mTypeError\u001b[0m                                 Traceback (most recent call last)",
      "Cell \u001b[0;32mIn [72], line 1\u001b[0m\n\u001b[0;32m----> 1\u001b[0m \u001b[43margu\u001b[49m\u001b[43m(\u001b[49m\u001b[43m)\u001b[49m\n",
      "\u001b[0;31mTypeError\u001b[0m: argu() missing 2 required positional arguments: 'a' and 'c'"
     ]
    }
   ],
   "source": [
    "argu()  # positional argumanlar deger almak zorunda"
   ]
  },
  {
   "cell_type": "code",
   "execution_count": 73,
   "id": "4de6bd9f",
   "metadata": {},
   "outputs": [
    {
     "name": "stdout",
     "output_type": "stream",
     "text": [
      "uranus\n",
      "dunya\n",
      "jupiter\n",
      "saturn\n"
     ]
    }
   ],
   "source": [
    "argu('uranus', 'jupiter')"
   ]
  },
  {
   "cell_type": "code",
   "execution_count": 74,
   "id": "b292ad6b",
   "metadata": {},
   "outputs": [
    {
     "name": "stdout",
     "output_type": "stream",
     "text": [
      "uranus\n",
      "saturn\n",
      "dunya\n",
      "jupiter\n"
     ]
    }
   ],
   "source": [
    "argu('uranus', 'dunya', 'jupiter', 'saturn')"
   ]
  },
  {
   "cell_type": "code",
   "execution_count": 77,
   "id": "d49171db",
   "metadata": {},
   "outputs": [
    {
     "ename": "TypeError",
     "evalue": "argu() got multiple values for argument 'c'",
     "output_type": "error",
     "traceback": [
      "\u001b[0;31m---------------------------------------------------------------------------\u001b[0m",
      "\u001b[0;31mTypeError\u001b[0m                                 Traceback (most recent call last)",
      "Cell \u001b[0;32mIn [77], line 1\u001b[0m\n\u001b[0;32m----> 1\u001b[0m \u001b[43margu\u001b[49m\u001b[43m(\u001b[49m\u001b[38;5;124;43m'\u001b[39;49m\u001b[38;5;124;43mpluto\u001b[39;49m\u001b[38;5;124;43m'\u001b[39;49m\u001b[43m,\u001b[49m\u001b[43m \u001b[49m\u001b[38;5;124;43m'\u001b[39;49m\u001b[38;5;124;43mmars\u001b[39;49m\u001b[38;5;124;43m'\u001b[39;49m\u001b[43m,\u001b[49m\u001b[43m \u001b[49m\u001b[43mc\u001b[49m\u001b[43m \u001b[49m\u001b[38;5;241;43m=\u001b[39;49m\u001b[43m \u001b[49m\u001b[38;5;124;43m'\u001b[39;49m\u001b[38;5;124;43mvenus\u001b[39;49m\u001b[38;5;124;43m'\u001b[39;49m\u001b[43m)\u001b[49m\n",
      "\u001b[0;31mTypeError\u001b[0m: argu() got multiple values for argument 'c'"
     ]
    }
   ],
   "source": [
    "argu('pluto', 'mars', c = 'venus')  # c'ye iki deger atamis olduk"
   ]
  },
  {
   "cell_type": "code",
   "execution_count": 3,
   "id": "88a3df51",
   "metadata": {},
   "outputs": [],
   "source": [
    "def function(a):\n",
    "    pass  # actually, 'pass' does nothing. it just moves to the next line of code\n",
    "\n",
    "function(0)"
   ]
  },
  {
   "cell_type": "code",
   "execution_count": null,
   "id": "2d4d8b4c",
   "metadata": {},
   "outputs": [],
   "source": []
  },
  {
   "cell_type": "code",
   "execution_count": null,
   "id": "7dd48983",
   "metadata": {},
   "outputs": [],
   "source": []
  },
  {
   "cell_type": "code",
   "execution_count": null,
   "id": "678d0247",
   "metadata": {},
   "outputs": [],
   "source": []
  },
  {
   "cell_type": "markdown",
   "id": "6e4378af",
   "metadata": {},
   "source": [
    "<a id=\"toc\"></a>\n",
    "\n",
    "### <p style=\"background-color:#9d4f8c; font-family:newtimeroman; color:#FFF9ED; font-size:175%; text-align:center; border-radius:10px 10px;\">Arbitrary Number of Arguments</p>"
   ]
  },
  {
   "cell_type": "code",
   "execution_count": 18,
   "id": "87b3c1de",
   "metadata": {},
   "outputs": [
    {
     "data": {
      "text/plain": [
       "True"
      ]
     },
     "execution_count": 18,
     "metadata": {},
     "output_type": "execute_result"
    }
   ],
   "source": [
    "def foo(name, /, **kwds):\n",
    "    return 'name' in kwds\n",
    "\n",
    "foo(0, **{'name': 2})\n"
   ]
  },
  {
   "cell_type": "code",
   "execution_count": null,
   "id": "e6421c99",
   "metadata": {},
   "outputs": [],
   "source": []
  },
  {
   "cell_type": "code",
   "execution_count": null,
   "id": "0aa4bde0",
   "metadata": {},
   "outputs": [],
   "source": []
  },
  {
   "cell_type": "code",
   "execution_count": 2,
   "id": "445fa023",
   "metadata": {},
   "outputs": [
    {
     "name": "stdout",
     "output_type": "stream",
     "text": [
      "evens : [2, 4, 6, 8]\n",
      "odds : [1, 3, 5, 7, 9]\n"
     ]
    }
   ],
   "source": [
    "def slicer(*num) :\n",
    "    print(\"evens :\", [i for i in num if i % 2 == 0])\n",
    "    \n",
    "    print(\"odds :\", [i for i in num if i % 2 == 1])\n",
    "\n",
    "slicer(1, 2, 3, 4, 5, 6, 7, 8, 9)"
   ]
  },
  {
   "cell_type": "code",
   "execution_count": 3,
   "id": "7c37ab60",
   "metadata": {},
   "outputs": [
    {
     "name": "stdout",
     "output_type": "stream",
     "text": [
      "evens : [2, 4, 6, 8]\n",
      "odds : [1, 3, 5, 7, 9]\n",
      "None\n"
     ]
    }
   ],
   "source": [
    "def slicer(*num) :\n",
    "    print(\"evens :\", [i for i in num if not i % 2])  # using the fact that (i % 2 == 0) and (not i % 2) do the same thing.\n",
    "    \n",
    "    print(\"odds :\", [i for i in num if i % 2])\n",
    "\n",
    "print(slicer(1, 2, 3, 4, 5, 6, 7, 8, 9))"
   ]
  },
  {
   "cell_type": "code",
   "execution_count": null,
   "id": "804a50fe",
   "metadata": {},
   "outputs": [],
   "source": []
  },
  {
   "cell_type": "code",
   "execution_count": null,
   "id": "14fa59aa",
   "metadata": {},
   "outputs": [],
   "source": []
  },
  {
   "cell_type": "code",
   "execution_count": 14,
   "id": "a7fdf12d",
   "metadata": {},
   "outputs": [
    {
     "name": "stdout",
     "output_type": "stream",
     "text": [
      "Lion are Carnivores\n",
      "Bears are Omnivores\n",
      "Monkeys are Herbivores\n"
     ]
    }
   ],
   "source": [
    "def animals(**kwargs):\n",
    "    for key, value in kwargs.items():\n",
    "        print(value, \"are\", key)\n",
    "        \n",
    "animals(Carnivores=\"Lion\", Omnivores=\"Bears\", Herbivores=\"Monkeys\")\n",
    "    "
   ]
  },
  {
   "cell_type": "code",
   "execution_count": 9,
   "id": "6ec916c6",
   "metadata": {},
   "outputs": [
    {
     "name": "stdout",
     "output_type": "stream",
     "text": [
      "Lion are Carnivores\n",
      "Bears are Omnivores\n",
      "Monkeys are Herbivores\n"
     ]
    }
   ],
   "source": [
    "def animals(**kwargs):\n",
    "    for x, y in kwargs.items():\n",
    "        print(y, \"are\", x)\n",
    "        \n",
    "animals(Carnivores=\"Lion\", Omnivores=\"Bears\", Herbivores=\"Monkeys\")"
   ]
  },
  {
   "cell_type": "code",
   "execution_count": 13,
   "id": "ba56898e",
   "metadata": {},
   "outputs": [
    {
     "name": "stdout",
     "output_type": "stream",
     "text": [
      "Names : ['Beth', 'Oscar', 'Justin', 'Frank']\n",
      "Ages : [26, 42, 12, 33]\n"
     ]
    }
   ],
   "source": [
    "def organizer(**kwargs):\n",
    "    names = []\n",
    "    ages = []\n",
    "    for keys, values in kwargs.items():\n",
    "        names.append(keys)\n",
    "        ages.append(values)\n",
    "        \n",
    "    print(\"Names :\", names)\n",
    "    print(\"Ages :\", ages)\n",
    "\n",
    "\n",
    "organizer(Beth=26, Oscar=42, Justin=12, Frank=33)"
   ]
  },
  {
   "cell_type": "code",
   "execution_count": 14,
   "id": "4ab45e61",
   "metadata": {},
   "outputs": [
    {
     "name": "stdout",
     "output_type": "stream",
     "text": [
      "['Beth', 'Oscar', 'Justin', 'Frank']\n",
      "[26, 42, 12, 33]\n"
     ]
    }
   ],
   "source": [
    "def organizer(**people):\n",
    "    names = []\n",
    "    ages = []\n",
    "    for i, j in people.items():\n",
    "        names.append(i)\n",
    "        ages.append(j)\n",
    "        \n",
    "    print(names, ages, sep = '\\n')\n",
    "        \n",
    "organizer(Beth=26, Oscar=42, Justin=12, Frank=33)\n"
   ]
  },
  {
   "cell_type": "code",
   "execution_count": 23,
   "id": "728eaab5",
   "metadata": {},
   "outputs": [
    {
     "name": "stdout",
     "output_type": "stream",
     "text": [
      "['Beth', 'Oscar', 'Justin', 'Frank']\n",
      "[26, 42, 12, 33]\n"
     ]
    }
   ],
   "source": [
    "def organizer(** data):\n",
    "    names = [i for i in data.keys()]\n",
    "    ages = [i for i in data.values()]\n",
    "        \n",
    "    print(names)\n",
    "    print(ages)\n",
    "\n",
    "organizer(Beth=26, Oscar=42, Justin=12, Frank=33)"
   ]
  },
  {
   "cell_type": "code",
   "execution_count": null,
   "id": "7f786764",
   "metadata": {},
   "outputs": [],
   "source": []
  },
  {
   "cell_type": "code",
   "execution_count": null,
   "id": "c2cdf1c4",
   "metadata": {},
   "outputs": [],
   "source": [
    "filter()"
   ]
  },
  {
   "cell_type": "code",
   "execution_count": 27,
   "id": "086b3fbd",
   "metadata": {},
   "outputs": [],
   "source": [
    "cumle = \"Ben size ders anlatirken huzur buluyorum. Dertlerimi unutuyorum\""
   ]
  },
  {
   "cell_type": "code",
   "execution_count": 33,
   "id": "0dd1b4af",
   "metadata": {},
   "outputs": [],
   "source": [
    "\n",
    "def vowel(letter):\n",
    "    vowels = 'a e u i o'.split()\n",
    "    if letter.lower() in vowels:\n",
    "        return True\n",
    "    else:\n",
    "        return False"
   ]
  },
  {
   "cell_type": "code",
   "execution_count": 28,
   "id": "2ef664b8",
   "metadata": {},
   "outputs": [
    {
     "data": {
      "text/plain": [
       "<filter at 0x10546f640>"
      ]
     },
     "execution_count": 28,
     "metadata": {},
     "output_type": "execute_result"
    }
   ],
   "source": [
    "filter(vowel, cumle)  # vowel: funtion --  cumle: iterable"
   ]
  },
  {
   "cell_type": "code",
   "execution_count": 41,
   "id": "a2142f0a",
   "metadata": {},
   "outputs": [],
   "source": [
    "filtered_vowels = filter(vowel, cumle)"
   ]
  },
  {
   "cell_type": "code",
   "execution_count": 39,
   "id": "f4d389b6",
   "metadata": {},
   "outputs": [
    {
     "data": {
      "text/plain": [
       "['e',\n",
       " 'i',\n",
       " 'e',\n",
       " 'e',\n",
       " 'a',\n",
       " 'a',\n",
       " 'i',\n",
       " 'e',\n",
       " 'u',\n",
       " 'u',\n",
       " 'u',\n",
       " 'u',\n",
       " 'o',\n",
       " 'u',\n",
       " 'e',\n",
       " 'e',\n",
       " 'i',\n",
       " 'i',\n",
       " 'u',\n",
       " 'u',\n",
       " 'u',\n",
       " 'o',\n",
       " 'u']"
      ]
     },
     "execution_count": 39,
     "metadata": {},
     "output_type": "execute_result"
    }
   ],
   "source": [
    "list(filtered_vowels)"
   ]
  },
  {
   "cell_type": "code",
   "execution_count": 44,
   "id": "8e061494",
   "metadata": {},
   "outputs": [
    {
     "name": "stdout",
     "output_type": "stream",
     "text": [
      "e i e e a a i e u u u u o u e e i i u u u o u\n"
     ]
    }
   ],
   "source": [
    "filtered_vowels = filter(vowel, cumle)\n",
    "\n",
    "print(* filtered_vowels)"
   ]
  },
  {
   "cell_type": "code",
   "execution_count": 45,
   "id": "a893064b",
   "metadata": {},
   "outputs": [
    {
     "name": "stdout",
     "output_type": "stream",
     "text": [
      "B e n   s i z e   d e r s   a n l a t i r k e n   h u z u r   b u l u y o r u m .   D e r t l e r i m i   u n u t u y o r u m\n"
     ]
    }
   ],
   "source": [
    "print(*(filter(None, cumle)))"
   ]
  },
  {
   "cell_type": "code",
   "execution_count": null,
   "id": "b71f491f",
   "metadata": {},
   "outputs": [],
   "source": []
  },
  {
   "cell_type": "code",
   "execution_count": 19,
   "id": "ada42664",
   "metadata": {},
   "outputs": [],
   "source": [
    "listem = [1, 2, 3, 4]"
   ]
  },
  {
   "cell_type": "code",
   "execution_count": 21,
   "id": "6752df31",
   "metadata": {},
   "outputs": [],
   "source": [
    "def kare(x):\n",
    "    return x**2"
   ]
  },
  {
   "cell_type": "code",
   "execution_count": 22,
   "id": "e5f9662e",
   "metadata": {},
   "outputs": [
    {
     "name": "stdout",
     "output_type": "stream",
     "text": [
      "[1, 4, 9, 16]\n"
     ]
    }
   ],
   "source": [
    "listem = [1, 2, 3, 4]\n",
    "yeni_liste = []\n",
    "\n",
    "for i in listem :\n",
    "    yeni_liste.append(kare(i))\n",
    "    \n",
    "print(yeni_liste)"
   ]
  },
  {
   "cell_type": "code",
   "execution_count": 52,
   "id": "e94236eb",
   "metadata": {},
   "outputs": [
    {
     "data": {
      "text/plain": [
       "<map at 0x10548bc40>"
      ]
     },
     "execution_count": 52,
     "metadata": {},
     "output_type": "execute_result"
    }
   ],
   "source": [
    "map(kare, listem)"
   ]
  },
  {
   "cell_type": "code",
   "execution_count": 25,
   "id": "3cfa974d",
   "metadata": {},
   "outputs": [
    {
     "name": "stdout",
     "output_type": "stream",
     "text": [
      "1 4 9 16\n"
     ]
    }
   ],
   "source": [
    "print(*map(kare, listem))"
   ]
  },
  {
   "cell_type": "code",
   "execution_count": 26,
   "id": "7bf9055e",
   "metadata": {},
   "outputs": [
    {
     "data": {
      "text/plain": [
       "[1, 4, 9, 16]"
      ]
     },
     "execution_count": 26,
     "metadata": {},
     "output_type": "execute_result"
    }
   ],
   "source": [
    "list(map(kare, listem))"
   ]
  },
  {
   "cell_type": "code",
   "execution_count": null,
   "id": "187c87af",
   "metadata": {},
   "outputs": [],
   "source": []
  },
  {
   "attachments": {
    "image.png": {
     "image/png": "[encoded data removed]"
    }
   },
   "cell_type": "markdown",
   "id": "b2acb65d",
   "metadata": {},
   "source": [
    "![image.png](attachment:image.png)"
   ]
  },
  {
   "cell_type": "markdown",
   "id": "937c7c82",
   "metadata": {},
   "source": [
    "<img src=\"https://docs.google.com/uc?id=14xeXxFrVRjvOoUYWn_GuyE-v84wVzrqr\" class=\"img-fluid\" alt=\"CLRWY\" width=\"400\" height=\"200\">"
   ]
  }
 ],
 "metadata": {
  "kernelspec": {
   "display_name": "Python 3 (ipykernel)",
   "language": "python",
   "name": "python3"
  },
  "language_info": {
   "codemirror_mode": {
    "name": "ipython",
    "version": 3
   },
   "file_extension": ".py",
   "mimetype": "text/x-python",
   "name": "python",
   "nbconvert_exporter": "python",
   "pygments_lexer": "ipython3",
   "version": "3.9.13"
  }
 },
 "nbformat": 4,
 "nbformat_minor": 5
}
