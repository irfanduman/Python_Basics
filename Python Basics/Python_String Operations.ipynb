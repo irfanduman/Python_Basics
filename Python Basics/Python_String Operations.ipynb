{
 "cells": [
  {
   "cell_type": "markdown",
   "id": "854bd51d",
   "metadata": {},
   "source": [
    "# Main String Operations - pre class"
   ]
  },
  {
   "cell_type": "code",
   "execution_count": 1,
   "id": "66edc628",
   "metadata": {},
   "outputs": [
    {
     "name": "stdout",
     "output_type": "stream",
     "text": [
      "True\n",
      "False\n"
     ]
    }
   ],
   "source": [
    "text = 'www.clarusway.com'\n",
    "print(text.endswith('.com'))\n",
    "print(text.startswith('http:'))\n"
   ]
  },
  {
   "cell_type": "code",
   "execution_count": 23,
   "id": "9c26d3e5",
   "metadata": {},
   "outputs": [
    {
     "name": "stdout",
     "output_type": "stream",
     "text": [
      "MAIN STRING OPERATIONS LESSON\n",
      "main string operations lesson\n",
      "mAIn sTRINg oPERAtIONS LESSON\n",
      "Main string operations lesson\n",
      "Main String Operations Lesson\n",
      "First StrinG OperaTions lesson\n"
     ]
    }
   ],
   "source": [
    "word = \"MaiN StrinG OperaTions lesson\"\n",
    "print(word.upper())\n",
    "print(word.lower())\n",
    "print(word.swapcase())\n",
    "print(word.capitalize())\n",
    "print(word.title())\n",
    "print(word.replace(\"MaiN\", \"First\"))"
   ]
  },
  {
   "cell_type": "code",
   "execution_count": 31,
   "id": "2efe2aca",
   "metadata": {},
   "outputs": [
    {
     "name": "stdout",
     "output_type": "stream",
     "text": [
      "Actions speak louder than words\n"
     ]
    }
   ],
   "source": [
    "print(\"Actions speak louder than words\".upper().swapcase().capitalize())"
   ]
  },
  {
   "cell_type": "code",
   "execution_count": 32,
   "id": "2411c791",
   "metadata": {},
   "outputs": [
    {
     "name": "stdout",
     "output_type": "stream",
     "text": [
      "ali    veli\n"
     ]
    }
   ],
   "source": [
    "c = \"  ali    veli   \"\n",
    "print(c.strip())"
   ]
  },
  {
   "cell_type": "code",
   "execution_count": 34,
   "id": "8fbf5094",
   "metadata": {},
   "outputs": [
    {
     "name": "stdout",
     "output_type": "stream",
     "text": [
      "ali, deli, veli\n"
     ]
    }
   ],
   "source": [
    "deneme = \"ali,deli,veli\"\n",
    "print(deneme.replace(\",\", \", \"))"
   ]
  },
  {
   "cell_type": "code",
   "execution_count": 35,
   "id": "d54430a4",
   "metadata": {},
   "outputs": [
    {
     "name": "stdout",
     "output_type": "stream",
     "text": [
      "ali,deli,veli\n"
     ]
    }
   ],
   "source": [
    "deneme = \"ali,deli,veli\"\n",
    "print(deneme.strip(\",\"))"
   ]
  },
  {
   "cell_type": "code",
   "execution_count": 44,
   "id": "d61d6e42",
   "metadata": {},
   "outputs": [
    {
     "name": "stdout",
     "output_type": "stream",
     "text": [
      "roperab\n"
     ]
    }
   ],
   "source": [
    "source_string = \"yiyiinteroperability\"\n",
    "print(source_string.strip(\"yintel\"))"
   ]
  },
  {
   "cell_type": "code",
   "execution_count": 50,
   "id": "2bab261a",
   "metadata": {},
   "outputs": [
    {
     "name": "stdout",
     "output_type": "stream",
     "text": [
      "Your Name?irfan\n",
      "Your surname?duman\n",
      "Hello, Irfan DUMAN!\n"
     ]
    }
   ],
   "source": [
    "name = input(\"Your Name?\")\n",
    "surname = input(\"Your surname?\")\n",
    "print(\"Hello, \" + name.capitalize() + \" \" + surname.upper()+\"!\")\n"
   ]
  },
  {
   "cell_type": "markdown",
   "id": "3860044d",
   "metadata": {},
   "source": [
    "# Main String Operations - in class"
   ]
  },
  {
   "cell_type": "code",
   "execution_count": 1,
   "id": "8691281e",
   "metadata": {},
   "outputs": [
    {
     "data": {
      "text/plain": [
       "'924.7'"
      ]
     },
     "execution_count": 1,
     "metadata": {},
     "output_type": "execute_result"
    }
   ],
   "source": [
    "format(924.656, \".1f\")"
   ]
  },
  {
   "cell_type": "code",
   "execution_count": 2,
   "id": "f9a05b28",
   "metadata": {},
   "outputs": [
    {
     "data": {
      "text/plain": [
       "str"
      ]
     },
     "execution_count": 2,
     "metadata": {},
     "output_type": "execute_result"
    }
   ],
   "source": [
    "type(format(924.656, \".1f\"))"
   ]
  },
  {
   "cell_type": "code",
   "execution_count": 18,
   "id": "a32b9a21",
   "metadata": {},
   "outputs": [
    {
     "data": {
      "text/plain": [
       "'  924'"
      ]
     },
     "execution_count": 18,
     "metadata": {},
     "output_type": "execute_result"
    }
   ],
   "source": [
    "format(924, \"5d\")"
   ]
  },
  {
   "cell_type": "code",
   "execution_count": 20,
   "id": "b6f6dc69",
   "metadata": {},
   "outputs": [
    {
     "data": {
      "text/plain": [
       "'      test'"
      ]
     },
     "execution_count": 20,
     "metadata": {},
     "output_type": "execute_result"
    }
   ],
   "source": [
    "text = \"{:>10}\".format(\"test\")  # 10 karakterlik yer acar. \"text\"i SAGA dayali yazar.\n",
    "text"
   ]
  },
  {
   "cell_type": "code",
   "execution_count": 6,
   "id": "a5d3e3ab",
   "metadata": {},
   "outputs": [
    {
     "data": {
      "text/plain": [
       "'test      '"
      ]
     },
     "execution_count": 6,
     "metadata": {},
     "output_type": "execute_result"
    }
   ],
   "source": [
    "text = \"{:<10}\".format(\"test\")  # 10 karakterlik yer acar. \"text\"i SOLA dayali yazar.\n",
    "text"
   ]
  },
  {
   "cell_type": "code",
   "execution_count": 12,
   "id": "5a4da19d",
   "metadata": {},
   "outputs": [
    {
     "data": {
      "text/plain": [
       "'   test   '"
      ]
     },
     "execution_count": 12,
     "metadata": {},
     "output_type": "execute_result"
    }
   ],
   "source": [
    "text = \"{:^10}\".format(\"test\")  # 10 karakterlik yer acar. \"text\"i ORTAYA yazar.\n",
    "text"
   ]
  },
  {
   "cell_type": "code",
   "execution_count": 21,
   "id": "0b614bef",
   "metadata": {},
   "outputs": [
    {
     "data": {
      "text/plain": [
       "'            12345.68'"
      ]
     },
     "execution_count": 21,
     "metadata": {},
     "output_type": "execute_result"
    }
   ],
   "source": [
    "number = \"{:>20.2f}\".format(12345.6789)\n",
    "number"
   ]
  },
  {
   "cell_type": "code",
   "execution_count": 22,
   "id": "fe200919",
   "metadata": {},
   "outputs": [
    {
     "data": {
      "text/plain": [
       "\"formatlama satiri '        perseverance' <-- burada ilk kelime bitti. burada da ikinci kelime basliyor --> 'success        '\""
      ]
     },
     "execution_count": 22,
     "metadata": {},
     "output_type": "execute_result"
    }
   ],
   "source": [
    "text = \"formatlama satiri '{:>20}' <-- burada ilk kelime bitti. \\\n",
    "burada da ikinci kelime basliyor --> '{:<15}'\".format(\"perseverance\", \"success\")\n",
    "text"
   ]
  },
  {
   "cell_type": "code",
   "execution_count": null,
   "id": "fb224a1c",
   "metadata": {},
   "outputs": [],
   "source": []
  },
  {
   "cell_type": "code",
   "execution_count": null,
   "id": "815ba21d",
   "metadata": {},
   "outputs": [],
   "source": []
  },
  {
   "cell_type": "code",
   "execution_count": null,
   "id": "96fc71d7",
   "metadata": {},
   "outputs": [],
   "source": []
  },
  {
   "cell_type": "code",
   "execution_count": null,
   "id": "a1bee69b",
   "metadata": {},
   "outputs": [],
   "source": []
  },
  {
   "cell_type": "code",
   "execution_count": null,
   "id": "66422622",
   "metadata": {},
   "outputs": [],
   "source": []
  },
  {
   "cell_type": "code",
   "execution_count": null,
   "id": "808dfbe9",
   "metadata": {},
   "outputs": [],
   "source": []
  },
  {
   "cell_type": "code",
   "execution_count": null,
   "id": "0f57e670",
   "metadata": {},
   "outputs": [],
   "source": []
  },
  {
   "cell_type": "code",
   "execution_count": null,
   "id": "a88095bd",
   "metadata": {},
   "outputs": [],
   "source": []
  }
 ],
 "metadata": {
  "kernelspec": {
   "display_name": "Python 3 (ipykernel)",
   "language": "python",
   "name": "python3"
  },
  "language_info": {
   "codemirror_mode": {
    "name": "ipython",
    "version": 3
   },
   "file_extension": ".py",
   "mimetype": "text/x-python",
   "name": "python",
   "nbconvert_exporter": "python",
   "pygments_lexer": "ipython3",
   "version": "3.10.8"
  }
 },
 "nbformat": 4,
 "nbformat_minor": 5
}
