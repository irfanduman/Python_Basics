{
 "cells": [
  {
   "cell_type": "markdown",
   "id": "5655edc6",
   "metadata": {},
   "source": [
    "# Defining Lambda Function"
   ]
  },
  {
   "cell_type": "code",
   "execution_count": 1,
   "id": "e260c48f",
   "metadata": {},
   "outputs": [
    {
     "data": {
      "text/plain": [
       "[1, 4, 9, 16]"
      ]
     },
     "execution_count": 1,
     "metadata": {},
     "output_type": "execute_result"
    }
   ],
   "source": [
    "listem = [1, 2, 3, 4]\n",
    "\n",
    "def kare(x):\n",
    "    return x**2\n",
    "\n",
    "map(kare, listem)\n",
    "\n",
    "list(map(kare, listem))"
   ]
  },
  {
   "cell_type": "markdown",
   "id": "067e712b",
   "metadata": {},
   "source": [
    "```python\n",
    "def kare(x):\n",
    "    return x**2\n",
    "\n",
    "yukardakinin yerine asagidakini kullanabiliriz:\n",
    "    \n",
    "lambda x: x**2   # HEMEN KULLAN\n",
    "```"
   ]
  },
  {
   "cell_type": "code",
   "execution_count": 2,
   "id": "1924746b",
   "metadata": {},
   "outputs": [
    {
     "data": {
      "text/plain": [
       "<function __main__.<lambda>(x, y)>"
      ]
     },
     "execution_count": 2,
     "metadata": {},
     "output_type": "execute_result"
    }
   ],
   "source": [
    "lambda x, y: (x + y) / 2"
   ]
  },
  {
   "cell_type": "code",
   "execution_count": 7,
   "id": "acd58388",
   "metadata": {},
   "outputs": [
    {
     "data": {
      "text/plain": [
       "<function __main__.<lambda>(x)>"
      ]
     },
     "execution_count": 7,
     "metadata": {},
     "output_type": "execute_result"
    }
   ],
   "source": [
    "lambda x: \"odd\" if x%2 != 0 else \"even\""
   ]
  },
  {
   "cell_type": "code",
   "execution_count": null,
   "id": "90b04cd3",
   "metadata": {},
   "outputs": [],
   "source": []
  },
  {
   "cell_type": "markdown",
   "id": "5b59ff3a",
   "metadata": {},
   "source": [
    "# Use of Lambda Functions"
   ]
  },
  {
   "cell_type": "code",
   "execution_count": 4,
   "id": "b0b3832f",
   "metadata": {},
   "outputs": [
    {
     "name": "stdout",
     "output_type": "stream",
     "text": [
      "4\n"
     ]
    }
   ],
   "source": [
    "print((lambda x: x**2)(2))"
   ]
  },
  {
   "cell_type": "code",
   "execution_count": 6,
   "id": "0a828492",
   "metadata": {},
   "outputs": [
    {
     "name": "stdout",
     "output_type": "stream",
     "text": [
      "13.0\n"
     ]
    }
   ],
   "source": [
    "average = (lambda x, y: (x + y) / 2)(10, 16)\n",
    "print(average)"
   ]
  },
  {
   "cell_type": "code",
   "execution_count": 19,
   "id": "35893b61",
   "metadata": {},
   "outputs": [
    {
     "data": {
      "text/plain": [
       "'even'"
      ]
     },
     "execution_count": 19,
     "metadata": {},
     "output_type": "execute_result"
    }
   ],
   "source": [
    "(lambda x: \"odd\" if x%2 != 0 else \"even\")(4)"
   ]
  },
  {
   "cell_type": "code",
   "execution_count": 20,
   "id": "70d1c7d9",
   "metadata": {},
   "outputs": [],
   "source": [
    "deneme = lambda x: \"odd\" if x%2 != 0 else \"even\""
   ]
  },
  {
   "cell_type": "code",
   "execution_count": 21,
   "id": "ae43470d",
   "metadata": {},
   "outputs": [
    {
     "data": {
      "text/plain": [
       "'odd'"
      ]
     },
     "execution_count": 21,
     "metadata": {},
     "output_type": "execute_result"
    }
   ],
   "source": [
    "deneme(17)"
   ]
  },
  {
   "cell_type": "code",
   "execution_count": 25,
   "id": "77c5254a",
   "metadata": {},
   "outputs": [
    {
     "data": {
      "text/plain": [
       "<reversed at 0x1074e37f0>"
      ]
     },
     "execution_count": 25,
     "metadata": {},
     "output_type": "execute_result"
    }
   ],
   "source": [
    "# TASK: Define a Lambda function to reverse the elements of any iterables\n",
    "\n",
    "(lambda x: reversed(x))(\"ali\")"
   ]
  },
  {
   "cell_type": "code",
   "execution_count": 31,
   "id": "575dbf26",
   "metadata": {},
   "outputs": [
    {
     "name": "stdout",
     "output_type": "stream",
     "text": [
      "ila\n",
      "321\n"
     ]
    }
   ],
   "source": [
    "print(*(lambda x: reversed(x))(\"ali\"), sep=\"\")\n",
    "\n",
    "print(*(lambda x: reversed(x))([1, 2, 3]), sep=\"\")"
   ]
  },
  {
   "cell_type": "code",
   "execution_count": 34,
   "id": "fb28cc84",
   "metadata": {},
   "outputs": [
    {
     "data": {
      "text/plain": [
       "[3, 2, 1]"
      ]
     },
     "execution_count": 34,
     "metadata": {},
     "output_type": "execute_result"
    }
   ],
   "source": [
    "(lambda x: x [::-1])(\"ali\")\n",
    "\n",
    "(lambda x: x [::-1])([1, 2, 3])"
   ]
  },
  {
   "cell_type": "code",
   "execution_count": 42,
   "id": "dd76f4cc",
   "metadata": {},
   "outputs": [
    {
     "name": "stdout",
     "output_type": "stream",
     "text": [
      "1 : odd\n",
      "2 : even\n",
      "3 : odd\n",
      "4 : even\n",
      "5 : odd\n",
      "6 : even\n"
     ]
    }
   ],
   "source": [
    "# TASK: US\n",
    "\n",
    "sayilar = [1, 2, 3, 4, 5, 6]\n",
    "\n",
    "for i in sayilar:\n",
    "    print(i, \":\", (lambda x: \"odd\" if x%2 != 0 else \"even\")(i))"
   ]
  },
  {
   "cell_type": "code",
   "execution_count": 43,
   "id": "059732b3",
   "metadata": {},
   "outputs": [
    {
     "data": {
      "text/plain": [
       "<function __main__.<lambda>(x)>"
      ]
     },
     "execution_count": 43,
     "metadata": {},
     "output_type": "execute_result"
    }
   ],
   "source": [
    "iterable = \"clarusway\"\n",
    "\n",
    "reverser = lambda x: x[::-1]\n",
    "\n",
    "reverser"
   ]
  },
  {
   "cell_type": "code",
   "execution_count": 44,
   "id": "4129df7a",
   "metadata": {},
   "outputs": [
    {
     "data": {
      "text/plain": [
       "'yawsuralc'"
      ]
     },
     "execution_count": 44,
     "metadata": {},
     "output_type": "execute_result"
    }
   ],
   "source": [
    "reverser(iterable)"
   ]
  },
  {
   "cell_type": "markdown",
   "id": "74d87b0a",
   "metadata": {},
   "source": [
    "# Lambda within Built-in (map()) Functions-1"
   ]
  },
  {
   "cell_type": "markdown",
   "id": "f9f6e84c",
   "metadata": {},
   "source": [
    "## map() function"
   ]
  },
  {
   "cell_type": "code",
   "execution_count": 8,
   "id": "51450993",
   "metadata": {},
   "outputs": [
    {
     "data": {
      "text/plain": [
       "<map at 0x7f85d8716a90>"
      ]
     },
     "execution_count": 8,
     "metadata": {},
     "output_type": "execute_result"
    }
   ],
   "source": [
    "kelimeler = [\"alideliveli\", \"ahmet\", \"sel\"]\n",
    "\n",
    "uzunluk = map(len, kelimeler)\n",
    "\n",
    "uzunluk"
   ]
  },
  {
   "cell_type": "code",
   "execution_count": 9,
   "id": "26736766",
   "metadata": {},
   "outputs": [
    {
     "name": "stdout",
     "output_type": "stream",
     "text": [
      "11 5 3\n"
     ]
    }
   ],
   "source": [
    "print(*uzunluk)"
   ]
  },
  {
   "cell_type": "code",
   "execution_count": 11,
   "id": "bb6c5bdb",
   "metadata": {},
   "outputs": [
    {
     "data": {
      "text/plain": [
       "[11, 5, 3]"
      ]
     },
     "execution_count": 11,
     "metadata": {},
     "output_type": "execute_result"
    }
   ],
   "source": [
    "kelimeler = [\"alideliveli\", \"ahmet\", \"sel\"]\n",
    "\n",
    "uzunluk = map(len, kelimeler)\n",
    "\n",
    "list(uzunluk)"
   ]
  },
  {
   "cell_type": "code",
   "execution_count": 18,
   "id": "38d370bb",
   "metadata": {},
   "outputs": [
    {
     "name": "stdout",
     "output_type": "stream",
     "text": [
      "<class 'map'>\n",
      "[1, 4, 9, 16, 25]\n",
      "[1, 4, 9, 16, 25]\n"
     ]
    }
   ],
   "source": [
    "iterable = [1, 2, 3, 4, 5]\n",
    "\n",
    "sonuc = map(lambda x : x**2, iterable)\n",
    "\n",
    "print(type(sonuc))\n",
    "print(list(sonuc))\n",
    "print(list(map(lambda x : x**2, iterable)))"
   ]
  },
  {
   "cell_type": "code",
   "execution_count": 22,
   "id": "46b17a32",
   "metadata": {},
   "outputs": [],
   "source": [
    "def kare(x):\n",
    "    return x**2"
   ]
  },
  {
   "cell_type": "code",
   "execution_count": 24,
   "id": "97d9c9b2",
   "metadata": {},
   "outputs": [
    {
     "data": {
      "text/plain": [
       "[1, 4, 9, 16, 25]"
      ]
     },
     "execution_count": 24,
     "metadata": {},
     "output_type": "execute_result"
    }
   ],
   "source": [
    "iterable = [1, 2, 3, 4, 5]\n",
    "\n",
    "list(map(kare, iterable))"
   ]
  },
  {
   "cell_type": "code",
   "execution_count": 26,
   "id": "c3cdd8df",
   "metadata": {},
   "outputs": [
    {
     "data": {
      "text/plain": [
       "'ali'"
      ]
     },
     "execution_count": 26,
     "metadata": {},
     "output_type": "execute_result"
    }
   ],
   "source": [
    "topla = lambda x, y, z : x + y + z\n",
    "\n",
    "topla(\"a\", \"l\", \"i\")"
   ]
  },
  {
   "cell_type": "code",
   "execution_count": 38,
   "id": "53c2284e",
   "metadata": {},
   "outputs": [
    {
     "name": "stdout",
     "output_type": "stream",
     "text": [
      "['one', 'six', 'ten', 'two']\n"
     ]
    }
   ],
   "source": [
    "letter1 = ['o', 's', 't', 't']\n",
    "letter2 = ['n', 'i', 'e', 'w']\n",
    "letter3 = ['e', 'x', 'n', 'o']\n",
    "\n",
    "numbers = map(lambda x, y, z : x + y + z, letter1, letter2, letter3)\n",
    "\n",
    "print(list(numbers))"
   ]
  },
  {
   "cell_type": "code",
   "execution_count": 34,
   "id": "78977db1",
   "metadata": {},
   "outputs": [
    {
     "name": "stdout",
     "output_type": "stream",
     "text": [
      "[6.0, 6.0, 6.0, 6.0]\n"
     ]
    }
   ],
   "source": [
    "nums1 = [9, 6, 7, 4]\n",
    "nums2 = [3, 6, 5, 8]\n",
    "\n",
    "func = lambda x, y : (x+y)/2\n",
    "\n",
    "numbers = map(func, nums1, nums2)\n",
    "\n",
    "print(list(numbers))"
   ]
  },
  {
   "cell_type": "code",
   "execution_count": 43,
   "id": "89b8169b",
   "metadata": {},
   "outputs": [
    {
     "name": "stdout",
     "output_type": "stream",
     "text": [
      "i love you\n",
      "you ate much\n",
      "he works hard\n"
     ]
    }
   ],
   "source": [
    "words1 = ['you', 'much', 'hard']\n",
    "words2 = ['i', 'you', 'he']\n",
    "words3 = ['love', 'ate', 'works']\n",
    "\n",
    "concat = lambda x, y, z : x + \" \" + y + \" \" + z\n",
    "\n",
    "sentences = map(lambda x, y, z : x + \" \" + y + \" \" + z, words2, words3, words1)\n",
    "\n",
    "for i in sentences :\n",
    "    print(i)"
   ]
  },
  {
   "cell_type": "markdown",
   "id": "f283c106",
   "metadata": {},
   "source": [
    "## filter() function"
   ]
  },
  {
   "cell_type": "code",
   "execution_count": 48,
   "id": "fa77529a",
   "metadata": {},
   "outputs": [
    {
     "name": "stdout",
     "output_type": "stream",
     "text": [
      "<class 'filter'>\n",
      "Even numbers are : <filter object at 0x7f85d8729910>\n",
      "Even numbers are : [0, 2, 4, 6, 8]\n"
     ]
    }
   ],
   "source": [
    "first_ten = [0, 1, 2, 3, 4, 5, 6, 7, 8, 9]\n",
    "\n",
    "even = filter(lambda x : x%2==0, first_ten)\n",
    "\n",
    "print(type(even))  \n",
    "\n",
    "print(\"Even numbers are :\", even)  # We need to conver 'even' to a list before printing\n",
    "\n",
    "print(\"Even numbers are :\", list(even))"
   ]
  },
  {
   "cell_type": "code",
   "execution_count": 51,
   "id": "dd347720",
   "metadata": {},
   "outputs": [
    {
     "name": "stdout",
     "output_type": "stream",
     "text": [
      "[1, 3, 5, 7, 9]\n",
      "[1, 3, 5, 7, 9]\n",
      "[1, 3, 5, 7, 9]\n",
      "[1, 3, 5, 7, 9]\n"
     ]
    }
   ],
   "source": [
    "odd1 = filter(lambda x : x%2 != 0, first_ten)\n",
    "odd2 = filter(lambda x : x%2 == 1, first_ten)\n",
    "odd3 = filter(lambda x : not x%2 == 0, first_ten)\n",
    "odd4 = filter(lambda x : x%2, first_ten)\n",
    "\n",
    "print(list(odd1))\n",
    "print(list(odd2))\n",
    "print(list(odd3))\n",
    "print(list(odd4))"
   ]
  },
  {
   "cell_type": "code",
   "execution_count": 54,
   "id": "8b214b05",
   "metadata": {},
   "outputs": [
    {
     "name": "stdout",
     "output_type": "stream",
     "text": [
      "swim\n",
      "me\n",
      "kiwi\n"
     ]
    }
   ],
   "source": [
    "words = [\"apple\", \"swim\", \"clock\", \"me\", \"kiwi\", \"banana\"]\n",
    "\n",
    "\n",
    "filtered_words = filter(lambda x : len(x) < 5, words)\n",
    "\n",
    "for i in filtered_words :\n",
    "    print(i)"
   ]
  },
  {
   "cell_type": "code",
   "execution_count": 55,
   "id": "e700dd60",
   "metadata": {},
   "outputs": [
    {
     "name": "stdout",
     "output_type": "stream",
     "text": [
      "swim\n",
      "me\n",
      "kiwi\n"
     ]
    }
   ],
   "source": [
    "words = [\"apple\", \"swim\", \"clock\", \"me\", \"kiwi\", \"banana\"]\n",
    "\n",
    "\n",
    "for i in filter(lambda x : len(x) < 5, words) :\n",
    "    print(i)"
   ]
  },
  {
   "cell_type": "code",
   "execution_count": 57,
   "id": "69979415",
   "metadata": {},
   "outputs": [],
   "source": [
    "letter1 = \"a b c\".split()\n",
    "letter2 = \"x, y, z\".split()"
   ]
  },
  {
   "cell_type": "code",
   "execution_count": 58,
   "id": "49dbf8fd",
   "metadata": {},
   "outputs": [
    {
     "data": {
      "text/plain": [
       "['a', 'b', 'c']"
      ]
     },
     "execution_count": 58,
     "metadata": {},
     "output_type": "execute_result"
    }
   ],
   "source": [
    "letter1"
   ]
  },
  {
   "cell_type": "code",
   "execution_count": 59,
   "id": "ba88c841",
   "metadata": {},
   "outputs": [
    {
     "data": {
      "text/plain": [
       "['x,', 'y,', 'z']"
      ]
     },
     "execution_count": 59,
     "metadata": {},
     "output_type": "execute_result"
    }
   ],
   "source": [
    "letter2"
   ]
  },
  {
   "cell_type": "code",
   "execution_count": 63,
   "id": "4d2bcbb8",
   "metadata": {},
   "outputs": [
    {
     "data": {
      "text/plain": [
       "[('a', 'x,'), ('b', 'y,'), ('c', 'z')]"
      ]
     },
     "execution_count": 63,
     "metadata": {},
     "output_type": "execute_result"
    }
   ],
   "source": [
    "list(map(lambda x, y : (x, y), letter1, letter2))"
   ]
  },
  {
   "cell_type": "code",
   "execution_count": 65,
   "id": "127edc2f",
   "metadata": {},
   "outputs": [
    {
     "data": {
      "text/plain": [
       "[('a', 'x,'), ('b', 'y,'), ('c', 'z')]"
      ]
     },
     "execution_count": 65,
     "metadata": {},
     "output_type": "execute_result"
    }
   ],
   "source": [
    "list(zip(letter1, letter2))"
   ]
  },
  {
   "cell_type": "code",
   "execution_count": 67,
   "id": "2a0bf3c7",
   "metadata": {},
   "outputs": [],
   "source": [
    "birlestir = map(zip, letter1, letter2)"
   ]
  },
  {
   "cell_type": "code",
   "execution_count": 68,
   "id": "10410718",
   "metadata": {},
   "outputs": [
    {
     "data": {
      "text/plain": [
       "[<zip at 0x7f86105e62c0>, <zip at 0x7f86105f3340>, <zip at 0x7f86105f3840>]"
      ]
     },
     "execution_count": 68,
     "metadata": {},
     "output_type": "execute_result"
    }
   ],
   "source": [
    "list(birlestir)  # buradakai elemanlar da her biri zip eleman olduklarindan gorunur degiller."
   ]
  },
  {
   "cell_type": "code",
   "execution_count": 69,
   "id": "ae8fda84",
   "metadata": {},
   "outputs": [
    {
     "name": "stdout",
     "output_type": "stream",
     "text": [
      "('a', 'x')\n",
      "('b', 'y')\n",
      "('c', 'z')\n"
     ]
    }
   ],
   "source": [
    "birlestir = map(zip, letter1, letter2)  # for loop kullanilarak gorunur yapilabilir\n",
    "\n",
    "for i in birlestir :\n",
    "    for j in i :\n",
    "        print(j)"
   ]
  },
  {
   "cell_type": "code",
   "execution_count": 71,
   "id": "793078ce",
   "metadata": {},
   "outputs": [
    {
     "data": {
      "text/plain": [
       "[('b', 'y')]"
      ]
     },
     "execution_count": 71,
     "metadata": {},
     "output_type": "execute_result"
    }
   ],
   "source": [
    "list(zip(letter1[1], letter2[1]))"
   ]
  },
  {
   "cell_type": "code",
   "execution_count": 74,
   "id": "fd7d578d",
   "metadata": {},
   "outputs": [
    {
     "data": {
      "text/plain": [
       "['a', 'e', 'i']"
      ]
     },
     "execution_count": 74,
     "metadata": {},
     "output_type": "execute_result"
    }
   ],
   "source": [
    "# TASK: Write a function to print the vowels in a given list of letters\n",
    "\n",
    "first_ten = ['a', 'b', 'c', 'd', 'e', 'f', 'g', 'h', 'i', 'j']\n",
    "vowel_list = ['a', 'e', 'i', 'o', 'u']\n",
    "\n",
    "fonks = lambda x : True if x in vowel_list else False\n",
    "\n",
    "vowels = filter(fonks, first_ten)\n",
    "\n",
    "list(vowels)"
   ]
  },
  {
   "cell_type": "code",
   "execution_count": 76,
   "id": "2cc80388",
   "metadata": {},
   "outputs": [
    {
     "data": {
      "text/plain": [
       "['a', 'e', 'i']"
      ]
     },
     "execution_count": 76,
     "metadata": {},
     "output_type": "execute_result"
    }
   ],
   "source": [
    "first_ten = ['a', 'b', 'c', 'd', 'e', 'f', 'g', 'h', 'i', 'j']\n",
    "vowel_list = ['a', 'e', 'i', 'o', 'u']\n",
    "\n",
    "list(filter(lambda x : True if x in vowel_list else False, first_ten))"
   ]
  },
  {
   "cell_type": "code",
   "execution_count": 78,
   "id": "234bcbbe",
   "metadata": {},
   "outputs": [
    {
     "data": {
      "text/plain": [
       "['a', 'e', 'i']"
      ]
     },
     "execution_count": 78,
     "metadata": {},
     "output_type": "execute_result"
    }
   ],
   "source": [
    "first_ten = ['a', 'b', 'c', 'd', 'e', 'f', 'g', 'h', 'i', 'j']\n",
    "vowel_list = ['a', 'e', 'i', 'o', 'u']\n",
    "\n",
    "list(filter(lambda x : x in vowel_list, first_ten))  # Bu sekilde daha da kisaltilabilir (if yazmadan)"
   ]
  },
  {
   "cell_type": "markdown",
   "id": "169abac7",
   "metadata": {},
   "source": [
    "# Lambda within User Defined Functions"
   ]
  },
  {
   "cell_type": "code",
   "execution_count": 79,
   "id": "ffc00aa5",
   "metadata": {},
   "outputs": [
    {
     "name": "stdout",
     "output_type": "stream",
     "text": [
      "4\n",
      "8\n",
      "16\n"
     ]
    }
   ],
   "source": [
    "def modular_function(n):\n",
    "    return lambda x : x ** n\n",
    "\n",
    "exponent_2 = modular_function(2)\n",
    "exponent_3 = modular_function(3)\n",
    "exponent_4 = modular_function(4)\n",
    "\n",
    "print(exponent_2(2))\n",
    "print(exponent_3(2))\n",
    "print(exponent_4(2))"
   ]
  },
  {
   "cell_type": "code",
   "execution_count": 83,
   "id": "b1b2572d",
   "metadata": {},
   "outputs": [
    {
     "name": "stdout",
     "output_type": "stream",
     "text": [
      "alex alex \n",
      "lara lara lara \n",
      "linda linda linda linda \n"
     ]
    }
   ],
   "source": [
    " #TASK: Define a function named  repeater using lambda to print the string n times\n",
    "    \n",
    "def repeater(n) :\n",
    "    return lambda x : x * n\n",
    "\n",
    "repeat_2_times = repeater(2)\n",
    "repeat_3_times = repeater(3)\n",
    "repeat_4_times = repeater(4)\n",
    "\n",
    "print(repeat_2_times(\"alex \"))\n",
    "print(repeat_3_times(\"lara \"))\n",
    "print(repeat_4_times(\"linda \"))"
   ]
  },
  {
   "cell_type": "code",
   "execution_count": 95,
   "id": "f48396f9",
   "metadata": {},
   "outputs": [
    {
     "name": "stdout",
     "output_type": "stream",
     "text": [
      "hello :)\n",
      "hello :(\n",
      "hello :|\n"
     ]
    }
   ],
   "source": [
    "#TASK: Define a function named  functioner using lambda to create your own print function with emoji faces\n",
    "\n",
    "def functioner(emoji = \"\") :\n",
    "    return lambda x : print(x, emoji) \n",
    "\n",
    "\n",
    "myPrint_smile = functioner(\":)\")\n",
    "myPrint_sad = functioner(\":(\")\n",
    "myPrint_neutral = functioner(\":|\")\n",
    "\n",
    "myPrint_smile(\"hello\")\n",
    "myPrint_sad(\"hello\")\n",
    "myPrint_neutral(\"hello\")"
   ]
  },
  {
   "cell_type": "code",
   "execution_count": 97,
   "id": "90febc10",
   "metadata": {},
   "outputs": [
    {
     "name": "stdout",
     "output_type": "stream",
     "text": [
      "111 :)\n"
     ]
    }
   ],
   "source": [
    "(lambda x : print(x, \":)\"))(111)"
   ]
  },
  {
   "cell_type": "code",
   "execution_count": null,
   "id": "8fa46215",
   "metadata": {},
   "outputs": [],
   "source": [
    "irfan_print()\n",
    "irfan_max()\n",
    "irfan_bool()"
   ]
  },
  {
   "cell_type": "code",
   "execution_count": 102,
   "id": "403bb4b1",
   "metadata": {},
   "outputs": [],
   "source": [
    "def function_generator(fonk) :\n",
    "    return lambda x : fonk(x)\n",
    "\n",
    "\n",
    "irfan_print = function_generator(print)\n",
    "irfan_max = function_generator(max)\n",
    "irfan_bool = function_generator(bool)"
   ]
  },
  {
   "cell_type": "code",
   "execution_count": 103,
   "id": "84c8dc9b",
   "metadata": {},
   "outputs": [
    {
     "data": {
      "text/plain": [
       "8"
      ]
     },
     "execution_count": 103,
     "metadata": {},
     "output_type": "execute_result"
    }
   ],
   "source": [
    "irfan_max([3, 5, 8, 2])"
   ]
  },
  {
   "cell_type": "code",
   "execution_count": 104,
   "id": "d8ba8a50",
   "metadata": {},
   "outputs": [
    {
     "name": "stdout",
     "output_type": "stream",
     "text": [
      "hello world!\n"
     ]
    }
   ],
   "source": [
    "irfan_print(\"hello world!\")"
   ]
  },
  {
   "cell_type": "code",
   "execution_count": 105,
   "id": "319d82fd",
   "metadata": {},
   "outputs": [
    {
     "data": {
      "text/plain": [
       "True"
      ]
     },
     "execution_count": 105,
     "metadata": {},
     "output_type": "execute_result"
    }
   ],
   "source": [
    "irfan_bool(2 < 5)"
   ]
  },
  {
   "cell_type": "code",
   "execution_count": 106,
   "id": "5a4288ec",
   "metadata": {},
   "outputs": [],
   "source": [
    "def x() :\n",
    "    return 1, 2, 3, 4"
   ]
  },
  {
   "cell_type": "code",
   "execution_count": 107,
   "id": "4f33bde1",
   "metadata": {},
   "outputs": [
    {
     "data": {
      "text/plain": [
       "(1, 2, 3, 4)"
      ]
     },
     "execution_count": 107,
     "metadata": {},
     "output_type": "execute_result"
    }
   ],
   "source": [
    "x()"
   ]
  },
  {
   "cell_type": "code",
   "execution_count": 108,
   "id": "5e1e93d7",
   "metadata": {},
   "outputs": [
    {
     "data": {
      "text/plain": [
       "tuple"
      ]
     },
     "execution_count": 108,
     "metadata": {},
     "output_type": "execute_result"
    }
   ],
   "source": [
    "type(x())"
   ]
  },
  {
   "cell_type": "code",
   "execution_count": 109,
   "id": "f484f65b",
   "metadata": {},
   "outputs": [],
   "source": [
    "a, b, c, d = x()"
   ]
  },
  {
   "cell_type": "code",
   "execution_count": 111,
   "id": "94527977",
   "metadata": {},
   "outputs": [
    {
     "name": "stdout",
     "output_type": "stream",
     "text": [
      "1\n",
      "2\n",
      "3\n",
      "4\n"
     ]
    }
   ],
   "source": [
    "print(a)\n",
    "print(b)\n",
    "print(c)\n",
    "print(d)"
   ]
  },
  {
   "cell_type": "code",
   "execution_count": 113,
   "id": "27477eae",
   "metadata": {},
   "outputs": [],
   "source": [
    "num = [1, 1, 1, 4, 5, 5]"
   ]
  },
  {
   "cell_type": "code",
   "execution_count": 114,
   "id": "cb8fb61d",
   "metadata": {},
   "outputs": [
    {
     "data": {
      "text/plain": [
       "1"
      ]
     },
     "execution_count": 114,
     "metadata": {},
     "output_type": "execute_result"
    }
   ],
   "source": [
    "max(num, key=num.count)  # en cok tekrar eden"
   ]
  },
  {
   "cell_type": "code",
   "execution_count": 116,
   "id": "67247c3e",
   "metadata": {},
   "outputs": [
    {
     "data": {
      "text/plain": [
       "3"
      ]
     },
     "execution_count": 116,
     "metadata": {},
     "output_type": "execute_result"
    }
   ],
   "source": [
    "num.count(max(num, key=num.count))  # tekrar sayisi"
   ]
  },
  {
   "cell_type": "code",
   "execution_count": 117,
   "id": "ea971907",
   "metadata": {},
   "outputs": [
    {
     "data": {
      "text/plain": [
       "1"
      ]
     },
     "execution_count": 117,
     "metadata": {},
     "output_type": "execute_result"
    }
   ],
   "source": [
    "num = [1, 2, 3]\n",
    "tekrar_sayisi = num.count(max(num, key=num.count))\n",
    "tekrar_sayisi"
   ]
  },
  {
   "cell_type": "code",
   "execution_count": 120,
   "id": "accdbb4f",
   "metadata": {},
   "outputs": [],
   "source": [
    "def equal(a, b, c) :\n",
    "    num = [a, b, c]\n",
    "    sonuc = num.count(max(num, key=num.count))\n",
    "    \n",
    "    if sonuc > 1 :\n",
    "        return sonuc\n",
    "    else:\n",
    "        return 0"
   ]
  },
  {
   "cell_type": "code",
   "execution_count": 121,
   "id": "d8bb1493",
   "metadata": {},
   "outputs": [
    {
     "data": {
      "text/plain": [
       "0"
      ]
     },
     "execution_count": 121,
     "metadata": {},
     "output_type": "execute_result"
    }
   ],
   "source": [
    "equal(1, 2, 3)"
   ]
  },
  {
   "cell_type": "code",
   "execution_count": 122,
   "id": "735c7d9f",
   "metadata": {},
   "outputs": [
    {
     "data": {
      "text/plain": [
       "2"
      ]
     },
     "execution_count": 122,
     "metadata": {},
     "output_type": "execute_result"
    }
   ],
   "source": [
    "equal(1, 5, 5)"
   ]
  },
  {
   "cell_type": "code",
   "execution_count": 123,
   "id": "df9728a3",
   "metadata": {},
   "outputs": [],
   "source": [
    "def equal_(* args) :\n",
    "    num = list(args)\n",
    "    sonuc = num.count(max(num, key=num.count))\n",
    "    \n",
    "    if sonuc > 1 :\n",
    "        return sonuc\n",
    "    else:\n",
    "        return 0"
   ]
  },
  {
   "cell_type": "code",
   "execution_count": 124,
   "id": "6e008f36",
   "metadata": {},
   "outputs": [
    {
     "data": {
      "text/plain": [
       "3"
      ]
     },
     "execution_count": 124,
     "metadata": {},
     "output_type": "execute_result"
    }
   ],
   "source": [
    "equal_(1,1,1,2,3,7,7,8,9,9,9)"
   ]
  },
  {
   "cell_type": "code",
   "execution_count": null,
   "id": "6afea6d8",
   "metadata": {},
   "outputs": [],
   "source": []
  },
  {
   "cell_type": "code",
   "execution_count": null,
   "id": "80fef775",
   "metadata": {},
   "outputs": [],
   "source": []
  },
  {
   "cell_type": "code",
   "execution_count": null,
   "id": "fdea2577",
   "metadata": {},
   "outputs": [],
   "source": []
  },
  {
   "cell_type": "code",
   "execution_count": null,
   "id": "55114964",
   "metadata": {},
   "outputs": [],
   "source": []
  },
  {
   "cell_type": "code",
   "execution_count": null,
   "id": "549e35c8",
   "metadata": {},
   "outputs": [],
   "source": []
  }
 ],
 "metadata": {
  "kernelspec": {
   "display_name": "Python 3 (ipykernel)",
   "language": "python",
   "name": "python3"
  },
  "language_info": {
   "codemirror_mode": {
    "name": "ipython",
    "version": 3
   },
   "file_extension": ".py",
   "mimetype": "text/x-python",
   "name": "python",
   "nbconvert_exporter": "python",
   "pygments_lexer": "ipython3",
   "version": "3.9.13"
  }
 },
 "nbformat": 4,
 "nbformat_minor": 5
}
